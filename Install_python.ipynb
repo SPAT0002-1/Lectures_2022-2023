{
 "cells": [
  {
   "cell_type": "markdown",
   "metadata": {},
   "source": [
    "# How do I install a python distribution on my personal computer ?"
   ]
  },
  {
   "cell_type": "markdown",
   "metadata": {},
   "source": [
    "The easiest way to proceed is to install first the CONDA management system: https://conda.io/docs/ (Read that doc to understand how this works). \n",
    "\n",
    "In summary, you have two choices of python distributions: \n",
    "- 1) install `anaconda`, that comes with many pre-installed python packages and easy package and environment management: https://www.anaconda.com/download/\n",
    "- 2) install `miniconda`: this is a light-weight version of `anaconda` and you only install what you want / really need. https://conda.io/miniconda.html\n",
    " \n",
    "If disc-space is not a problem, go for (1), i.e. `anaconda` (if you define multiple environments, you might easily need up to 20Gb). Option (2) is also a viable alternative. \n",
    " \n",
    "During the lecture, we use Python > 3.5. In principle python 3.6, 3.7, 3.8, 3.9 should work fine. \n",
    "Note that the use of environment allows you to install easily other versions of python (e.g. 2.7) and use that environment for specific projects. To learn more about asset of python environement within Conda: https://www.freecodecamp.org/news/why-you-need-python-environments-and-how-to-manage-them-with-conda-85f155f4353c \n",
    " \n",
    "Once anaconda is installed, you can easily install Jupyter http://jupyter.org/install, either via command line (there is an `anaconda prompt` on Windows; simply use the terminal on Linux or MacOS), or through `anaconda-navigator` (if you have installed the anaconda distribution). Anaconda-navigator can be launched from command line OR can be launched via a \"programme menu\". \n"
   ]
  },
  {
   "cell_type": "code",
   "execution_count": null,
   "metadata": {
    "collapsed": true,
    "jupyter": {
     "outputs_hidden": true
    }
   },
   "outputs": [],
   "source": []
  }
 ],
 "metadata": {
  "kernelspec": {
   "display_name": "Python [conda env:root]",
   "language": "python",
   "name": "conda-root-py"
  },
  "language_info": {
   "codemirror_mode": {
    "name": "ipython",
    "version": 3
   },
   "file_extension": ".py",
   "mimetype": "text/x-python",
   "name": "python",
   "nbconvert_exporter": "python",
   "pygments_lexer": "ipython3",
   "version": "3.8.11"
  }
 },
 "nbformat": 4,
 "nbformat_minor": 4
}
