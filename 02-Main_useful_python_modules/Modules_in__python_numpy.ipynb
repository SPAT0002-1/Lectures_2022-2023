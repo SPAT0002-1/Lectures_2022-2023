{
 "cells": [
  {
   "cell_type": "markdown",
   "metadata": {},
   "source": [
    "# Introduction to `numpy`"
   ]
  },
  {
   "cell_type": "markdown",
   "metadata": {},
   "source": [
    "This Notebook provides an overview of the capabilities of the `numpy` module. It covers Sect. II of [Modules_in__python.ipynb](Modules_in__python.ipynb). \n",
    "\n",
    "## Table of Content\n",
    "\n",
    "- [II. Numpy](#II)\n",
    "    * [II.1 Array Definition and construction](#II.1)\n",
    "    * [II.2 Array copies and views](#II.2)\n",
    "    * [II.3 Shape manipulation](#II.3)\n",
    "    * [II.4 What makes numpy Arrays useful structures ?](#II.4)\n",
    "        - [II.4.1 ufunc](#II.4.1)\n",
    "        - [II.4.2 Aggregation](#II.4.2)\n",
    "        - [II.4.3 Broadcasting](II.4.3)\n",
    "        - [II.4.4 Slicing, masking, fancy indexing](#II.4.4)\n",
    "    * [II.5 Reading arrays from a file and string formatting](#II.5)\n",
    "    * [II.6 Useful Numpy functions](#II.6)\n",
    "    * [II.7 Summary](#II.7)\n",
    "    * [II.8 References](#VI)"
   ]
  },
  {
   "cell_type": "markdown",
   "metadata": {},
   "source": [
    "## II. `numpy`:  <a class=\"anchor\" id=\"II\"></a>\n",
    "\n",
    "`numpy` can be seen as the implementation of mathematical functions and operations for python language. It also introduces one key object `arrays`. \n",
    "\n",
    "### II.1 `array` definition and construction:  <a class=\"anchor\" id=\"II.1\"></a>\n",
    "\n",
    "- A `numpy` array is an object of the type `np.ndarray` (although this type specifier is rarely used directly). Instead one can create arrays in several ways: \n",
    "\n",
    "``` python\n",
    "import numpy as np\n",
    "np.array([1,2,3,4])   # creates an array from a python list\n",
    "np.array([[0, 1, 2], [3, 4, 5]])   # Creates a 2D array from a python list\n",
    "np.empty(shape=(2,3)) # Creates an \"empty\" (entry not initialised) array with 2 rows and 3 columns \n",
    "np.arange(5) # similar to the built-in range() function.\n",
    "np.linspace(1, 10, 10) # creates an array of 10 elements from 1 to 10\n",
    "np.zeros(10)  # creates an array of 10 elements filled with 0\n",
    "np.ones(10)   # creates an array of 5 elements filled with 1\n",
    "np.zeros((2, 5))  # mulitdimensional arrays of 2 rows and 5 columns\n",
    "\n",
    "```\n",
    "- 2-D arrays of `shape=(r, c)` are arrays with `r` *rows* and `c` *columns*. "
   ]
  },
  {
   "cell_type": "code",
   "execution_count": 4,
   "metadata": {},
   "outputs": [
    {
     "data": {
      "text/plain": [
       "array([[1, 2, 3],\n",
       "       [3, 5, 5]])"
      ]
     },
     "execution_count": 4,
     "metadata": {},
     "output_type": "execute_result"
    }
   ],
   "source": [
    "# Let's try the above commands and visualise the output. \n",
    "import numpy as np\n",
    "a = np.array([[1,2,3], [3,5,5]])\n",
    "a"
   ]
  },
  {
   "cell_type": "code",
   "execution_count": 7,
   "metadata": {},
   "outputs": [
    {
     "data": {
      "text/plain": [
       "(2, 3)"
      ]
     },
     "execution_count": 7,
     "metadata": {},
     "output_type": "execute_result"
    }
   ],
   "source": [
    "np.shape(a)"
   ]
  },
  {
   "cell_type": "code",
   "execution_count": 8,
   "metadata": {},
   "outputs": [
    {
     "data": {
      "text/plain": [
       "array([[5.04e-322, 0.00e+000, 0.00e+000],\n",
       "       [0.00e+000, 0.00e+000, 0.00e+000]])"
      ]
     },
     "execution_count": 8,
     "metadata": {},
     "output_type": "execute_result"
    }
   ],
   "source": [
    "empty_array = np.empty(shape=(2,3))\n",
    "empty_array"
   ]
  },
  {
   "cell_type": "code",
   "execution_count": 9,
   "metadata": {},
   "outputs": [
    {
     "data": {
      "text/plain": [
       "array([[0., 0., 0.],\n",
       "       [0., 0., 0.]])"
      ]
     },
     "execution_count": 9,
     "metadata": {},
     "output_type": "execute_result"
    }
   ],
   "source": [
    "zero_array = np.zeros(shape=(2,3))\n",
    "zero_array"
   ]
  },
  {
   "cell_type": "code",
   "execution_count": 27,
   "metadata": {},
   "outputs": [
    {
     "data": {
      "text/plain": [
       "array([[[1., 1., 1.],\n",
       "        [1., 1., 1.]],\n",
       "\n",
       "       [[1., 1., 1.],\n",
       "        [1., 1., 1.]]])"
      ]
     },
     "execution_count": 27,
     "metadata": {},
     "output_type": "execute_result"
    }
   ],
   "source": [
    "ones_array = np.ones(shape=(2,2,3))\n",
    "ones_array  # [1,1,0]"
   ]
  },
  {
   "cell_type": "code",
   "execution_count": 11,
   "metadata": {},
   "outputs": [
    {
     "data": {
      "text/plain": [
       "numpy.ndarray"
      ]
     },
     "execution_count": 11,
     "metadata": {},
     "output_type": "execute_result"
    }
   ],
   "source": [
    "type(zero_array)"
   ]
  },
  {
   "cell_type": "code",
   "execution_count": 13,
   "metadata": {},
   "outputs": [
    {
     "data": {
      "text/plain": [
       "dtype('float64')"
      ]
     },
     "execution_count": 13,
     "metadata": {},
     "output_type": "execute_result"
    }
   ],
   "source": [
    "zero_array.dtype"
   ]
  },
  {
   "cell_type": "code",
   "execution_count": 16,
   "metadata": {},
   "outputs": [
    {
     "data": {
      "text/plain": [
       "array(['qqqq', 'a', 'f'], dtype='<U4')"
      ]
     },
     "execution_count": 16,
     "metadata": {},
     "output_type": "execute_result"
    }
   ],
   "source": [
    "array_of_string = np.array(['qqqq', 'a', 'f'], dtype=str)\n",
    "array_of_string"
   ]
  },
  {
   "cell_type": "code",
   "execution_count": 18,
   "metadata": {},
   "outputs": [
    {
     "name": "stdout",
     "output_type": "stream",
     "text": [
      "0\n",
      "1\n",
      "2\n",
      "3\n",
      "4\n"
     ]
    }
   ],
   "source": [
    "for i in range(5):\n",
    "    print(i)"
   ]
  },
  {
   "cell_type": "code",
   "execution_count": 21,
   "metadata": {},
   "outputs": [
    {
     "data": {
      "text/plain": [
       "array([0. , 0.5, 1. , 1.5, 2. , 2.5, 3. , 3.5, 4. , 4.5])"
      ]
     },
     "execution_count": 21,
     "metadata": {},
     "output_type": "execute_result"
    }
   ],
   "source": [
    "np.arange(0., 5., 0.5)"
   ]
  },
  {
   "cell_type": "code",
   "execution_count": 23,
   "metadata": {},
   "outputs": [
    {
     "data": {
      "text/plain": [
       "array([0.   , 0.625, 1.25 , 1.875, 2.5  , 3.125, 3.75 , 4.375, 5.   ])"
      ]
     },
     "execution_count": 23,
     "metadata": {},
     "output_type": "execute_result"
    }
   ],
   "source": [
    "np.linspace(0, 5, 9)"
   ]
  },
  {
   "cell_type": "markdown",
   "metadata": {},
   "source": [
    "- numpy has also tools to create arrays filled with random elements:\n",
    "\n",
    "``` python\n",
    "np.random.random(size=4)  # uniform between 0 and 1\n",
    "np.random.normal(size=4)  # elements are std-normal distributed\n",
    "\n",
    "```"
   ]
  },
  {
   "cell_type": "code",
   "execution_count": null,
   "metadata": {},
   "outputs": [],
   "source": [
    "# Try out the above commands"
   ]
  },
  {
   "cell_type": "markdown",
   "metadata": {},
   "source": [
    "- You can explicitly specify which **data-type** you want:\n",
    "\n",
    "``` python \n",
    "c = np.array([1, 2, 3], dtype=float)\n",
    "c.dtype\n",
    "    Out: dtype('float64')\n",
    "```"
   ]
  },
  {
   "cell_type": "code",
   "execution_count": null,
   "metadata": {},
   "outputs": [],
   "source": [
    "# Try out the above commands "
   ]
  },
  {
   "cell_type": "markdown",
   "metadata": {},
   "source": [
    "The default data type is floating point. Other possible data types are: \n",
    "\n",
    "* **COMPLEX** numbers: \n",
    "``` python\n",
    "d = np.array([1+2j, 3+4j, 5+6*1j])\n",
    "d.dtype\n",
    "    Out: dtype('complex128')\n",
    "```"
   ]
  },
  {
   "cell_type": "code",
   "execution_count": null,
   "metadata": {},
   "outputs": [],
   "source": [
    "# Try out the above commands "
   ]
  },
  {
   "cell_type": "markdown",
   "metadata": {},
   "source": [
    "* **BOOL**:\n",
    "``` python\n",
    "e = np.array([True, False, False, True])\n",
    "e.dtype\n",
    "    Out: dtype('bool')\n",
    "```"
   ]
  },
  {
   "cell_type": "code",
   "execution_count": null,
   "metadata": {},
   "outputs": [],
   "source": [
    "# Try out the above commands "
   ]
  },
  {
   "cell_type": "markdown",
   "metadata": {},
   "source": [
    "* **String**:\n",
    "``` python\n",
    "f = np.array(['abc', 'eddafg', 'hjk'])\n",
    "f.dtype\n",
    "    Out: dtype('S6')   # <--- String of 6 characters (by default largest elements of the array \n",
    "```"
   ]
  },
  {
   "cell_type": "code",
   "execution_count": null,
   "metadata": {},
   "outputs": [],
   "source": [
    "# Try out the above commands "
   ]
  },
  {
   "cell_type": "markdown",
   "metadata": {},
   "source": [
    "* **Other data types**:  `int32`, `int64`, `uint32`, `uint64`  (uint = unsigned integer => only positive integers)"
   ]
  },
  {
   "cell_type": "markdown",
   "metadata": {},
   "source": [
    "Note that `type(f)` tells you that `f` is a numpy array, while `f.dtype` gives you the *type of the elements* containted in `f`. `dtype` is an attribute of the object `np.array`. If you try to access the attribute dtype of a List, you will get an error message. "
   ]
  },
  {
   "cell_type": "code",
   "execution_count": null,
   "metadata": {},
   "outputs": [],
   "source": [
    "# Difference between type/dtype; application to List/arrays.\n",
    "f = np.array(['abc', 'eddafg', 'hjk'])\n",
    "print(type(f))\n",
    "print(f.dtype)\n",
    "print('----------')\n",
    "L = ['abc', 'eddafg', 'hjk']\n",
    "print(type(L))\n",
    "print(L.dtype)"
   ]
  },
  {
   "cell_type": "markdown",
   "metadata": {},
   "source": [
    "- Last but not least, `numpy` is also the package that allows you to calculate many common mathematical function (see also [`ufunc`](#II.4.1)): `np.log10()` (base 10 log), `np.log()` (natural log), `np.exp()`, `np.sin()`, `np.cos()`, etc. See the list of `numpy` mathematical functions [here](https://docs.scipy.org/doc/numpy/reference/routines.math.html)"
   ]
  },
  {
   "cell_type": "code",
   "execution_count": null,
   "metadata": {},
   "outputs": [],
   "source": [
    "# create an array of floats and calculate its log / sin / ... \n",
    "#x = np.linspace(-2*np.pi, 2*np.pi, 20.)\n",
    "np.log(2.3)"
   ]
  },
  {
   "cell_type": "markdown",
   "metadata": {},
   "source": [
    "**Exercise:**   \n",
    "For the array:\n",
    "``` python\n",
    "a = np.array([[1,2,3,4], [4,5,6,7], [2,3,4,5] ])\n",
    "```\n",
    "- What is the output of `a.ndim`, `a.shape`, `len(a)` ?     \n",
    "- How does the above commands relate to the rows, columns, dimensions ?       \n",
    "- How do you access 2nd item of the first row ?   \n",
    "\n",
    "*Note:* \n",
    "Try to do the same with the following array:\n",
    "``` python\n",
    "b = np.array([[1,2,3], []])\n",
    "```"
   ]
  },
  {
   "cell_type": "code",
   "execution_count": null,
   "metadata": {},
   "outputs": [],
   "source": []
  },
  {
   "cell_type": "code",
   "execution_count": null,
   "metadata": {},
   "outputs": [],
   "source": []
  },
  {
   "cell_type": "markdown",
   "metadata": {},
   "source": [
    "**Exercise:** Elementwise operations\n",
    "\n",
    "In the code cell below, try simple arithmetic elementwise operations: \n",
    "- add even elements with odd elements using 2 different techniques (slicing and list comprehension)\n",
    "- Time the two solution using %timeit.\n",
    "- Generate an array from a list made of strings and floats. What is the final array type ?\n",
    "- Generate 2 arrays such that their elements are as follow :    \n",
    "   `[2^0, 2^1, 2^2, 2^3, 2^4]`    \n",
    "   `a_i = 2^(3*i) - i `    \n",
    "   \n",
    "Expected output: \n",
    "``` python\n",
    "[1 2 4 8 16]    \n",
    "[  1   7  62 509]    \n",
    "```"
   ]
  },
  {
   "cell_type": "code",
   "execution_count": null,
   "metadata": {},
   "outputs": [],
   "source": []
  },
  {
   "cell_type": "markdown",
   "metadata": {},
   "source": [
    "### II.2 `array` copies and views:   <a class=\"anchor\" id=\"II.2\"></a>\n",
    "\n",
    "A slicing operation creates a **view** on the original array, which is just a way of accessing array data. Thus the original array is not copied in memory. More information about copies and views can be found in [Modules_in_python_numpy_adv.ipynb](Modules_in_python_numpy_adv.ipynb), but can be ignored if this is your first contact with `numpy`. "
   ]
  },
  {
   "cell_type": "markdown",
   "metadata": {},
   "source": [
    "### II.3 Array shape manipulation <a class=\"anchor\" id=\"II.3\"></a>\n",
    "\n",
    "There are various possibilities to modify arrays (e.g. adding a row/column, shuffle columns, flatten, resize,...). They are discussed in details in [Modules_in_python_numpy_adv.ipynb](Modules_in_python_numpy_adv.ipynb). Let's focus here on array reshaping (which allows to perform several of the operations outlined above). "
   ]
  },
  {
   "cell_type": "markdown",
   "metadata": {},
   "source": [
    "- **II.3.1 Reshaping**:   \n",
    "The method `reshape(newshape)` allows one to reorganise the elements of an array, to create a \"new\" array (see below) that has a different shape. The total number of items of the array has to be the same ! This method can also be used to add an axis or to flatten an array. "
   ]
  },
  {
   "cell_type": "code",
   "execution_count": null,
   "metadata": {},
   "outputs": [],
   "source": [
    "a = np.array([[1, 2, 3], [4, 5, 6]])\n",
    "print(a, a.shape) \n",
    "b = a.reshape((2, 3))\n",
    "b"
   ]
  },
  {
   "cell_type": "code",
   "execution_count": null,
   "metadata": {},
   "outputs": [],
   "source": [
    "# Alternatively \n",
    "a.reshape((2, -1))    # unspecified (-1) value is inferred"
   ]
  },
  {
   "cell_type": "markdown",
   "metadata": {},
   "source": [
    "### II.4 What makes `numpy` arrays useful structures ?  <a class=\"anchor\" id=\"II.4\"></a>\n",
    "\n",
    "Python is fast *for coding and developping* but python is slow when it comes to *execution*, especially when it comes to execution of `for` loops.    \n",
    "The reason behind this low speed is e.g. that when it does `for a in range(10): a + b`, it has to check the `type` of `a`, of `b` and of *each value* in those lists before executing. \n",
    "\n",
    "`numpy` helps speeding up code through 4 strategies:\n",
    "1. `ufunc`\n",
    "2. aggregation\n",
    "3. broadcasting\n",
    "4. slicing, masking, fancy indexing"
   ]
  },
  {
   "cell_type": "markdown",
   "metadata": {},
   "source": [
    "#### II.4.1 `ufunc`: operates elementwise on objects. <a class=\"anchor\" id=\"II.4.1\"></a>\n",
    "\n",
    "Those `ufunc` (universal functions) are included (compiled) in `numpy` and consist of fast elementwise operations. They include: \n",
    "\n",
    "- all mathematic operation: +, -, /, *, `***` \n",
    "- Mathematical expressions: sin, exp, cos, log10, ... \n",
    "- Comparison operators <, >, =, ...\n",
    "- etc ... \n",
    "\n",
    "**Example:**\n",
    "``` python\n",
    "import numpy as np\n",
    "# Basic python\n",
    "a = [1,2,3,4,5]\n",
    "b = [ val + 5 for val in a]   # add 5 to each element of the list  \n",
    "# In numpy\n",
    "a = np.array(a)\n",
    "b = a + 5                     # add 5 to each element of the array.\n",
    "```"
   ]
  },
  {
   "cell_type": "code",
   "execution_count": null,
   "metadata": {},
   "outputs": [],
   "source": [
    "a = [1,2,3,4,5]\n",
    "b = [ val + 5 for val in a]   # add 5 to each element of the list\n",
    "b"
   ]
  },
  {
   "cell_type": "code",
   "execution_count": null,
   "metadata": {},
   "outputs": [],
   "source": [
    "a = np.array(a)\n",
    "b = a + 5   \n",
    "b"
   ]
  },
  {
   "cell_type": "code",
   "execution_count": null,
   "metadata": {},
   "outputs": [],
   "source": [
    "# implement the above example for a list of 1000 elements \n",
    "# use %timeit before calculating b to see improvement in speed\n",
    "a_a = np.arange(1000)\n",
    "%timeit a_a+5"
   ]
  },
  {
   "cell_type": "code",
   "execution_count": null,
   "metadata": {},
   "outputs": [],
   "source": [
    "a_l = range(1000)\n",
    "%timeit [val + 5 for val in a_l]"
   ]
  },
  {
   "cell_type": "markdown",
   "metadata": {},
   "source": [
    "#### II.4.2 *aggregation*:   <a class=\"anchor\" id=\"II.4.2\"></a>\n",
    "\n",
    "Functions which summarize values of an array such as `min`, `max`, `sum`, `mean`, ... \n",
    "\n",
    "**Example:**\n",
    "\n",
    "``` python\n",
    "# python version of an aggregation\n",
    "from numpy import random \n",
    "c_list = [random.random_sample() for i in range(10000)]\n",
    "%timeit min(c_list)\n",
    "#same in numpy:\n",
    "c = np.array(c_list)\n",
    "%timeit c.min()  \n",
    "```\n",
    "This also works on multidimensional arrays: \n",
    "\n",
    "``` python \n",
    "M = np.random.randint(0, 10, (10,4))\n",
    "M.sum(axis=0)\n",
    "M.sum(axis=1)\n",
    "```\n",
    "\n",
    "Aggregation available: \n",
    "`c.min()`, `c.max`, `c.prod()`, `c.mean()`, `c.std()`, `c.any()`, `c.all()`, `c.nanmin()` (and nan versions of above aggregation), `c.argmin()`, `c.argmax()`,  ...\n"
   ]
  },
  {
   "cell_type": "code",
   "execution_count": null,
   "metadata": {},
   "outputs": [],
   "source": []
  },
  {
   "cell_type": "code",
   "execution_count": null,
   "metadata": {},
   "outputs": [],
   "source": []
  },
  {
   "cell_type": "markdown",
   "metadata": {},
   "source": [
    "#### II.4.3 *Broadcasting*:   <a class=\"anchor\" id=\"II.4.3\"></a>\n",
    "\n",
    "Set of rules by which `ufuncs` operates on arrays of different sizes and/or dimensions. \n",
    "\n",
    "The term [broadcasting](https://docs.scipy.org/doc/numpy/user/basics.broadcasting.html) describes how `numpy` treats arrays with different shapes during arithmetic operations. Subject to certain constraints, the smaller array is “broadcast” across the larger array so that they have compatible shapes. Broadcasting provides a means of vectorizing array operations so that looping occurs in C instead of Python. It does this without making needless copies of data and usually leads to efficient algorithm implementations. There are, however, cases where broadcasting is a bad idea because it leads to inefficient use of memory that slows computation.\n",
    "Application to three cases: \n",
    "\n",
    "![From astroML book](../Figures/fig_broadcast_visual_1.png)\n",
    "\n",
    "\n",
    "\n",
    "The rules / how this works:\n",
    "\n",
    "* If array shapes differ, left-pad the smaller shape with 1s \n",
    "* If any dimension does not match, broadcast the dimension with size 1\n",
    "* If neither non matching dimensions is 1 raise an error\n",
    "\n",
    "This broadcasting strategy allows one to avoid doing `for` loops for some operations. \n"
   ]
  },
  {
   "cell_type": "markdown",
   "metadata": {},
   "source": [
    "#### II.4.4 Slicing, masking and fancy indexing:    <a class=\"anchor\" id=\"II.4.4\"></a>\n",
    "\t \n",
    "- **Mask**: a mask is a boolean array that can be used to \"mask\" some indices of an array: \n",
    "\n",
    "``` python\n",
    "mask = np.array([False, False, True, False, True, False])\n",
    "c = np.array([1, 3, 6, 9, 10, 2])\n",
    "c[mask]\n",
    "    Out: array([6, 10])\n",
    "    \n",
    "mask = (c < 4) | (c > 8)\n",
    "c[mask]\n",
    "    Out: array([1, 3, 9, 10, 2])\n",
    "```\n",
    " "
   ]
  },
  {
   "cell_type": "code",
   "execution_count": null,
   "metadata": {},
   "outputs": [],
   "source": []
  },
  {
   "cell_type": "code",
   "execution_count": null,
   "metadata": {},
   "outputs": [],
   "source": []
  },
  {
   "cell_type": "code",
   "execution_count": null,
   "metadata": {},
   "outputs": [],
   "source": []
  },
  {
   "cell_type": "markdown",
   "metadata": {},
   "source": [
    "- **Fancy indexing**: passing a list/array of indices to get elements of a numpy array  (this only works for arrays !) This avoids to loop over the indices. \n",
    "\n",
    "``` python\n",
    "ind = [1, 3, 4]\n",
    "c[ind]  \n",
    "   Out: array([3, 9, 10])\n",
    "```"
   ]
  },
  {
   "cell_type": "code",
   "execution_count": null,
   "metadata": {},
   "outputs": [],
   "source": []
  },
  {
   "cell_type": "markdown",
   "metadata": {},
   "source": [
    "- **Multi-dimensional** array: \n",
    "\n",
    "We can apply mask and fancy indexing in multidimension.   \n",
    "Remember that first index is row, and second is column.   \n",
    "Remember how slicing works: `a[start:end:step]`   : \n",
    "- Omitting one value goes up to the end of the sequence. \n",
    "- Omitting the second \"colon\" implies step=1.  \n",
    "- With negative steps you count backward\n",
    "- Start/step can be either positive or negative indices (but then you count from the end). "
   ]
  },
  {
   "cell_type": "code",
   "execution_count": null,
   "metadata": {},
   "outputs": [],
   "source": [
    "a = np.arange(10)\n",
    "print(a)\n",
    "a[a>3]"
   ]
  },
  {
   "cell_type": "markdown",
   "metadata": {},
   "source": [
    "``` python\n",
    "M = np.arange(12).reshape((3,4))\n",
    "    Out: \n",
    "    array([[ 0,  1,  2,  3],\n",
    "           [ 4,  5,  6,  7],\n",
    "           [ 8,  9, 10, 11]])\n",
    "\n",
    "M[0,1] # gives value at row 0 and column 1. \n",
    "M[:, 1]  # Combines slices and indices -> all rows of column one\n",
    "M[M-3 < 2]# can also do masking of n dimensional array\n",
    "M[[1,0], :2] # Use fancy indexing and slicing - 1st 2 elements, of rows 1 and 2\n",
    "M[M.sum(axis=1) > 2, 4:] # mixing masking and slicing \n",
    "```\n",
    "\n",
    "An illustration of indexing in numpy arrays:\n",
    "![Illustration of `np` indexing](../Figures/numpy_indexing.png)\n",
    "\n",
    "**Exercise**:\n",
    "- Try the different flavours of slicing, using start, end and step: starting from a linspace, try to obtain odd numbers counting backwards, and even numbers counting forwards. Expected Output: `[9 7 5 3 1]` and `[ 0  2  4  6  8 10]` \n",
    "\n",
    "- Reproduce the slices in the diagram above. You may use the following expression to create the array:    \n",
    "`np.arange(6) + np.arange(0, 51, 10)[:, np.newaxis]`"
   ]
  },
  {
   "cell_type": "code",
   "execution_count": null,
   "metadata": {},
   "outputs": [],
   "source": [
    "aa = np.linspace(0, 10, 11, dtype=int)\n",
    "# odd numbers counting backwards\n",
    "\n",
    "# Even numbers counting forward\n"
   ]
  },
  {
   "cell_type": "code",
   "execution_count": null,
   "metadata": {},
   "outputs": [],
   "source": [
    "# Implement the exercise above\n"
   ]
  },
  {
   "cell_type": "code",
   "execution_count": null,
   "metadata": {},
   "outputs": [],
   "source": []
  },
  {
   "cell_type": "code",
   "execution_count": null,
   "metadata": {},
   "outputs": [],
   "source": []
  },
  {
   "cell_type": "markdown",
   "metadata": {},
   "source": [
    "### II.5 Reading arrays from a file and string formatting:    <a class=\"anchor\" id=\"II.5\"></a>\n",
    "\n",
    "There are now multiple modules existing to manipulate data saved in files (text files or many others). Often, we simply want/have to read a table and do operations on it. This can be done easily within `numpy`: there is a simple pair of commands to read/write a 2D array into a text file: reading tables saved in a formated text file can be done with `numpy.loadtxt('myfile.txt')`, while saving your array is done with `numpy.savetxt('myfile.txt')`.   "
   ]
  },
  {
   "cell_type": "code",
   "execution_count": null,
   "metadata": {},
   "outputs": [],
   "source": [
    "data = np.loadtxt('data.txt')"
   ]
  },
  {
   "cell_type": "markdown",
   "metadata": {},
   "source": [
    "#### II.5.1 What if my input/output file is not just a simple array ? \n",
    "\n",
    "More advanced functions exist in `numpy` to read text/csv files, accounting fro missing values, excluding columns, guess data type ... See [Modules_in_python_numpy_adv.ipynb](Modules_in_python_numpy_adv.ipynb) to learn about them. \n",
    "\n",
    "To deal with more advanced table formating, I strongly encourage you to look at the following two modules that generate specific objects with a bit more capabilities than arrays: \n",
    "\n",
    "- `Table` and `QTable` (table that manipulates quantities) objects in `astropy.table` and : https://docs.astropy.org/en/stable/table/ . `Table` objects may be sufficient for most of your needs and manages many different formats (including csv, latex, rdb, hdf5, ...). Conversion to/from numpy arrays and to/from `pandas.DataFrame` is often possible. Within Jupyter Notebooks, Tables are also \"pretty printed\", which eases analysis. \n",
    "\n",
    "- `DataFrame` and `Series` objects in `pandas`: https://pandas.pydata.org/pandas-docs/stable/getting_started/overview.html. Those objects/structures are commonly used in data science and machine learning. They manage an even larger variety of input files than `astropy.table` (e.g. excel and sql tables, pickle objects, ...) but Dataframe, being more versatile that astropy Tables, can also be trickier to manipulate. "
   ]
  },
  {
   "cell_type": "code",
   "execution_count": null,
   "metadata": {},
   "outputs": [],
   "source": []
  },
  {
   "cell_type": "markdown",
   "metadata": {},
   "source": [
    "#### II.5.2. What if my input file mixes columns and normal rows ?"
   ]
  },
  {
   "cell_type": "markdown",
   "metadata": {},
   "source": [
    "The lower-level manipulation of a text file is through the used of the `file()` object. \n",
    "For this, three operations are generally needed: \n",
    "\n",
    "``` python\n",
    "with open('myfile.txt', 'r') as f: # 'r' for read mode, 'w' for write mode, 'a' for append mode)\n",
    "    read_data = f.read() # this would read the whole file as a single string ; other methods allow one more flexible read\n",
    "\n",
    "# One can also do the following (see below) but there is the risk to get the file not being properly closed. \n",
    "f = open('myfile.txt', 'r')  \n",
    "f.read()  \n",
    "f.close() \n",
    "```\n",
    "\n",
    "If you do `f.read()` twice, you will see an empty string ... as the object instance then \"points\" to the end of the file, and there is nothing left to read. Somehow, the methods that access the file object go sequentially through the \"string content\" of that object. With `read()` you take the string as a whole (which could be a problem memory-wise if the file is large !). \n"
   ]
  },
  {
   "cell_type": "code",
   "execution_count": null,
   "metadata": {},
   "outputs": [],
   "source": [
    "with open('data.txt', 'r') as f: \n",
    "    read_data = f.read() "
   ]
  },
  {
   "cell_type": "markdown",
   "metadata": {},
   "source": [
    "The function `readlines()` reads in the whole file and splits it into a **list** of lines. \n",
    "``` python\n",
    "f = open('myfile.txt', 'r')\n",
    "for line in f.readlines():\n",
    "    print(repr(line))\n",
    "```"
   ]
  },
  {
   "cell_type": "code",
   "execution_count": null,
   "metadata": {},
   "outputs": [],
   "source": [
    "f = open('data.txt', 'r')\n",
    "a = f.readlines()\n",
    "a"
   ]
  },
  {
   "cell_type": "code",
   "execution_count": null,
   "metadata": {},
   "outputs": [],
   "source": [
    "a[10].replace('.', ',')"
   ]
  },
  {
   "cell_type": "code",
   "execution_count": null,
   "metadata": {},
   "outputs": [],
   "source": [
    "a"
   ]
  },
  {
   "cell_type": "code",
   "execution_count": null,
   "metadata": {},
   "outputs": [],
   "source": [
    "f = open('data.txt', 'r')\n",
    "for line in f.readlines():\n",
    "    print(repr(line))"
   ]
  },
  {
   "cell_type": "code",
   "execution_count": null,
   "metadata": {},
   "outputs": [],
   "source": []
  },
  {
   "cell_type": "markdown",
   "metadata": {},
   "source": [
    " Once a line is read, it is possible to apply string methods, as on normal string:    \n",
    "- Remove `\\n`: `line.strip()`\n",
    "- Split the string into list of strings: `line.split()`\n",
    "- Replace a specific character by another: `line.replace(',', '.')`  replaces each comma by a dot.\n",
    "- Access a specific element of a splitted list and convert it to float: `float(line.split()[2])`\n",
    "\n",
    "#### II.5.3: Saving an array into a file: \n",
    "\n",
    "To write a file, you basically follow the same procedure: \n",
    "``` python\n",
    "with open('myfile.txt', 'w') as f:\n",
    "    f.writelines(mylist_of_lines)   # mylist_of_lines contains the lines you want to write. Ensure that they end with `\\n`\n",
    "\n",
    "# you can also use:\n",
    "    f.write(mylist_of_lines[0]+mylist_of_lines[1]+ ... + mylist_of_lines_[n])  # you can use list comprenhesion as argument\n",
    "```\n",
    "\n",
    "**Exercise:**\n",
    "\n",
    "Read the file `data.txt` and display the some columns you care about for that file using:\n",
    "- the file object\n",
    "- Try to do the same using `numpy.loadtxt()`        \n",
    "- Try to build a numpy array with the data in data.txt as read using `f = open('data.txt')`. \n",
    "- Modify 1 column of the file (replace it with 0) and write the results in `data_new.txt`\n"
   ]
  },
  {
   "cell_type": "code",
   "execution_count": null,
   "metadata": {},
   "outputs": [],
   "source": []
  },
  {
   "cell_type": "markdown",
   "metadata": {},
   "source": [
    "#### II.5.4 Formatting Strings\n",
    "\n",
    "It often happens that you do not need to save all the decimals of a number, or would like to see it in scientific notation. There are [multiple ways to do it](https://docs.python.org/3/tutorial/inputoutput.html). One could spend (boring) hours describing all possible ways to format strings. The main 2 options are described below. You may look at https://pyformat.info/ to skim through various examples of formatting. The options described below explains you the basics and points you to relevant documentation.  A slightly more expanded version of this section can be consulted in [Modules_in_python_numpy_adv.ipynb](Modules_in_python_numpy_adv.ipynb)\n",
    "\n",
    "- **Option 1**: `printf-style` (simple (old style) but not universal) \n",
    "\n",
    "You can use the `%` operator to specify the formatting of the variable you want to show at the screen or save in a file. The variable does not appear explicitly in the string but after it in a tuple, preceded by the `%`. Within the string, the `%` operator will be followed by a format string such as `%f` for a float or `%e` for scientific notation. The sequence `'%.2f'%variable` basically tells that the `%` operator converts the `variable` into a float with 2 digits after the dot. This is generalized to a sequence of variable, by defining the tuple object that contains all the variables to be formatted (but you need to specify the format you want for those, the association between the format and the variable being done easily as you have put your variable into a tuple-object). \n",
    "\n",
    "Example:\n",
    "``` python\n",
    "print('%i is the square of %i' %(4.000, 2))\n",
    "    Out: 4 is the square of 2\n",
    "```\n",
    "Here are some commonly used formatting characters:\n",
    "- `%s`: String (or any object with a string representation, like numbers)\n",
    "- `%d` or `%i`: Integers\n",
    "- `%.<number_of_digits>f`: Floating point numbers with fixed number of digits to the right of the dot. \n",
    "- `%.<number_of_digits>e`: scientific notation with fixed number of digits to the right of the dot.\n",
    "You may find more about string formatting in [python 2 documentation](https://docs.python.org/2/library/stdtypes.html#string-formatting).  \n"
   ]
  },
  {
   "cell_type": "code",
   "execution_count": null,
   "metadata": {},
   "outputs": [],
   "source": [
    "# Experiment with the above examples "
   ]
  },
  {
   "cell_type": "code",
   "execution_count": null,
   "metadata": {},
   "outputs": [],
   "source": []
  },
  {
   "cell_type": "markdown",
   "metadata": {},
   "source": [
    "- **Option 2**: `str.format()` method\n",
    "\n",
    "This is a much more flexible and general method described in details at https://docs.python.org/3/library/string.html#formatstrings. Format strings contain `replacement fields` surrounded by curly braces `{}`. This looks like: \n",
    "\n",
    "``` python\n",
    "'val1 = {0:format_spec} and val2 = {1:format_spec}'.format(val1, val2)\n",
    "```\n",
    "\n",
    "Anything that is *not* contained in braces is considered literal text, which is *copied unchanged to the output*. See [here](https://docs.python.org/3/library/string.html#format-specification-mini-language) and [here](https://pyformat.info/) for more details and EXAMPLES. \n",
    "\n",
    "Example:\n",
    "``` python\n",
    "print('{0:.0f} is the square of {1:n}'.format(4.000, 2))\n",
    "    Out: 4 is the square of 2\n",
    "```\n",
    "If you wich a float representation with 2 decimals: `{0:.2f}`\n",
    "You can also use the positional argument to revert the output:\n",
    "``` python\n",
    "print('{1:.0f} is the square of {0:n}'.format(2, 4.000))\n",
    "    Out: 4 is the square of 2\n",
    "```\n",
    "\n",
    "**Note**: \n",
    "- About `conversion field`: There are 3 possible conversions flags: `!s` which calls [str()](https://docs.python.org/3/library/stdtypes.html#str) on the value, `!r` which calls [repr()](https://docs.python.org/3/library/functions.html#repr) and `!a` which calls [ascii()](https://docs.python.org/3/library/functions.html#ascii).\n",
    "- About `format_spec`: \n",
    "See https://docs.python.org/3/library/string.html#format-specification-mini-language"
   ]
  },
  {
   "cell_type": "code",
   "execution_count": null,
   "metadata": {},
   "outputs": [],
   "source": [
    "# Experiment with the above examples "
   ]
  },
  {
   "cell_type": "code",
   "execution_count": null,
   "metadata": {},
   "outputs": [],
   "source": []
  },
  {
   "cell_type": "code",
   "execution_count": null,
   "metadata": {},
   "outputs": [],
   "source": [
    "# Create three float variables a, b, c and give them some value (e.g. a=2.3, b=3, c=-5). \n",
    "# Print the sentence: `a=2.00, b=3 and c=-5.00e+00` using the formating format described above."
   ]
  },
  {
   "cell_type": "code",
   "execution_count": null,
   "metadata": {},
   "outputs": [],
   "source": [
    "# Create a 1-D array of 5 floats and print their value with 2 digits floats. TIP: use list comprehension"
   ]
  },
  {
   "cell_type": "markdown",
   "metadata": {},
   "source": [
    "**Note**: There is another very useful way in python to save \"full objects\" and access and use them later using all their characteristics. This can be done by importing the `pickle` [module](https://docs.python.org/2/library/pickle.html), or even better (faster) [cPickle]( http://docs.python.org/library/pickle.html#module-cPickle). When you want to write a pickle into a file, simply open your file (`pkl_file = open()`), use `pickle.dump(obj, pkl_file, protocol=-1)`, and close your file (`pkl_file.close()`). To read an object saved in a pickle file, you can follow the same procedure but use `\tobj = pickle.load(pkl_file)` instead of `pickle.dump()`. The `pandas` module also allows you to read/write pickle objects: see `pandas.read_pickle()` and `pandas.to_pickle()`"
   ]
  },
  {
   "cell_type": "markdown",
   "metadata": {},
   "source": [
    "### II.6 Other useful numpy function:  <a class=\"anchor\" id=\"II.6\"></a>\n",
    "\n",
    "There are many useful functions for manipulating arrays, finding elements, compare arrays, ... that are predefined. Do not hesitate to have a look at the `numpy` help. I list below a few \"must-know\". You may consult [Modules_in_python_numpy_adv.ipynb](Modules_in_python_numpy_adv.ipynb) for a compilation of \"may-know\" (i.e. 75\\% chance that one of them will save your day in a project).\n",
    "\n",
    "- `np.sort(a)`: Returns sorted copy of an array along a specific axis (default = last axis)\n",
    "- `np.searchsorted(a, v)`: Find indices where elements should be inserted to maintain order.\n",
    "- `np.concatenate(a1, a2, ...)`: Join a sequence of arrays along an existing axis.\n",
    "- `np.hstack(tup)` / `np.vstack(tup)`: Stack arrays in sequence horizontally/vertically (column-/row- wise).\n",
    "- `np.where(condition, [x, y])`: Return elements chosen from `x` or `y` depending on `condition`.\n"
   ]
  },
  {
   "cell_type": "code",
   "execution_count": null,
   "metadata": {},
   "outputs": [],
   "source": []
  },
  {
   "cell_type": "markdown",
   "metadata": {},
   "source": [
    "### II.7 Summary:   <a class=\"anchor\" id=\"II.7\"></a>\n",
    "\n",
    "What do you need to know to get started?\n",
    "\n",
    "- Know how to create arrays : `np.array`, `np.arange`, `np.ones`, `np.zeros`, `np.linspace()`.\n",
    "\n",
    "- Know the shape of the array with `array.shape`, then use *slicing* to obtain different views of the array: `array[start:end:step]` (and variations around that syntax). Adjust the shape of the array using reshape or flatten it with ravel.\n",
    "\n",
    "- Obtain a subset of the elements of an array and/or modify their values with masks (`a[a < 0] = 0`).\n",
    "\n",
    "- Know miscellaneous operations on arrays, such as finding the mean or max (`ufunct`: `array.max()`, `array.mean()`). Have the reflex to search in the documentation (online docs, `help()`, `np.lookfor()`) when you do not remember exact syntax of a function !!\n",
    "\n",
    "- Master the *indexing* with arrays of integers, as well as *broadcasting*. Know more NumPy functions to handle various array operations.\n",
    "\n",
    "- Be able to read/write data into a file, and format numbers at screen (or when writing them into files): `open()`, `close()`, `np.savetxt()/np.loadtxt()`, use of `%` operator and the `.format()` string method. \n"
   ]
  },
  {
   "cell_type": "markdown",
   "metadata": {},
   "source": [
    "## II.8 References and supplementary material: <a class=\"anchor\" id=\"VI\"></a>\n",
    "\n",
    "- Excellent video introducing numpy (and that inspired part of the numpy section of this notebook) by J. Vandeplas: https://www.youtube.com/watch?v=EEUXKG97YRw\n",
    "\n",
    "- Numpy quick-start: https://docs.scipy.org/doc/numpy-dev/user/quickstart.html\n",
    "\n",
    "- About string formatting: https://docs.python.org/3/tutorial/inputoutput.html"
   ]
  },
  {
   "cell_type": "code",
   "execution_count": null,
   "metadata": {},
   "outputs": [],
   "source": []
  }
 ],
 "metadata": {
  "anaconda-cloud": {},
  "kernelspec": {
   "display_name": "Python 3",
   "language": "python",
   "name": "python3"
  },
  "language_info": {
   "codemirror_mode": {
    "name": "ipython",
    "version": 3
   },
   "file_extension": ".py",
   "mimetype": "text/x-python",
   "name": "python",
   "nbconvert_exporter": "python",
   "pygments_lexer": "ipython3",
   "version": "3.7.9"
  }
 },
 "nbformat": 4,
 "nbformat_minor": 4
}
