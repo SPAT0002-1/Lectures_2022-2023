{
 "cells": [
  {
   "cell_type": "markdown",
   "id": "04fb636c",
   "metadata": {},
   "source": [
    "# Useful commands to solve the exercises"
   ]
  },
  {
   "cell_type": "markdown",
   "id": "258234bd",
   "metadata": {},
   "source": [
    "### Length of a list "
   ]
  },
  {
   "cell_type": "code",
   "execution_count": 5,
   "id": "fb8ddcec",
   "metadata": {},
   "outputs": [
    {
     "name": "stdout",
     "output_type": "stream",
     "text": [
      "this list contains 6 elements\n"
     ]
    }
   ],
   "source": [
    "# Length of a list: len(L)\n",
    "L = [1, 2, 4, 4, 4, 5]\n",
    "print('this list contains %i elements'% len(L))  "
   ]
  },
  {
   "cell_type": "markdown",
   "id": "7523f771",
   "metadata": {},
   "source": [
    "Use len() if you loop over the number of elements, your code does not have to be changed if you change the input list (size). "
   ]
  },
  {
   "cell_type": "markdown",
   "id": "fc88ed75",
   "metadata": {},
   "source": [
    "### Command input()"
   ]
  },
  {
   "cell_type": "code",
   "execution_count": 7,
   "id": "77446760",
   "metadata": {},
   "outputs": [
    {
     "name": "stdout",
     "output_type": "stream",
     "text": [
      "What time is it?16:10\n",
      "it is 16:10\n"
     ]
    }
   ],
   "source": [
    "# Command \"input\" to interactively enter a value \n",
    "time = input('What time is it?')\n",
    "print('it is %s'% time)"
   ]
  },
  {
   "cell_type": "code",
   "execution_count": 8,
   "id": "6dbc783f",
   "metadata": {},
   "outputs": [
    {
     "name": "stdout",
     "output_type": "stream",
     "text": [
      "<class 'str'>\n"
     ]
    }
   ],
   "source": [
    "print(type(time))"
   ]
  },
  {
   "cell_type": "markdown",
   "id": "caa82ab6",
   "metadata": {},
   "source": [
    "### Conversion of/to int / float"
   ]
  },
  {
   "cell_type": "code",
   "execution_count": 9,
   "id": "c2412ec2",
   "metadata": {},
   "outputs": [
    {
     "name": "stdout",
     "output_type": "stream",
     "text": [
      "<class 'float'> <class 'int'> <class 'float'>\n",
      "34325.0 34325 34325.0\n"
     ]
    }
   ],
   "source": [
    "# int from a float\n",
    "my_float = 34325. \n",
    "my_int = int(my_float)\n",
    "my_second_float = float(my_int)\n",
    "print(type(my_float), type(my_int), type(my_second_float))\n",
    "print(my_float, my_int, my_second_float)"
   ]
  },
  {
   "cell_type": "markdown",
   "id": "baeed8be",
   "metadata": {},
   "source": [
    "### Rounding, floor and ceil"
   ]
  },
  {
   "cell_type": "code",
   "execution_count": 11,
   "id": "792f9b8d",
   "metadata": {},
   "outputs": [
    {
     "data": {
      "text/plain": [
       "(234, 235)"
      ]
     },
     "execution_count": 11,
     "metadata": {},
     "output_type": "execute_result"
    }
   ],
   "source": [
    "round(234.5), round(234.6)"
   ]
  },
  {
   "cell_type": "code",
   "execution_count": 12,
   "id": "d7deade4",
   "metadata": {},
   "outputs": [],
   "source": [
    "import numpy as np"
   ]
  },
  {
   "cell_type": "code",
   "execution_count": 13,
   "id": "e7f5a22c",
   "metadata": {},
   "outputs": [
    {
     "data": {
      "text/plain": [
       "234.0"
      ]
     },
     "execution_count": 13,
     "metadata": {},
     "output_type": "execute_result"
    }
   ],
   "source": [
    "np.floor(234.8)"
   ]
  },
  {
   "cell_type": "code",
   "execution_count": 14,
   "id": "2b94a494",
   "metadata": {},
   "outputs": [
    {
     "data": {
      "text/plain": [
       "235.0"
      ]
     },
     "execution_count": 14,
     "metadata": {},
     "output_type": "execute_result"
    }
   ],
   "source": [
    "np.ceil(234.8)"
   ]
  },
  {
   "cell_type": "markdown",
   "id": "0517f301",
   "metadata": {},
   "source": [
    "### Reshape an array"
   ]
  },
  {
   "cell_type": "code",
   "execution_count": 15,
   "id": "3b34e6d0",
   "metadata": {},
   "outputs": [
    {
     "data": {
      "text/plain": [
       "(2, 2)"
      ]
     },
     "execution_count": 15,
     "metadata": {},
     "output_type": "execute_result"
    }
   ],
   "source": [
    "a = np.array([1,2,3,5])\n",
    "a_reshaped = a.reshape((2,2))\n",
    "a_reshaped.shape"
   ]
  },
  {
   "cell_type": "code",
   "execution_count": null,
   "id": "bd72de0d",
   "metadata": {},
   "outputs": [],
   "source": []
  }
 ],
 "metadata": {
  "kernelspec": {
   "display_name": "Python [conda env:intel-python3] *",
   "language": "python",
   "name": "conda-env-intel-python3-py"
  },
  "language_info": {
   "codemirror_mode": {
    "name": "ipython",
    "version": 3
   },
   "file_extension": ".py",
   "mimetype": "text/x-python",
   "name": "python",
   "nbconvert_exporter": "python",
   "pygments_lexer": "ipython3",
   "version": "3.7.9"
  }
 },
 "nbformat": 4,
 "nbformat_minor": 5
}
