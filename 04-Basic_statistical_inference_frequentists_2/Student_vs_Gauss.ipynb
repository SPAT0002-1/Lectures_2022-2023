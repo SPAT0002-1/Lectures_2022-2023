{
 "cells": [
  {
   "cell_type": "markdown",
   "metadata": {},
   "source": [
    "# Comparison between Student t() and Normal N() distributions\n",
    "\n",
    "\n",
    "This notebooks shows a comparison of the Student t distribution and of the Normal distribution as a function of the number of points in the sample. If the number of points is large enough (typically $\\geq$ 20), the two distributions become almost undistiguishable (and hence, typically 95% CI; since the differences are the most noticable in the wings, 99% CI may be yet noticabely different if $n \\sim$ 20).\n",
    "\n",
    "Note that the ipywidget below may not work properly with jupyterlab. "
   ]
  },
  {
   "cell_type": "code",
   "execution_count": 13,
   "metadata": {},
   "outputs": [],
   "source": [
    "import scipy.stats\n",
    "import numpy as np\n",
    "from matplotlib import pyplot as plt\n",
    "%matplotlib inline\n",
    "from ipywidgets import interact"
   ]
  },
  {
   "cell_type": "code",
   "execution_count": 14,
   "metadata": {},
   "outputs": [],
   "source": [
    "def plot_dist(x,n, continuous=True, alpha=0.05, distname=''):\n",
    "    fig, (ax1,ax2) = plt.subplots(1,2,figsize=(10,4.5))\n",
    "    if continuous:\n",
    "        density = n.pdf\n",
    "        title = \"Probability Density Function (pdf)\"\n",
    "        plot_symbol = '-'\n",
    "    else:\n",
    "        density = n.pmf\n",
    "        title = \"Probability Mass Function\"\n",
    "        plot_symbol = 'bo'\n",
    "        \n",
    "    distribution = density(x)\n",
    "    ax1.plot(x, distribution, plot_symbol, color=\"blue\", label=distname)\n",
    "    if continuous:\n",
    "        ta1, ta2 = n.ppf(alpha/2.), n.ppf(1.-alpha/2.)\n",
    "        xCI = np.linspace(ta1, ta2, 100)\n",
    "        ax1.fill_between(xCI, 0, density(xCI), color=\"blue\", alpha=0.6)\n",
    "    else:  # UNUSED \n",
    "        ax1.vlines(x, 0, distribution, colors='b', lw=5, alpha=0.5)\n",
    "        xCI=x\n",
    "    ax1.set_title(title)\n",
    "    \n",
    "    # Overplot normal distribution\n",
    "    norm_dist = scipy.stats.norm(0, 1)\n",
    "    ax1.plot(x, norm_dist.pdf(x), color=\"red\", label='Gauss')\n",
    "    a1, a2 = norm_dist.ppf(alpha/2.), norm_dist.ppf(1.-alpha/2.)\n",
    "    xCI_gauss = np.linspace(a1, a2, 100)\n",
    "    ax1.vlines(a1, 0, norm_dist.pdf(a1),  color='red')\n",
    "    ax1.vlines(a2, 0, norm_dist.pdf(a2),  color='red')\n",
    "    \n",
    "    cdf_CI = n.cdf(xCI)\n",
    "    cdf = n.cdf(x)\n",
    "    ax2.plot(x, cdf, lw=1, color=\"blue\", label=distname)\n",
    "    ax2.fill_between(xCI, 0, cdf_CI, color=\"blue\", alpha=0.6)\n",
    "    ax2.set_title(\"CDF\")\n",
    "    ax2.plot(x, norm_dist.cdf(x), color=\"red\", label='Gauss')\n",
    "    ax2.hlines(alpha, -3, 3, color='black')\n",
    "    ax2.hlines(1-alpha, -3, 3, color='black')\n",
    "    \n",
    "    return ax1, ax2"
   ]
  },
  {
   "cell_type": "code",
   "execution_count": 15,
   "metadata": {},
   "outputs": [
    {
     "data": {
      "application/vnd.jupyter.widget-view+json": {
       "model_id": "a5a9a882d3494bcba6e42b7654d4a818",
       "version_major": 2,
       "version_minor": 0
      },
      "text/plain": [
       "interactive(children=(IntSlider(value=18, description='k', max=35, min=1), Output()), _dom_classes=('widget-in…"
      ]
     },
     "metadata": {},
     "output_type": "display_data"
    }
   ],
   "source": [
    "def student(k):\n",
    "    d = scipy.stats.t(k)\n",
    "    x = np.arange(d.ppf(0.001), d.ppf(0.999), 0.01)  # This is to define the plotting range. \n",
    "    \n",
    "    plot_dist(x, d, continuous=True, alpha=0.01)  # This function plots a 95% CI\n",
    "    plt.show()\n",
    "    return\n",
    "\n",
    "interact(student, k=(1,35,1) );"
   ]
  },
  {
   "cell_type": "code",
   "execution_count": null,
   "metadata": {},
   "outputs": [],
   "source": []
  }
 ],
 "metadata": {
  "kernelspec": {
   "display_name": "Python [conda env:intel-python3]",
   "language": "python",
   "name": "conda-env-intel-python3-py"
  },
  "language_info": {
   "codemirror_mode": {
    "name": "ipython",
    "version": 3
   },
   "file_extension": ".py",
   "mimetype": "text/x-python",
   "name": "python",
   "nbconvert_exporter": "python",
   "pygments_lexer": "ipython3",
   "version": "3.7.7"
  }
 },
 "nbformat": 4,
 "nbformat_minor": 4
}
