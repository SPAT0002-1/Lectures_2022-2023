{
 "cells": [
  {
   "cell_type": "markdown",
   "metadata": {
    "nbpresent": {
     "id": "d4821d71-3008-4caf-aca7-c7500fd711af"
    }
   },
   "source": [
    "# Bayesian inference: Modeling\n",
    "\n",
    "## Table of Content:\n",
    "\n",
    "- IV [Simple Bayesian Modeling](#IV.-Simple-Bayesian-Modeling)\n",
    "    * IV.1 [The model](#IV.1-The-model)\n",
    "    * IV.2 [The prior](#IV.-2-The-prior): Conjugate, empirical, flat and non informative priors\n",
    "    * IV.3 [Implementation](#IV.3-Implementation)\n",
    "- V Bayesian modeling with Monte Carlo Markov Chains (MCMC): See [Bayes_MCMC.ipynb](Bayes_MCMC.ipynb)\n",
    "- X [References](#XX-References:)"
   ]
  },
  {
   "cell_type": "markdown",
   "metadata": {
    "nbpresent": {
     "id": "b0c90473-4abd-4d33-ae59-1d70aea71c48"
    }
   },
   "source": [
    "## IV. Simple Bayesian Modeling\n",
    "\n",
    "We'll start with the classic model fitting problem: **Fitting a line to data**."
   ]
  },
  {
   "cell_type": "code",
   "execution_count": 1,
   "metadata": {
    "nbpresent": {
     "id": "679223b7-40d4-443c-b41b-a2e0a596ddec"
    }
   },
   "outputs": [],
   "source": [
    "%matplotlib inline\n",
    "import matplotlib.pyplot as plt\n",
    "import numpy as np\n",
    "import scipy.optimize"
   ]
  },
  {
   "cell_type": "markdown",
   "metadata": {
    "nbpresent": {
     "id": "cf56869f-c66e-480a-b0f8-ddb8369a725f"
    }
   },
   "source": [
    "For the sake of illustration, we will generate a fake data set. "
   ]
  },
  {
   "cell_type": "code",
   "execution_count": 2,
   "metadata": {
    "nbpresent": {
     "id": "0657887a-b9df-4c49-bf88-81f912de51ad"
    }
   },
   "outputs": [
    {
     "data": {
      "text/plain": [
       "<ErrorbarContainer object of 3 artists>"
      ]
     },
     "execution_count": 2,
     "metadata": {},
     "output_type": "execute_result"
    },
    {
     "data": {
      "image/png": "[encoded data removed]",
      "text/plain": [
       "<Figure size 432x288 with 1 Axes>"
      ]
     },
     "metadata": {
      "needs_background": "light"
     },
     "output_type": "display_data"
    }
   ],
   "source": [
    "# Function that generates points following a linear trend. \n",
    "def make_data(intercept, slope, N=20,sigy=5, rseed=42):\n",
    "    '''\n",
    "    Parameters:\n",
    "    -----------\n",
    "    intercept, slope: parameters of the linear model\n",
    "    sigy: width of normally distributed data points around the \"true line\"\n",
    "    rseed: Seed of the random number generator (fixed for the sake of discussion)\n",
    "    Output:\n",
    "    -------\n",
    "    x, y, sig_y \n",
    "    '''\n",
    "    rand = np.random.RandomState(rseed)\n",
    "    x = 100 * rand.rand(N)\n",
    "    y = intercept + slope * x\n",
    "    y += sigy * rand.randn(N)\n",
    "    return x, y, sigy * np.ones_like(x)\n",
    "\n",
    "theta_true = [25, 0.5]\n",
    "x, y, sigy = make_data(theta_true[0], theta_true[1])  # could also be make_data(*theta_true)\n",
    "plt.errorbar(x, y, sigy, fmt='o')"
   ]
  },
  {
   "cell_type": "markdown",
   "metadata": {
    "nbpresent": {
     "id": "dfe3bd88-e83a-43cc-9d07-3338586efda1"
    }
   },
   "source": [
    "### IV.1 The model\n",
    "\n",
    "Next we need to specify a model. We're fitting a straight line to data, so we'll need a slope and an intercept; i.e.\n",
    "\n",
    "$$\n",
    "y_M(x) = \\theta_0 + \\theta_1\\,x \n",
    "$$\n",
    "\n",
    "where our parameter vector might be \n",
    "\n",
    "$$\n",
    "\\boldsymbol{\\theta} = [\\theta_0, \\theta_1]\n",
    "$$\n",
    "\n",
    "But this is only half the picture: what we mean by a \"model\" in a Bayesian sense is not only the expected value $<y(x;\\boldsymbol{\\theta})>$, but a **probability distribution** for our data.\n",
    "That is, we need an expression to compute the likelihood $P(D\\mid\\theta)$ for our data as a function of the parameters $\\boldsymbol{\\theta}$."
   ]
  },
  {
   "cell_type": "markdown",
   "metadata": {
    "nbpresent": {
     "id": "0ff4c243-5887-47cc-a9b8-d59349d15207"
    }
   },
   "source": [
    "You may remember from the [previous lecture](../05-MLE_and_regression/Regression_short.ipynb) that the likelihood for n (independent) points ($y_i$) drawn from a normal distribution:\n",
    "$$\n",
    "y_i \\sim N(y_M(x_i; \\boldsymbol{\\theta}), \\sigma)\n",
    "$$\n",
    "the likelihood is the product of the probabilities for each single data point, namely:\n",
    "\n",
    "$$\n",
    "p(y_i\\,\\mid\\,\\boldsymbol{\\theta} ) = \\frac{1}{\\sigma \\sqrt{2\\,\\pi}} \\, \\exp\\left[-0.5 \\left (\\frac{y_i - y_M(x_i; \\boldsymbol{\\theta})}{\\sigma} \\right)^2\\right] \n",
    "$$\n",
    "\n",
    "Hence (generalised to heterosedastic errors):\n",
    "\n",
    "$$\n",
    "L \\equiv P(D\\mid\\boldsymbol{\\theta}) = \\prod_{i=1}^N P(x_i,y_i\\mid\\boldsymbol{\\theta})\n",
    "$$\n",
    "\n",
    "$$\n",
    "P(D\\mid\\boldsymbol{\\theta}) =  \\prod_{i=1}^{N} \\frac{1}{\\sqrt{2\\,\\pi \\sigma_i^2}} \\, \\exp\\left[\\left (\\frac{ -(y_i - (\\theta_0+\\theta_1\\,x_i))^2}{2\\,\\sigma_i^2} \\right)\\right]\n",
    "$$\n",
    "\n",
    "Or, written in terms of log-likelihood:\n",
    "\n",
    "$$\n",
    "\\ln(P(D\\mid\\boldsymbol{\\theta})) \\, = -\\frac{1}{2}\\,\\sum_{i=1}^{N} \\left (\\ln(2\\pi\\sigma_i^2) + \\frac{ (y_i - (\\theta_0+\\theta_1\\,x_i))^2}{\\sigma_i^2} \\right) \n",
    "$$\n",
    "\n",
    "We can now write a function that computes the log-likelihood given a parameter vector $\\boldsymbol{\\theta}$, an array of errors $\\sigma_i$, and an array of $x$ and $y$ values.\n"
   ]
  },
  {
   "cell_type": "code",
   "execution_count": 3,
   "metadata": {
    "nbpresent": {
     "id": "ebb86b4a-2f3b-43a3-8dbb-14180390e159"
    }
   },
   "outputs": [],
   "source": [
    "def ln_likelihood(theta, x, y, sigy):\n",
    "    y_model = theta[0] + theta[1] * x\n",
    "    return -0.5 * np.sum(np.log(2 * np.pi * sigy ** 2) + (y - y_model) ** 2 / sigy ** 2)"
   ]
  },
  {
   "cell_type": "markdown",
   "metadata": {
    "nbpresent": {
     "id": "3382b66f-b256-4741-8552-0ca54ea6a21d"
    }
   },
   "source": [
    "The frequentist approach would be to search for the maximum of the likelihood. The Bayesian approach is more comprehensive. It is not a matter of finding the most likely estimator of $\\theta$ but of deriving the **full posterior probability** $P(\\boldsymbol{\\theta}~\\mid~D)$. For that purpose we need to set a prior ... "
   ]
  },
  {
   "cell_type": "code",
   "execution_count": 4,
   "metadata": {},
   "outputs": [
    {
     "name": "stdout",
     "output_type": "stream",
     "text": [
      "MLE parameters with polyfit (intercept, slope) = (24.818, 0.474)\n"
     ]
    }
   ],
   "source": [
    "# Fequentist way - Least square regression\n",
    "# We can also search the best fit with np.polyfit as the best parameters are, by construction, those that maximise the likelihood\n",
    "res_polyfit = np.polyfit(x, y, 1, w=1/sigy)\n",
    "print('MLE parameters with polyfit (intercept, slope) = (%.3f, %.3f)' %(res_polyfit[1], res_polyfit[0]))"
   ]
  },
  {
   "cell_type": "code",
   "execution_count": 5,
   "metadata": {},
   "outputs": [
    {
     "name": "stdout",
     "output_type": "stream",
     "text": [
      "Optimization terminated successfully.\n",
      "         Current function value: 58.321622\n",
      "         Iterations: 37\n",
      "         Function evaluations: 75\n",
      "Maximum likelihood value of model params (intercept, slope) = (24.818, 0.474)\n"
     ]
    }
   ],
   "source": [
    "# Let's search for the maximum likelihood values of the parameters \n",
    "# For this let's take -ln(P) and use the function scipy.optimize.fmin() which searches for the minimum of a function\n",
    "def ln_likelihood2(theta, x, y, sigy):\n",
    "    \"\"\"\n",
    "    -ln(P) : function to be fed to scipy.optimize.fmin()\n",
    "    \"\"\"\n",
    "    y_model = theta[0] + theta[1] * x\n",
    "    return 0.5 * np.sum(np.log(2 * np.pi * sigy ** 2) + (y - y_model) ** 2 / sigy ** 2)\n",
    "\n",
    "result_MLE = scipy.optimize.fmin(ln_likelihood2, x0=theta_true, args=(x,y,sigy))\n",
    "print('Maximum likelihood value of model params (intercept, slope) = (%.3f, %.3f)' %(result_MLE[0], result_MLE[1]))"
   ]
  },
  {
   "cell_type": "markdown",
   "metadata": {},
   "source": [
    "We see that the two methods yield the same point-estimate of the parameters. These values are maximizing the likelihood. In the bayesian framework, we are not only interested in knowing those values, but getting the full posterior associated to the parameters. "
   ]
  },
  {
   "cell_type": "markdown",
   "metadata": {
    "nbpresent": {
     "id": "1e7a3a2c-fcf3-4487-8f23-1b8637e5a7ed"
    }
   },
   "source": [
    "### IV. 2 The prior\n",
    "\n",
    "#### IV.2.1 Conjugate priors\n",
    "\n",
    "In the early days of Bayesian analysis, people were considering [conjugate prior](https://en.wikipedia.org/wiki/Conjugate_prior). A *conjugate prior* is a prior which, due to its mathematical relation to the likelihood, makes the result analytically computable. Those priors are rarely defensible on any grounds other than computational convenience, and so this is **almost never a good choice**.\n",
    "\n",
    "#### IV.2.2 Empirical priors\n",
    "\n",
    "Empirical Priors are priors which are actually posteriors from previous studies of the same phenomenon. For example, it's common in Supernova cosmology studies to use the WMAP results as a prior: that is, we actually plug-in a *real result* and use our new data to improve on that. This situation is where Bayesian approaches really shine.\n",
    "\n",
    "For our linear fit, you might imagine that our $x, y$ data is a more accurate version of a previous experiment, where we've found that the intercept is $\\theta_0 = 50 \\pm 30$ and the slope is $\\theta_1 = 1.0 \\pm 0.5$.\n",
    "In this case, we would encode this prior knowledge in the prior distribution itself.\n",
    "\n",
    "#### IV.2.3 Flat Priors\n",
    "\n",
    "If you don't have an empirical prior, you might be tempted to simply use a *flat prior* – i.e. a prior that is constant between two reasonable limits (i.e. equal probability slopes from -1000 to +1000). You may also call it **uniform** (it is uniform between 2 bounds and 0 outside). \n",
    "\n",
    "The problem is that flat priors are not always non-informative! For example, a flat prior on the slope will effectively give a higher weight to larger slopes.\n",
    "We can see this straightforwardly by plotting regularly-spaced slopes between 0 and 20:"
   ]
  },
  {
   "cell_type": "code",
   "execution_count": 8,
   "metadata": {
    "nbpresent": {
     "id": "d7717f5b-b6d5-401f-ba14-501c5234e41a"
    }
   },
   "outputs": [
    {
     "data": {
      "text/plain": [
       "(-1, 1)"
      ]
     },
     "execution_count": 8,
     "metadata": {},
     "output_type": "execute_result"
    },
    {
     "data": {
      "image/png": "[encoded data removed]",
      "text/plain": [
       "<Figure size 432x288 with 1 Axes>"
      ]
     },
     "metadata": {
      "needs_background": "light"
     },
     "output_type": "display_data"
    }
   ],
   "source": [
    "xx = np.linspace(-1, 1)\n",
    "for slope in np.linspace(0, 20, 100):\n",
    "    plt.plot(xx, slope * xx, '-k', linewidth=1)\n",
    "plt.xlim(-1, 1)\n",
    "plt.ylim(-1,1)\n",
    "#plt.axis([-1, 1, -1, 1], aspect='equal')"
   ]
  },
  {
   "cell_type": "code",
   "execution_count": 7,
   "metadata": {},
   "outputs": [
    {
     "data": {
      "text/plain": [
       "Text(0.5, 0, 'Slope')"
      ]
     },
     "execution_count": 7,
     "metadata": {},
     "output_type": "execute_result"
    },
    {
     "data": {
      "image/png": "[encoded data removed]",
      "text/plain": [
       "<Figure size 432x288 with 1 Axes>"
      ]
     },
     "metadata": {
      "needs_background": "light"
     },
     "output_type": "display_data"
    }
   ],
   "source": [
    "# You can see that the above prior on the slope is uniform (= flat) between 0 and 20 \n",
    "slopes = np.linspace(0, 20, 100)\n",
    "qq = plt.hist(slopes, density=True, color='c', edgecolor='k')\n",
    "plt.xlabel('Slope')  "
   ]
  },
  {
   "cell_type": "markdown",
   "metadata": {
    "nbpresent": {
     "id": "760185b5-8547-4aa8-b5cc-27f25651f5d0"
    }
   },
   "source": [
    "The density of the lines is a proxy for the probability of those slopes with a flat prior.\n",
    "This is an important point to realize: **flat priors are not necessarily minimally informative**."
   ]
  },
  {
   "cell_type": "markdown",
   "metadata": {
    "nbpresent": {
     "id": "e1fd9c55-5166-4c1f-a83c-39f4d6468f08"
    }
   },
   "source": [
    "#### IV.2.4 Non-informative Priors\n",
    "\n",
    "What we *really* want in cases where no empirical prior is available is a **non-informative prior**. Among other things, such a prior should not depend on the units of the data.\n",
    "Perhaps the most principled approach to choosing non-informative priors was the *principle of maximum entropy* advocated by Jaynes ([book](https://omega0.xyz/omega8008/JaynesBookPdf.html)).\n",
    "\n",
    "Similar in spirit is the commonly-used [Jeffreys Prior](https://en.wikipedia.org/wiki/Jeffreys_prior), which in many cases of interest amounts to a \"scale invariant\" prior: a flat prior on the logarithm of the parameter.\n",
    "\n",
    "In the case of the linear slope, we often want a prior which does not artificially over-weight large slopes: there are a couple possible approaches to this (see http://arxiv.org/abs/1411.5018 for some discussion). For our situation, we might use a flat prior on the angle the line makes with the x-axis, which gives\n",
    "\n",
    "$$\n",
    "P(\\theta_1) \\propto (1 + \\theta_1^2)^{-3/2}\n",
    "$$\n",
    "\n",
    "For lack of a better term, we can call this a \"symmetric prior\" on the slope. Indeed, it is the same whether we are fitting $y = \\theta_1 \\, x + \\theta_0$ or $x = \\theta_1^\\prime\\,y + \\theta_0^\\prime$."
   ]
  },
  {
   "cell_type": "markdown",
   "metadata": {
    "nbpresent": {
     "id": "db99dfbf-3b77-4932-8a0d-d5e76d7017ca"
    }
   },
   "source": [
    "## IV.3 Implementation\n",
    "\n",
    "Let's define two python functions to compute the options for our prior: we'll use both a (log) flat prior and a (log) symmetric prior.\n",
    "In general, we need not worry about the normalization of the prior or the likelihood, which makes our lives easier:"
   ]
  },
  {
   "cell_type": "code",
   "execution_count": 9,
   "metadata": {
    "nbpresent": {
     "id": "2fc739b0-cf96-4be7-aa09-e2c742378dfa"
    }
   },
   "outputs": [],
   "source": [
    "def ln_flat_prior(theta):\n",
    "    '''\n",
    "    theta = shape(2) array containing the [intercept, slope] = [theta_0, theta_1]\n",
    "    '''\n",
    "    if np.abs(theta[1]) < 1000:\n",
    "        return 0 # log(1)\n",
    "    else:\n",
    "        return -np.inf  # log(0)\n",
    "    \n",
    "def ln_symmetric_prior(theta):\n",
    "    '''\n",
    "    theta = shape(2) array containing the [intercept, slope] = [theta_0, theta_1]\n",
    "    '''\n",
    "    if np.abs(theta[1]) < 1000:\n",
    "        return -1.5 * np.log(1 + theta[1] ** 2)\n",
    "    else:\n",
    "        return -np.inf  # log(0)"
   ]
  },
  {
   "cell_type": "markdown",
   "metadata": {
    "nbpresent": {
     "id": "4b39e586-4c65-442b-b347-9797980a2c3b"
    }
   },
   "source": [
    "With these defined, we now have what we need to compute the log posterior as a function of the model parameters.\n",
    "You might be tempted to maximize this posterior in the same way that we do with the likelihood when performing a $\\chi^2$ regression. However, the proper Bayesian approach is not just a matter of getting the maximum of the posterior of our parameters but aims at getting the (possibly marginalized) posterior probability for our parameters. \n",
    "\n",
    "Remember that the posterior probability on the parameters is the product of the likelihood and of the prior. Hence the log of the posterior is the sum of the log of these two quantities. For the simple case above, we can explicitly evaluate the log probability on a grid for the 2 parameters of our model. \n",
    "\n",
    "#### Exercise:\n",
    "\n",
    "1. Calculate the posterior probability distribution on a grid of 100x100 values of slope and intercept (e.g. between 15-35 for the intercept and 0.3 and 0.7 for the slope) for each of the 2 priors. Using matplotlib, plot the posterior probability distribution for the slope and intercept. To make a contour plot with matplotlib, you can use ``plt.contourf()`` or ``plt.pcolor()``. How different are the distributions for the 2 priors ?\n",
    "\n",
    "2. Modify the dataset – how do the results change if you have very few data points or very large errors?\n",
    "\n",
    "3. BONUS: How would you add 1-sigma and 2-sigma contours to your plot, keeping in mind that the probabilities are not normalized! You can use np.cumsum() to calculate CDF; you can add specific contours to your plot with ``plt.contour()``. "
   ]
  },
  {
   "cell_type": "code",
   "execution_count": 14,
   "metadata": {
    "nbpresent": {
     "id": "97369801-e8ba-402c-834a-8f8e4b083b61"
    }
   },
   "outputs": [],
   "source": [
    "# Use the cells below to evaluate the log likelihood for each of the two priors above\n",
    "# Function that returns an array ln(posterior) for a flat/symmetric prior on a grid of values for the slope and intercept\n",
    "def ln_P():\n",
    "    '''\n",
    "    Function to calculate ln(posterior) for a flat prior  \n",
    " \n",
    "    Returns: ln(posterior)\n",
    "    '''\n",
    "\n",
    "    return lnP_arr"
   ]
  },
  {
   "cell_type": "code",
   "execution_count": 15,
   "metadata": {
    "nbpresent": {
     "id": "8fdd500a-f99e-4129-92f0-8c8fb4590809"
    }
   },
   "outputs": [],
   "source": [
    "# Evaluate ln(P) for a flat prior for our data set \n",
    "\n",
    "# Evaluate ln(P) for symmetric prior\n"
   ]
  },
  {
   "cell_type": "code",
   "execution_count": 16,
   "metadata": {},
   "outputs": [],
   "source": [
    "# Create the grid of SLOPES/INTERCEPTS values for which you have evaluated ln(posterior) \n",
    "# TIP: Use np.meshgrid\n"
   ]
  },
  {
   "cell_type": "code",
   "execution_count": 9,
   "metadata": {
    "nbpresent": {
     "id": "44850bde-971b-4c87-bc8d-2cc563e185d7"
    }
   },
   "outputs": [],
   "source": [
    "# Plot the results\n"
   ]
  },
  {
   "cell_type": "code",
   "execution_count": 21,
   "metadata": {},
   "outputs": [],
   "source": [
    "# BONUS\n",
    "# Function to compute 1, 2, 3-sigma contour levels for a gridded 2D posterior\n",
    "def contour_levels(grid):\n",
    "    \"\"\"\n",
    "    Compute 1, 2, 3-sigma contour levels for a gridded 2D posterior\n",
    "    \n",
    "    Parameter: \n",
    "    ----------\n",
    "    grid: np.array((n,n)) - 2D grid with the posterior   \n",
    "    \"\"\"\n",
    "    return sorted_P[cutoffs]"
   ]
  },
  {
   "cell_type": "code",
   "execution_count": null,
   "metadata": {},
   "outputs": [],
   "source": []
  },
  {
   "cell_type": "code",
   "execution_count": null,
   "metadata": {},
   "outputs": [],
   "source": []
  },
  {
   "cell_type": "code",
   "execution_count": null,
   "metadata": {},
   "outputs": [],
   "source": []
  },
  {
   "cell_type": "markdown",
   "metadata": {
    "nbpresent": {
     "id": "19e5ab68-2f2c-488f-bc83-eea130888159"
    }
   },
   "source": [
    "In the present case, you'll see that the form of the prior makes little difference on the results. This is often, but not always the case if you have enough data to constrain your model. Instead, if you have few data and/or large error bars, your results is more likely to be prior dependent which means that, if you do not have good data, you won't improve much your knowledge about the world you are probing with your data !  "
   ]
  },
  {
   "cell_type": "code",
   "execution_count": null,
   "metadata": {},
   "outputs": [],
   "source": [
    "# Generate a data set with only 3 data points to see impact of e.g. a flat prior "
   ]
  },
  {
   "cell_type": "code",
   "execution_count": null,
   "metadata": {},
   "outputs": [],
   "source": []
  },
  {
   "cell_type": "code",
   "execution_count": 64,
   "metadata": {},
   "outputs": [
    {
     "data": {
      "image/png": "[encoded data removed]",
      "text/plain": [
       "<matplotlib.figure.Figure at 0xa6cb56940>"
      ]
     },
     "metadata": {},
     "output_type": "display_data"
    }
   ],
   "source": []
  },
  {
   "cell_type": "markdown",
   "metadata": {},
   "source": [
    "We see that the results are more prior dependant. "
   ]
  },
  {
   "cell_type": "markdown",
   "metadata": {
    "nbpresent": {
     "id": "10eea6ea-4515-48f0-a860-9dfd5edbc221"
    }
   },
   "source": [
    "## V. Bayesian Modeling with MCMC"
   ]
  },
  {
   "cell_type": "markdown",
   "metadata": {
    "nbpresent": {
     "id": "ba398ebd-53af-4e26-bfce-dff926ef3511"
    }
   },
   "source": [
    "See [Bayes_MCMC.ipynb](Bayes_MCMC.ipynb)"
   ]
  },
  {
   "cell_type": "markdown",
   "metadata": {
    "nbpresent": {
     "id": "1fc8103d-944a-417a-8626-b49087d1ea06"
    }
   },
   "source": [
    "## XX References:\n",
    "\n",
    "**Chapter 5** (5.1, 5.2, 5.3, 5.8) of the book <a class=\"anchor\" id=\"book\"></a> *Statistics, data mining and Machine learning in astronomy* by Z. Ivezic et al. in Princeton Series in Modern Astronomy. \n",
    "\n",
    "- This notebook includes a large fraction of the material that J. Vander Plas gave during the \"Bayesian Methods in Astronomy workshop\", presented at the 227th meeting of the American Astronomical Society. The full repository with that material can be found on GitHub: http://github.com/jakevdp/AAS227Workshop\n",
    "\n",
    "- More insights on the differences between frequentist and Bayesian approaches: see [J. VanderPlass blog posts](http://jakevdp.github.io/blog/2014/03/11/frequentism-and-bayesianism-a-practical-intro/) \n",
    "\n",
    "- Jayes: [*Probability Theory: The Logic of Science*](http://bayes.wustl.edu/etj/prob/book.pdf).\n",
    "\n",
    "- A short paper discussing priors: Jaynes, 1968, IEEE Trans. on Systems Science and Cybernetics, SSC-4, 227: [*Prior Probabilities*](https://bayes.wustl.edu/etj/articles/prior.pdf)\n",
    "\n",
    "- For some approachable reading on frequentist vs. Bayesian uncertainties, I'd suggest [The Fallacy of Placing Confidence in Confidence Intervals](https://learnbayes.org/papers/confidenceIntervalsFallacy/), as well as Jake VanderPlast blog post on the topic, [Confidence, Credibility, and why Frequentism and Science do not Mix](http://jakevdp.github.io/blog/2014/06/12/frequentism-and-bayesianism-3-confidence-credibility/).\n",
    "\n",
    "- Foreman-Mackey et al. 2012 [*EMCEE, the MCMC hammer*](https://arxiv.org/abs/1202.3665) ; see also http://dan.iel.fm/emcee/current/\n",
    "\n",
    "- About the variety of approaches to MCMC: Allison and Dunkley 2013: [Comparison of sampling techniques for Bayesian parameter estimation](https://arxiv.org/abs/1308.2675). See also [How to Be a Bayesian in Python](http://jakevdp.github.io/blog/2014/06/14/frequentism-and-bayesianism-4-bayesian-in-python/). \n",
    "\n",
    "- Andreon 2011 [Understanding better (some) astronomical data using Bayesian methods](https://arxiv.org/abs/1112.3652)"
   ]
  },
  {
   "cell_type": "code",
   "execution_count": null,
   "metadata": {
    "collapsed": true,
    "jupyter": {
     "outputs_hidden": true
    },
    "nbpresent": {
     "id": "b678f68d-737c-4b86-b4b5-d11b2a619ba2"
    }
   },
   "outputs": [],
   "source": []
  }
 ],
 "metadata": {
  "kernelspec": {
   "display_name": "Python [conda env:intel-python3]",
   "language": "python",
   "name": "conda-env-intel-python3-py"
  },
  "language_info": {
   "codemirror_mode": {
    "name": "ipython",
    "version": 3
   },
   "file_extension": ".py",
   "mimetype": "text/x-python",
   "name": "python",
   "nbconvert_exporter": "python",
   "pygments_lexer": "ipython3",
   "version": "3.7.9"
  },
  "nbpresent": {
   "slides": {
    "0430afa0-5988-4f66-b3c4-617e189b8714": {
     "id": "0430afa0-5988-4f66-b3c4-617e189b8714",
     "prev": "c16b882e-e04b-45d2-a370-9bec826c45ab",
     "regions": {
      "1f84f6cf-b96f-41d8-b9e8-12e4ebbdf4a8": {
       "attrs": {
        "height": 0.8,
        "width": 0.8,
        "x": 0.1,
        "y": 0.1
       },
       "content": {
        "cell": "760185b5-8547-4aa8-b5cc-27f25651f5d0",
        "part": "whole"
       },
       "id": "1f84f6cf-b96f-41d8-b9e8-12e4ebbdf4a8"
      }
     }
    },
    "061f29ee-78e9-4e91-bc72-6ff870599297": {
     "id": "061f29ee-78e9-4e91-bc72-6ff870599297",
     "prev": "bd7004cc-ff6e-4b14-8d03-1ef53230fa51",
     "regions": {
      "b8dab038-96c3-4168-bbf2-8d22361da2c5": {
       "attrs": {
        "height": 0.8,
        "width": 0.8,
        "x": 0.1,
        "y": 0.1
       },
       "content": {
        "cell": "44850bde-971b-4c87-bc8d-2cc563e185d7",
        "part": "whole"
       },
       "id": "b8dab038-96c3-4168-bbf2-8d22361da2c5"
      }
     }
    },
    "107a99dc-b402-4dc1-908e-b1381b54f6c4": {
     "id": "107a99dc-b402-4dc1-908e-b1381b54f6c4",
     "prev": "b989f442-35b8-49be-b06b-c3107d6ab262",
     "regions": {
      "fc5f5819-bed9-44ad-b73d-37a37d42d89d": {
       "attrs": {
        "height": 0.8,
        "width": 0.8,
        "x": 0.1,
        "y": 0.1
       },
       "content": {
        "cell": "1fc8103d-944a-417a-8626-b49087d1ea06",
        "part": "whole"
       },
       "id": "fc5f5819-bed9-44ad-b73d-37a37d42d89d"
      }
     }
    },
    "121455b1-13c8-433b-8c9e-5e8c9e4a9c46": {
     "id": "121455b1-13c8-433b-8c9e-5e8c9e4a9c46",
     "prev": "b9fa87b2-b598-4c65-96a0-fa503a55176e",
     "regions": {
      "c2bdc3b5-0263-4a9b-9917-649ef2d85f17": {
       "attrs": {
        "height": 0.8,
        "width": 0.8,
        "x": 0.1,
        "y": 0.1
       },
       "content": {
        "cell": "b0c90473-4abd-4d33-ae59-1d70aea71c48",
        "part": "whole"
       },
       "id": "c2bdc3b5-0263-4a9b-9917-649ef2d85f17"
      }
     }
    },
    "27f78930-051c-4681-920d-e446f60ccd77": {
     "id": "27f78930-051c-4681-920d-e446f60ccd77",
     "prev": "061f29ee-78e9-4e91-bc72-6ff870599297",
     "regions": {
      "834e10a5-d3e0-4063-8a6c-47bac8d2d0cf": {
       "attrs": {
        "height": 0.8,
        "width": 0.8,
        "x": 0.1,
        "y": 0.1
       },
       "content": {
        "cell": "19e5ab68-2f2c-488f-bc83-eea130888159",
        "part": "whole"
       },
       "id": "834e10a5-d3e0-4063-8a6c-47bac8d2d0cf"
      }
     }
    },
    "2c3f262f-e675-4b63-8667-4492cffe0688": {
     "id": "2c3f262f-e675-4b63-8667-4492cffe0688",
     "prev": "8a22e07a-9704-4111-b9dd-0dd9f1af8b2b",
     "regions": {
      "b87f0ad4-f83c-4c1d-8b08-537864e52bb5": {
       "attrs": {
        "height": 0.8,
        "width": 0.8,
        "x": 0.1,
        "y": 0.1
       },
       "content": {
        "cell": "4b39e586-4c65-442b-b347-9797980a2c3b",
        "part": "whole"
       },
       "id": "b87f0ad4-f83c-4c1d-8b08-537864e52bb5"
      }
     }
    },
    "37e09aa1-1a12-4f1d-b787-6a3e6babbebb": {
     "id": "37e09aa1-1a12-4f1d-b787-6a3e6babbebb",
     "prev": "107a99dc-b402-4dc1-908e-b1381b54f6c4",
     "regions": {
      "26636b19-3caf-4c4c-a4bb-81b991c8783f": {
       "attrs": {
        "height": 0.8,
        "width": 0.8,
        "x": 0.1,
        "y": 0.1
       },
       "content": {
        "cell": "b678f68d-737c-4b86-b4b5-d11b2a619ba2",
        "part": "whole"
       },
       "id": "26636b19-3caf-4c4c-a4bb-81b991c8783f"
      }
     }
    },
    "7f4a3c05-ee05-463f-afe9-2f1d1f8c3c9d": {
     "id": "7f4a3c05-ee05-463f-afe9-2f1d1f8c3c9d",
     "prev": "8a8c517b-c1ae-4bcf-8ae7-093fdfb37530",
     "regions": {
      "303f7804-435b-4b02-ad47-36a2b8867126": {
       "attrs": {
        "height": 0.8,
        "width": 0.8,
        "x": 0.1,
        "y": 0.1
       },
       "content": {
        "cell": "cf56869f-c66e-480a-b0f8-ddb8369a725f",
        "part": "whole"
       },
       "id": "303f7804-435b-4b02-ad47-36a2b8867126"
      }
     }
    },
    "86e60324-ed81-47b4-8372-c438a63cf2ee": {
     "id": "86e60324-ed81-47b4-8372-c438a63cf2ee",
     "prev": "a630786b-8d2e-4492-8269-c10cd0a4d9b4",
     "regions": {
      "b0dd72a2-ff5e-4680-8638-36bd68521b46": {
       "attrs": {
        "height": 0.8,
        "width": 0.8,
        "x": 0.1,
        "y": 0.1
       },
       "content": {
        "cell": "dfe3bd88-e83a-43cc-9d07-3338586efda1",
        "part": "whole"
       },
       "id": "b0dd72a2-ff5e-4680-8638-36bd68521b46"
      }
     }
    },
    "8a22e07a-9704-4111-b9dd-0dd9f1af8b2b": {
     "id": "8a22e07a-9704-4111-b9dd-0dd9f1af8b2b",
     "prev": "938748b1-157d-405a-8d81-4faaf3630552",
     "regions": {
      "80d3cfe1-442b-4ba6-9bf4-4736a202791f": {
       "attrs": {
        "height": 0.8,
        "width": 0.8,
        "x": 0.1,
        "y": 0.1
       },
       "content": {
        "cell": "2fc739b0-cf96-4be7-aa09-e2c742378dfa",
        "part": "whole"
       },
       "id": "80d3cfe1-442b-4ba6-9bf4-4736a202791f"
      }
     }
    },
    "8a8c517b-c1ae-4bcf-8ae7-093fdfb37530": {
     "id": "8a8c517b-c1ae-4bcf-8ae7-093fdfb37530",
     "prev": "121455b1-13c8-433b-8c9e-5e8c9e4a9c46",
     "regions": {
      "b2524640-acf0-433d-a825-ba48fc33c7c3": {
       "attrs": {
        "height": 0.8,
        "width": 0.8,
        "x": 0.1,
        "y": 0.1
       },
       "content": {
        "cell": "679223b7-40d4-443c-b41b-a2e0a596ddec",
        "part": "whole"
       },
       "id": "b2524640-acf0-433d-a825-ba48fc33c7c3"
      }
     }
    },
    "938748b1-157d-405a-8d81-4faaf3630552": {
     "id": "938748b1-157d-405a-8d81-4faaf3630552",
     "prev": "97e80367-2d4f-4519-baf9-538cf0b2f55d",
     "regions": {
      "9eafa0d0-7313-4a7d-9b8a-7d80a02d0c1c": {
       "attrs": {
        "height": 0.8,
        "width": 0.8,
        "x": 0.1,
        "y": 0.1
       },
       "content": {
        "cell": "db99dfbf-3b77-4932-8a0d-d5e76d7017ca",
        "part": "whole"
       },
       "id": "9eafa0d0-7313-4a7d-9b8a-7d80a02d0c1c"
      }
     }
    },
    "942efe43-c9a8-4de8-b442-285779bf2598": {
     "id": "942efe43-c9a8-4de8-b442-285779bf2598",
     "prev": "27f78930-051c-4681-920d-e446f60ccd77",
     "regions": {
      "1dad3049-5320-478e-91d4-9aca12622194": {
       "attrs": {
        "height": 0.8,
        "width": 0.8,
        "x": 0.1,
        "y": 0.1
       },
       "content": {
        "cell": "10eea6ea-4515-48f0-a860-9dfd5edbc221",
        "part": "whole"
       },
       "id": "1dad3049-5320-478e-91d4-9aca12622194"
      }
     }
    },
    "97e80367-2d4f-4519-baf9-538cf0b2f55d": {
     "id": "97e80367-2d4f-4519-baf9-538cf0b2f55d",
     "prev": "0430afa0-5988-4f66-b3c4-617e189b8714",
     "regions": {
      "4692508c-ef5d-418f-b8e3-cd47a375ea6e": {
       "attrs": {
        "height": 0.8,
        "width": 0.8,
        "x": 0.1,
        "y": 0.1
       },
       "content": {
        "cell": "e1fd9c55-5166-4c1f-a83c-39f4d6468f08",
        "part": "whole"
       },
       "id": "4692508c-ef5d-418f-b8e3-cd47a375ea6e"
      }
     }
    },
    "a44318d0-7d14-4929-9067-977eed216a0b": {
     "id": "a44318d0-7d14-4929-9067-977eed216a0b",
     "prev": "fc1f71e9-348f-4bd7-b563-d21636671334",
     "regions": {
      "dd5522b8-0d0b-4d14-9552-01962f19fe36": {
       "attrs": {
        "height": 0.8,
        "width": 0.8,
        "x": 0.1,
        "y": 0.1
       },
       "content": {
        "cell": "1e7a3a2c-fcf3-4487-8f23-1b8637e5a7ed",
        "part": "whole"
       },
       "id": "dd5522b8-0d0b-4d14-9552-01962f19fe36"
      }
     }
    },
    "a630786b-8d2e-4492-8269-c10cd0a4d9b4": {
     "id": "a630786b-8d2e-4492-8269-c10cd0a4d9b4",
     "prev": "7f4a3c05-ee05-463f-afe9-2f1d1f8c3c9d",
     "regions": {
      "03f6e418-fe9a-410a-b652-ff07a7c41fb6": {
       "attrs": {
        "height": 0.8,
        "width": 0.8,
        "x": 0.1,
        "y": 0.1
       },
       "content": {
        "cell": "0657887a-b9df-4c49-bf88-81f912de51ad",
        "part": "whole"
       },
       "id": "03f6e418-fe9a-410a-b652-ff07a7c41fb6"
      }
     }
    },
    "b1b8a496-a329-4d71-b109-ba072f607653": {
     "id": "b1b8a496-a329-4d71-b109-ba072f607653",
     "prev": "86e60324-ed81-47b4-8372-c438a63cf2ee",
     "regions": {
      "f94a45c9-7d43-4766-ab14-ce64e72dee7a": {
       "attrs": {
        "height": 0.8,
        "width": 0.8,
        "x": 0.1,
        "y": 0.1
       },
       "content": {
        "cell": "0ff4c243-5887-47cc-a9b8-d59349d15207",
        "part": "whole"
       },
       "id": "f94a45c9-7d43-4766-ab14-ce64e72dee7a"
      }
     }
    },
    "b4b4f3c2-1951-4654-b677-9bcad902cbcd": {
     "id": "b4b4f3c2-1951-4654-b677-9bcad902cbcd",
     "prev": "b1b8a496-a329-4d71-b109-ba072f607653",
     "regions": {
      "618bd401-5655-486b-bd89-7a630bccd6aa": {
       "attrs": {
        "height": 0.8,
        "width": 0.8,
        "x": 0.1,
        "y": 0.1
       },
       "content": {
        "cell": "ebb86b4a-2f3b-43a3-8dbb-14180390e159",
        "part": "whole"
       },
       "id": "618bd401-5655-486b-bd89-7a630bccd6aa"
      }
     }
    },
    "b989f442-35b8-49be-b06b-c3107d6ab262": {
     "id": "b989f442-35b8-49be-b06b-c3107d6ab262",
     "prev": "942efe43-c9a8-4de8-b442-285779bf2598",
     "regions": {
      "0b65b214-d9e0-48bc-83db-5e95958f580d": {
       "attrs": {
        "height": 0.8,
        "width": 0.8,
        "x": 0.1,
        "y": 0.1
       },
       "content": {
        "cell": "ba398ebd-53af-4e26-bfce-dff926ef3511",
        "part": "whole"
       },
       "id": "0b65b214-d9e0-48bc-83db-5e95958f580d"
      }
     }
    },
    "b9fa87b2-b598-4c65-96a0-fa503a55176e": {
     "id": "b9fa87b2-b598-4c65-96a0-fa503a55176e",
     "prev": null,
     "regions": {
      "1fcc6eda-e3fb-45dd-8df3-65e83df5193f": {
       "attrs": {
        "height": 0.8,
        "width": 0.8,
        "x": 0.1,
        "y": 0.1
       },
       "content": {
        "cell": "d4821d71-3008-4caf-aca7-c7500fd711af",
        "part": "whole"
       },
       "id": "1fcc6eda-e3fb-45dd-8df3-65e83df5193f"
      }
     }
    },
    "bd7004cc-ff6e-4b14-8d03-1ef53230fa51": {
     "id": "bd7004cc-ff6e-4b14-8d03-1ef53230fa51",
     "prev": "f7281303-3c19-496d-b6d9-fcbe7722915f",
     "regions": {
      "ccef0d32-2b8c-42ba-907d-af220ee6a8d0": {
       "attrs": {
        "height": 0.8,
        "width": 0.8,
        "x": 0.1,
        "y": 0.1
       },
       "content": {
        "cell": "8fdd500a-f99e-4129-92f0-8c8fb4590809",
        "part": "whole"
       },
       "id": "ccef0d32-2b8c-42ba-907d-af220ee6a8d0"
      }
     }
    },
    "c16b882e-e04b-45d2-a370-9bec826c45ab": {
     "id": "c16b882e-e04b-45d2-a370-9bec826c45ab",
     "prev": "a44318d0-7d14-4929-9067-977eed216a0b",
     "regions": {
      "250d52d5-55d9-416c-97d7-582102db7a3d": {
       "attrs": {
        "height": 0.8,
        "width": 0.8,
        "x": 0.1,
        "y": 0.1
       },
       "content": {
        "cell": "d7717f5b-b6d5-401f-ba14-501c5234e41a",
        "part": "whole"
       },
       "id": "250d52d5-55d9-416c-97d7-582102db7a3d"
      }
     }
    },
    "f7281303-3c19-496d-b6d9-fcbe7722915f": {
     "id": "f7281303-3c19-496d-b6d9-fcbe7722915f",
     "prev": "2c3f262f-e675-4b63-8667-4492cffe0688",
     "regions": {
      "9c8c1aa9-a658-4e67-a55a-c921db5650d2": {
       "attrs": {
        "height": 0.8,
        "width": 0.8,
        "x": 0.1,
        "y": 0.1
       },
       "content": {
        "cell": "97369801-e8ba-402c-834a-8f8e4b083b61",
        "part": "whole"
       },
       "id": "9c8c1aa9-a658-4e67-a55a-c921db5650d2"
      }
     }
    },
    "fc1f71e9-348f-4bd7-b563-d21636671334": {
     "id": "fc1f71e9-348f-4bd7-b563-d21636671334",
     "prev": "b4b4f3c2-1951-4654-b677-9bcad902cbcd",
     "regions": {
      "619b262d-2097-4441-ada3-bcd1c9357041": {
       "attrs": {
        "height": 0.8,
        "width": 0.8,
        "x": 0.1,
        "y": 0.1
       },
       "content": {
        "cell": "3382b66f-b256-4741-8552-0ca54ea6a21d",
        "part": "whole"
       },
       "id": "619b262d-2097-4441-ada3-bcd1c9357041"
      }
     }
    }
   },
   "themes": {}
  }
 },
 "nbformat": 4,
 "nbformat_minor": 4
}
