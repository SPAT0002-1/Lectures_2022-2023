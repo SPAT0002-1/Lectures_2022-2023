{
 "cells": [
  {
   "cell_type": "markdown",
   "id": "cc81b2c8-115a-4a70-b2d8-e279b4f8dd70",
   "metadata": {},
   "source": [
    "# `Python` in a nutshell: Part 1"
   ]
  },
  {
   "cell_type": "markdown",
   "id": "012dbc40-c2ba-4ab5-99f8-7624094cd403",
   "metadata": {},
   "source": [
    "## Table of Content\n",
    "\n",
    "- [1. Landing on Planet Python](#III)\n",
    "    * 1.1 [Motivation](#IIIa)\n",
    "    * 1.2 [History](#IIIb)\n",
    "    * 1.3 [What is an interpreted language?](#IIIc)\n",
    "    * 1.4 [First steps](#IIId)\n",
    "    * 1.5 [Arithmetic operators](#1.5-Arithmetic-and-comparison-operators) \n",
    "    * 1.6 [Container objects](#IIIe)\n",
    "        - 1.6.1 [Lists](#I.6.1-Lists:)\n",
    "        - 1.6.2 [Sets](#1.6.2-Sets:)\n",
    "        - 1.6.3 [Tuples](#1.6.3-Tuples)\n",
    "        - 1.6.4 [Lists, sets and tuple methods](#1.6.4-Lists,-sets-and-tuple-methods:)\n",
    "        - 1.6.5 [Dictionnaries](#1.5.5-Dictionaries)\n",
    "    * 1.7 [Control flow statements](#IIIg)\n",
    "        - 1.7.1 `if` [statements](#1.7.1-if-statements)\n",
    "        - 1.7.2 `for` [loops](#1.7.2-for-loops)\n",
    "        - 1.7.3 `while` [loops](#1.7.3-while-loops)\n",
    "        - 1.7.4 [List comprehensions](#1.7.4-List-Comprehensions)\n",
    "    * 1.8 [Scripts and functions](Scripts_and_functions.ipynb)\n",
    "    * 1.9 [Python coding recommendations](#IIIh)\n",
    "    * 1.10 [Summary](#1.10-Summary)\n",
    "    \n",
    "- [References and additional material](#References-and-Additional-material:)"
   ]
  },
  {
   "cell_type": "markdown",
   "id": "cad80ff3-ec38-449d-b0b7-7cc5a489371d",
   "metadata": {},
   "source": [
    "## 1. Landing on Planet Python <a class=\"anchor\" id=\"III\"></a>\n",
    "\n",
    "### 1.1 Why should we learn `python` ? <a class=\"anchor\" id=\"IIIa\"></a>\n",
    "\n",
    "Is it Yet Another Language ? No, this is, in my opinion, the most important programming language you should masterize before the end of your cursus. In the last (two) decade(s), `Python` became one of the most popular/used language in data science and in particular in astronomy. The reasons for this are rooted in several of the advantages of `Python`:\n",
    "- Readability\n",
    "- Flexibility\n",
    "- High-level language\n",
    "- Robust methods for binding with `C`, `C++` and `FORTRAN` libraries (speed, legacy)\n",
    "- Growing number of libraries (coordinated by a very active community) and modules dedicated to specific scientific problems\n",
    "- You can use basically one single scripting language for every task you may need to do in astronomy. \n",
    "- Data reduction for a growing number of space observatories are running in python. This is the case for ALMA ([CASA](https://casa.nrao.edu/) environment calls C/C++ programs within ipython), JWST (not yet launched but [data reduction tools](https://jwst.stsci.edu/observing-programs/data-analysis-toolbox) are develloped in python), `HST`, `Chandra` (there is `CIAO` modules for python), ... and many others. All the data reduction developped within iraf are available through `pyraf`. The only noticable exception remains `ESO` data reduction tools ... but `python` still allows you to analyze the data. So most of the time, you can *reduce* and *analyse* your data within the same environment ! You may even be able, some times, to query them through `python`.\n",
    "\n",
    "If you are not yet convinced, I encourage you to have a look to this Nature paper (Nature 518, 7537) by J.M. Perkel http://www.nature.com/news/programming-pick-up-python-1.16833?WT.ec_id=NATURE-20150206  \n",
    "The following quote from this paper summarizes what I have just said before: \n",
    "> \" With the explosive growth of 'big data' in disciplines such as bioinformatics, neuroscience and astronomy, programming know-how is becoming ever more crucial. Researchers who can write code in Python can deftly manage their data sets, and work much more efficiently on a whole host of research-related tasks — from crunching numbers to cleaning up, analysing and visualizing data. Whereas some programming languages, such as MATLAB and R, focus on mathematical and statistical operations, Python is a general-purpose language, along the lines of C and C++ (the languages in which much commercial software and operating systems are written). As such, it is perhaps more complicated, Brown says, but also more capable: it is amenable to everything from automating small sets of instructions, to building websites, to fully fledged applications.\""
   ]
  },
  {
   "cell_type": "markdown",
   "id": "07079e75-8a2c-4f55-b6e2-89d19dc2df13",
   "metadata": {},
   "source": [
    "### 1.2 An (ultra-) brief history   <a class=\"anchor\" id=\"IIIb\"></a>\n",
    "\n",
    "The inventor of this language is the Dutch programer Guido Van Rossum. It was conceptualized in the late 1980s. Guido van Rossum worked at that time in a project called Amoeba, a distributed operating system. He programmed in a language called ABC but was not fully happy with that language. \n",
    "\n",
    "Those more interested into the python history can look at the interview of Guido van Rossum by Bill Venners: https://www.artima.com/intv/  and at this presentation of the language by van Rossum: https://www.python.org/doc/essays/foreword/. \n",
    "\n",
    "In the latter one, you'll discover that the origin of the naming `Python` has nothing to do with the snake, but refers to the BBC show [Monty Python's Flying Circus](https://en.wikipedia.org/wiki/Monty_Python%27s_Flying_Circus) "
   ]
  },
  {
   "cell_type": "markdown",
   "id": "67ec1c77-111d-42db-aa42-65eb949749c3",
   "metadata": {},
   "source": [
    "### 1.3 Python is an interpreted language <a class=\"anchor\" id=\"IIIc\"></a>\n",
    "\n",
    "What does it mean? Programming languages are generally categorized in two classes: *compiled* and *interpreted*. `python` may be seen as an *interpreted* language (although at some level it is *compiled*). One speaks of **compiled** language when a code is executed natively through the operating system after an operation, called *compilation* that converts the original code into a code natively understandable by the machine. *Instead*, when the code is evaluated line by line through another program (which is NOT the OS) which handles its execution (in principle this execution is done in a language natively understood by the machine, also called *low-level* language) via *interpretation*, one speaks of an **interpreted** language. \n",
    "\n",
    "Why is this important ? Although a given language often exists in different flavours/implementations that are either interpreted or compiled, the difference has an impact on the language properties. \n",
    "\n",
    "#### Advantages of interpreted language:\n",
    "1. platform independence (you can easily transport a code from one machine to another\n",
    "2. dynamic typing / flexibility (you do not have to do \"compile/recompile/test/recompile\" all the time !; you can run individual commands without writing a full script.)\n",
    "3. ease of debugging (it is easier to get source code information in interpreted languages)\n",
    "4. small program size (since interpreted languages have flexibility to choose instruction code)\n",
    "5. automatic memory management    \n",
    "\n",
    "#### Disadvantages of interpreted language: \n",
    "1. Speed\n",
    "2. Speed\n",
    "3. Speed\n",
    "\n",
    "`Python` is effectively a (very) high-level language, which means that there is *a lot* of built-in data-types (and we will spend most of the remaining of this class to go though the most important ones: arrays, dictionnary, lists). This variety of data types is part of the reason why python became so popular as it can deal easily with many different kind of input/outputs. \n",
    "\n",
    "Examples of compiled/interpreted languages:    \n",
    "\n",
    "| Name | Category |\n",
    "|:-----|:---------|\n",
    "| C/C++| Compiled |\n",
    "| Fortran | Compiled |\n",
    "| Perl | Interpreted |\n",
    "| Python | Interpreted (but compiled to byte code) |\n",
    "| MATLAB  | Interpreted | \n"
   ]
  },
  {
   "cell_type": "markdown",
   "id": "33084c97-c453-4ae2-adab-64d4c89b0f84",
   "metadata": {},
   "source": [
    "### 1.4 First steps  <a class=\"anchor\" id=\"IIId\"></a>\n",
    "\n",
    "*When do we start ?*  Now.    \n",
    "We have two ways to run python, either interactively, or from scripts. *Interactive* use is favoured when you want to do small exploratory analysis, test part of codes, visualise some results, while scripts will be used in general to run (and re-run) more complex programs. For now, we will only use *interactive* mode, within `jupyter notebooks`. An overview of other ways for using python is outlined in this [Notebook](Scripts_IDEs_and_Jupyter.ipynb).     "
   ]
  },
  {
   "cell_type": "code",
   "execution_count": 1,
   "id": "5e97b142-6533-4e5b-a488-97b3c2dc7254",
   "metadata": {
    "nbpresent": {
     "id": "7b99bace-8929-4e92-bf9f-3fd2bc2ffdea"
    }
   },
   "outputs": [
    {
     "name": "stdout",
     "output_type": "stream",
     "text": [
      "Hello\n"
     ]
    }
   ],
   "source": [
    "# Use this cell to experiment typing commands.\n",
    "print(\"Hello\")  # comment "
   ]
  },
  {
   "cell_type": "code",
   "execution_count": 2,
   "id": "6ea36114-acb2-42d4-af74-ef6ea8e198c6",
   "metadata": {},
   "outputs": [
    {
     "data": {
      "text/plain": [
       "'Hello world! '"
      ]
     },
     "execution_count": 2,
     "metadata": {},
     "output_type": "execute_result"
    }
   ],
   "source": [
    "# Note that the following also works\n",
    "\"Hello world! \""
   ]
  },
  {
   "cell_type": "markdown",
   "id": "dd7a64f9-8700-4b9b-82ed-1c0539f2bedd",
   "metadata": {},
   "source": [
    "There is is general no need to declare a variable type before using it. Let's try the following `python` command:   \n",
    "\n",
    "``` python\n",
    "x = 10\n",
    "x\n",
    "\n",
    "Out[1]: 10\n",
    "```"
   ]
  },
  {
   "cell_type": "code",
   "execution_count": 3,
   "id": "954fd46e-bebc-42bc-968b-1d6890e36152",
   "metadata": {},
   "outputs": [],
   "source": [
    "# try other commands \n",
    "x = 10"
   ]
  },
  {
   "cell_type": "code",
   "execution_count": 4,
   "id": "0d73e900-eb28-4d7f-a615-b49cdf402093",
   "metadata": {},
   "outputs": [
    {
     "data": {
      "text/plain": [
       "10"
      ]
     },
     "execution_count": 4,
     "metadata": {},
     "output_type": "execute_result"
    }
   ],
   "source": [
    "x"
   ]
  },
  {
   "cell_type": "code",
   "execution_count": 5,
   "id": "c1087e4f",
   "metadata": {},
   "outputs": [
    {
     "name": "stdout",
     "output_type": "stream",
     "text": [
      "10\n"
     ]
    }
   ],
   "source": [
    "print(x)"
   ]
  },
  {
   "cell_type": "markdown",
   "id": "793150b9-916c-4a99-afde-8beee1de613e",
   "metadata": {},
   "source": [
    "It is important to note that in `python`, variables are *CASE sensitive*, so `x` and `X` refer to two *different* objects."
   ]
  },
  {
   "cell_type": "code",
   "execution_count": 6,
   "id": "3bf39ce1-0c0a-4b5a-9147-66ae1d3d51ec",
   "metadata": {},
   "outputs": [],
   "source": [
    "X = 3.2"
   ]
  },
  {
   "cell_type": "code",
   "execution_count": 7,
   "id": "bccdf4e5",
   "metadata": {},
   "outputs": [
    {
     "name": "stdout",
     "output_type": "stream",
     "text": [
      "x= 10 X = 3.2\n"
     ]
    }
   ],
   "source": [
    "print(\"x=\", x, \"X =\", X)"
   ]
  },
  {
   "cell_type": "markdown",
   "id": "c573e38a-1d04-4efa-b662-d25ddb946c0d",
   "metadata": {},
   "source": [
    "You can also print the result of an operation and some text, separating the objects to be printed with `,`:\n",
    "``` python\n",
    "print('Result=', x/2) \n",
    "\n",
    "```\n",
    "\n",
    "You have also a possibility to format the output (we'll see this in more details later):\n",
    "\n",
    "``` python\n",
    "print('Result= %.2f, %.i' %(x, x/2) )   # .2f = float with 2 digits ; .i = integer\n",
    "\n",
    "```"
   ]
  },
  {
   "cell_type": "code",
   "execution_count": 8,
   "id": "220e8a49-6cc7-431e-aec1-75e567637972",
   "metadata": {},
   "outputs": [
    {
     "name": "stdout",
     "output_type": "stream",
     "text": [
      "Result= 5.0\n"
     ]
    }
   ],
   "source": [
    "print('Result=', x/2) "
   ]
  },
  {
   "cell_type": "markdown",
   "id": "2c2071f6-9f77-41bd-9393-ef33597a7055",
   "metadata": {},
   "source": [
    "**Notes**: \n",
    "- If you use version 2 of python, you'll type `print \"mytext\"` , but with version 3 of python, you need to type `print(\"mytext\")`. \n",
    "- Operations work as expected. Note however a difference of behaviour between python 2 and 3 for the DIVISION of two integers: it gives an integer (3/2 = 1) in python 2, but a float in python 3. To get a float, you can convert number into float (float(x) or add a `.` after integers to define them as floats (`3` is an integer but `2.` is a float).\n",
    "- Unless `r` or `R` is preceding a string, escape sequences *in strings* are interpreted according to rules similar to standard `C`. The most common escape sequences are `\"\\n\"` (adds a new line at the end of the string), `\"\\t\"` (adds a tab), `\"\\b\"` (Backspace). Note that typing in an interactive shell `Hello \\n`, or print r`Hello \\n` wont' have the same effect. When `r` or `R` is preceding the string, the backslash is left in the string. See https://docs.python.org/3/tutorial/introduction.html#strings for more details regarding string formatting. (We'll come back to strings and number formatting later). "
   ]
  },
  {
   "cell_type": "markdown",
   "id": "6ef8db1f-f444-4e30-91d4-b71b3070af26",
   "metadata": {},
   "source": [
    "#### Algebraic operations\n",
    "\n",
    "The operators `+`, `-`,`*` and `/`work just like in most other languages. To take the power of a number, you should use `**`. "
   ]
  },
  {
   "cell_type": "code",
   "execution_count": 9,
   "id": "97ac8417-bf2a-4a6a-be3c-d4db889914a3",
   "metadata": {},
   "outputs": [
    {
     "data": {
      "text/plain": [
       "8"
      ]
     },
     "execution_count": 9,
     "metadata": {},
     "output_type": "execute_result"
    }
   ],
   "source": [
    "# Try it out \n",
    "2**3"
   ]
  },
  {
   "cell_type": "code",
   "execution_count": 10,
   "id": "044fb3f6",
   "metadata": {},
   "outputs": [
    {
     "data": {
      "text/plain": [
       "4.05"
      ]
     },
     "execution_count": 10,
     "metadata": {},
     "output_type": "execute_result"
    }
   ],
   "source": [
    "2**2 + 5 / 100"
   ]
  },
  {
   "cell_type": "markdown",
   "id": "b85f4486-f9b4-4acb-826e-a57d49bf52c2",
   "metadata": {},
   "source": [
    "The integer numbers (e.g. 2, 4, 20) have type `int`, the ones with a fractional part (e.g. 5.0, 1.6) have type `float`. You can know the type of a variable simply by typing: \n",
    "``` python \n",
    "my_variable = 2.\n",
    "type(my_variable)\n",
    "\n",
    "Out[]: float\n",
    "```"
   ]
  },
  {
   "cell_type": "code",
   "execution_count": 11,
   "id": "a7f8bf17-da16-4450-b8ea-f9c9a806f570",
   "metadata": {},
   "outputs": [
    {
     "data": {
      "text/plain": [
       "float"
      ]
     },
     "execution_count": 11,
     "metadata": {},
     "output_type": "execute_result"
    }
   ],
   "source": [
    "my_variable = 2.\n",
    "type(my_variable)"
   ]
  },
  {
   "cell_type": "code",
   "execution_count": 12,
   "id": "21ca543f-a447-4c93-a9a5-3c65575c1f7e",
   "metadata": {},
   "outputs": [
    {
     "data": {
      "text/plain": [
       "8.0"
      ]
     },
     "execution_count": 12,
     "metadata": {},
     "output_type": "execute_result"
    }
   ],
   "source": [
    "2.**3"
   ]
  },
  {
   "cell_type": "code",
   "execution_count": 13,
   "id": "2bdbb210",
   "metadata": {},
   "outputs": [
    {
     "data": {
      "text/plain": [
       "0.05"
      ]
     },
     "execution_count": 13,
     "metadata": {},
     "output_type": "execute_result"
    }
   ],
   "source": [
    "5 / 100"
   ]
  },
  {
   "cell_type": "markdown",
   "id": "30e19d35-cb64-49fc-aa9b-c0baddfaf4e4",
   "metadata": {},
   "source": [
    "#### Variable types\n",
    "\n",
    "The main types of numbers are `float`, `int`, `complex`.   \n",
    "By default, if you do not use the `.` after a digit, the variable will be an integer. It will otherwise be a float. \n",
    "\n",
    "##### Syntax: \n",
    "\n",
    "Explicit syntax: \n",
    "\n",
    "``` python \n",
    "# complex\n",
    "complex([real[, imag]])\n",
    "# Float\n",
    "float(number)\n",
    "# Integer\n",
    "int(number)\n",
    "```\n",
    "\n",
    "Implicit syntax:   \n",
    "``` python\n",
    "# complex\n",
    "c = real + imaginary * j\n",
    "# float\n",
    "f = 3.\n",
    "# integer\n",
    "i = 3\n",
    "```"
   ]
  },
  {
   "cell_type": "code",
   "execution_count": 14,
   "id": "5e04cf3e-d963-4ebc-b423-b59f5264f817",
   "metadata": {},
   "outputs": [
    {
     "name": "stdout",
     "output_type": "stream",
     "text": [
      "<class 'complex'>\n",
      "(4+7j)\n"
     ]
    }
   ],
   "source": [
    "c = 4 +7j\n",
    "print(type(c))\n",
    "print(c)"
   ]
  },
  {
   "cell_type": "code",
   "execution_count": 15,
   "id": "aebc5c88-3e34-44ce-808a-70ff3ac25a9b",
   "metadata": {},
   "outputs": [
    {
     "name": "stdout",
     "output_type": "stream",
     "text": [
      "<class 'complex'>\n",
      "(4+7j)\n"
     ]
    }
   ],
   "source": [
    "c1 = complex(4,7)\n",
    "print(type(c1))\n",
    "print(c1)"
   ]
  },
  {
   "cell_type": "code",
   "execution_count": 16,
   "id": "2f38d0fe",
   "metadata": {},
   "outputs": [
    {
     "data": {
      "text/plain": [
       "(8+14j)"
      ]
     },
     "execution_count": 16,
     "metadata": {},
     "output_type": "execute_result"
    }
   ],
   "source": [
    "c+c1"
   ]
  },
  {
   "cell_type": "markdown",
   "id": "c71d623c-1147-4661-9b31-a0b29a3f11a9",
   "metadata": {},
   "source": [
    "You can convert a float to an integ"
   ]
  },
  {
   "cell_type": "code",
   "execution_count": 17,
   "id": "0c0e41fe-83ce-4345-9cf3-fa590e7f5203",
   "metadata": {},
   "outputs": [
    {
     "data": {
      "text/plain": [
       "8"
      ]
     },
     "execution_count": 17,
     "metadata": {},
     "output_type": "execute_result"
    }
   ],
   "source": [
    "int(8.2)"
   ]
  },
  {
   "cell_type": "markdown",
   "id": "16ce5ff7-d23f-47dd-970e-44549f96126a",
   "metadata": {},
   "source": [
    "`Boolean` is another important variable type. \n",
    "\n",
    "```python \n",
    "False = bool(0)\n",
    "True = bool(1)\n",
    "# implicit definition\n",
    "b = True\n",
    "```"
   ]
  },
  {
   "cell_type": "code",
   "execution_count": 18,
   "id": "8c7c144e-0d40-46c2-9ef5-e2f5f1ca6a56",
   "metadata": {},
   "outputs": [
    {
     "data": {
      "text/plain": [
       "(True, False)"
      ]
     },
     "execution_count": 18,
     "metadata": {},
     "output_type": "execute_result"
    }
   ],
   "source": [
    "bool(1), bool(0)"
   ]
  },
  {
   "cell_type": "markdown",
   "id": "2d87eaba-26e4-42fa-b722-8f13f13bbf25",
   "metadata": {},
   "source": [
    "#### The `None` keyword\n",
    "\n",
    "The `None` keyword is used to define a null value, or no value at all.\n",
    "None is **not** the same as `0`,  `False`, or an `empty` string. `None` is a data type of its own (`NoneType`) and only `None` can be `None`."
   ]
  },
  {
   "cell_type": "code",
   "execution_count": 19,
   "id": "f7fff1eb-2103-4b5a-915d-b6ef3b724ba3",
   "metadata": {},
   "outputs": [
    {
     "data": {
      "text/plain": [
       "NoneType"
      ]
     },
     "execution_count": 19,
     "metadata": {},
     "output_type": "execute_result"
    }
   ],
   "source": [
    "a = None\n",
    "type(a) "
   ]
  },
  {
   "cell_type": "markdown",
   "id": "e0464623-1946-42cf-9034-76adb631b154",
   "metadata": {},
   "source": [
    "### 1.5 Arithmetic and comparison operators\n",
    "\n",
    "On top of the 4 classical operations, modulus division is `%`, floor division is `//` and exponent is `**`. The following table summarizes the different operations. \n",
    "\n",
    "In the following examples, `a=10`, `b=20`.\n",
    "\n",
    "|Operator \t| Name | Description |\tExample   |\n",
    "|-----------|-------|------|-----------|\n",
    "| `+` | Addition \t| Adds values on either side of the operator. | \t`a + b = 30`  |\n",
    "| `-` | Subtraction |\tSubtracts right hand operand from left hand operand. |\t`a – b = -10` | \n",
    "| `*` | Multiplication |\tMultiplies values on either side of the operator  |\t`a * b = 200` | \n",
    "| `/` | Division \t| Divides left hand operand by right hand operand |\t`b / a = 2` |\n",
    "| `%` | Modulus \t| Divides left hand operand by right hand operand and returns remainder |\t`b % a = 0` | \n",
    "| `**` | Exponent |\tPerforms exponential (power) calculation on operators |\t`a**b =` $10^{20}$ |\n",
    "| `//` | Floor Division | The division of operands where the result is the quotient in which the digits after the decimal point are removed. But if one of the operands is negative, the result is floored, i.e., rounded away from zero (towards negative infinity) | \t`9//2 = 4` and `9.0//2.0 = 4.0`, `-11//3 = -4`, `-11.0//3 = -4.0` |\n",
    "\n",
    "Comparison operators are like in `C` programming language.    \n",
    "\n",
    "\n",
    "|Operator \t| Description |\tExample |\n",
    "|-----------|-------------|---------|\n",
    "|`==` | \tIf the values of two operands are equal, then the condition becomes true. |\t`(a == b)` is False |\n",
    "| `!=` |\tIf values of two operands are not equal, then condition becomes true. \t| `(a != b)` is True. |\n",
    "| `>` \t| If the value of left operand is greater than the value of right operand, then condition becomes true. | \t`(a > b)` is False. | \n",
    "| `<` \t| If the value of left operand is less than the value of right operand, then condition becomes true. \t| `(a < b)` is True. | \n",
    "| `>=` \t| If the value of left operand is greater than or equal to the value of right operand, then condition becomes true.| \t`(a >= b)` is False. | \n",
    "| `<= `|\tIf the value of left operand is less than or equal to the value of right operand, then condition becomes true. \t| `(a <= b)` is True.| \n"
   ]
  },
  {
   "cell_type": "code",
   "execution_count": 20,
   "id": "637c34d1-2cfb-48d8-9be8-5a34a713cc5a",
   "metadata": {},
   "outputs": [
    {
     "name": "stdout",
     "output_type": "stream",
     "text": [
      "a =  3.2 b =  3.0 c =  3.2\n",
      " a != b: True \n",
      " a == c: True \n",
      " a <= c: True\n"
     ]
    }
   ],
   "source": [
    "# Try out the operators \n",
    "a = 3.2\n",
    "b = 3. \n",
    "c = 3.2 \n",
    "print('a = ', a, 'b = ', b, 'c = ', c)\n",
    "print(' a != b:', a != b, '\\n a == c:', a == c,  '\\n a <= c:', a <= c)"
   ]
  },
  {
   "cell_type": "markdown",
   "id": "bf317da6-eb5c-4ab9-8e19-5aeef5dc9d86",
   "metadata": {
    "nbpresent": {
     "id": "d283d81b-28ee-4be4-b84d-52006dd64e02"
    }
   },
   "source": [
    "### 1.6 Container Objects  <a class=\"anchor\" id=\"IIIe\"></a>\n",
    "\n",
    "Besides strings, and numeric variables (floats, integer), there is in python a variety of container types. These containers include **lists**, **tuples**, **sets** and **dictionaries**"
   ]
  },
  {
   "cell_type": "markdown",
   "id": "a0a298f0-4464-47e3-9719-b3966924c7e8",
   "metadata": {
    "nbpresent": {
     "id": "9cb72dfe-2771-4234-98a7-47933e6dc652"
    }
   },
   "source": [
    "#### 1.6.1 Lists: \n",
    "\n",
    "A list is an *ordered* sequence of objects that can be accessed by item indexing via square brackets `[ ]`. In python, indexing **is always zero-based**, i.e. the first index of a list (but this is also true for arrays -that we will study later-) is zero.\n",
    "\n",
    "**Example:**\n",
    "``` python\n",
    "L = [1,2,3,4]\n",
    "L[0] \n",
    "    Out: 1\n",
    "L[2]\n",
    "    Out: 3\n",
    "```\n",
    "\n",
    "An important characteristic of lists is that they can include objects of *various types*, including other lists. \n",
    "\n",
    "**Example:**\n",
    "``` python\n",
    "L2 = [1., L, 'hello world']\n",
    "L2[2]\n",
    "    Out: 'hello world'\n",
    "```"
   ]
  },
  {
   "cell_type": "code",
   "execution_count": 2,
   "id": "f29175e6-8daa-4e81-8cef-ad8ad3f1754b",
   "metadata": {
    "nbpresent": {
     "id": "67d8eefe-a4b9-419b-8d1e-8039493d90d6"
    }
   },
   "outputs": [
    {
     "data": {
      "text/plain": [
       "'hello world'"
      ]
     },
     "execution_count": 2,
     "metadata": {},
     "output_type": "execute_result"
    }
   ],
   "source": [
    "L = [1,2,3,4]\n",
    "L2 = [1., L, 'hello world']\n",
    "L2[2]"
   ]
  },
  {
   "cell_type": "markdown",
   "id": "6e40061f-892c-4ebb-aa28-1d5c7b247c1d",
   "metadata": {
    "nbpresent": {
     "id": "e4e8417d-a462-4948-a340-c89f4d988d44"
    }
   },
   "source": [
    "To access several elements of a list/a sublist, this is called **index slicing**, you can use the semicolon `:`. The slicing can work in various ways:   \n",
    "**Example:**\n",
    "``` python\n",
    "L[0:2]   # First two elements of a list  ; note that item with index #2 is EXCLUDED\n",
    "L[:2]    # First two elements, 0 is implicit\n",
    "L[::2]   # every 2 elements (from the first one with index 0)\n",
    "L[-2:]   # Last two items \n",
    "L[i:]    # From the item i until the end (last entry is implicit). No error message if i > len(L) \n",
    "L[::-1]  # All items in reverse order\n",
    "    \n",
    "```\n",
    "List can be generated also using the function list()\n",
    "\n",
    "One way to remember how slices work is to think of the indices as pointing between characters, with the left edge of the first character numbered 0. Then the right edge of the last character of a string of n characters has index n, for example:\n",
    "``` python\n",
    " +---+---+---+---+---+---+\n",
    " | P | y | t | h | o | n |\n",
    " +---+---+---+---+---+---+\n",
    " 0   1   2   3   4   5   6\n",
    "-6  -5  -4  -3  -2  -1\n",
    "```\n",
    "The first row of numbers gives the position of the indices 0...6 (hereabove, in the string `'python'`); the second row gives the corresponding negative indices. The slice `[i:j]` from `i` to `j` consists of all characters between the edges labeled `i` and `j`, respectively.  \n",
    "\n",
    "By calling item \\# i, one gets the item at the right side of i. This is why calling item `n` of a list or string or (...) of size `n` will result an error message: there is no item on the right side of position `n` (n=6 in the example above).   \n",
    "\n",
    "For non-negative indices, the length of a slice is the difference of the indices, if both are within bounds. \n",
    "\n",
    "\n",
    "**Notes**: \n",
    "- A list is an *[iterable](https://docs.python.org/2/glossary.html#term-iterable)*, which means that one can iterate over the elements of a list. (`list.__iter__()`, `enumerate(list)`). This also means that there is special *methods* that allow you to get e.g. its length (`list.__len__()` or `len(list)`). \n",
    "- Contrary to a `string`, a `list` is mutable, which means that you can replace values of elements, or even clear elements of a list. For example `L[2:4] = []`, will clear elements \\#2 and \\#3 of list `L`.    \n",
    "- *Slicing* in `python` works for any *[sequence](https://docs.python.org/2/glossary.html#term-sequence)* type  object. This includes built-in iterables (i.e. `string`, `list`, `tuple`), but also non iterable objects such as `dict` whose length can also be accessed with method `len()`. "
   ]
  },
  {
   "cell_type": "code",
   "execution_count": 4,
   "id": "62e3dbc3",
   "metadata": {},
   "outputs": [
    {
     "data": {
      "text/plain": [
       "[0, 2, 4]"
      ]
     },
     "execution_count": 4,
     "metadata": {},
     "output_type": "execute_result"
    }
   ],
   "source": []
  },
  {
   "cell_type": "code",
   "execution_count": 5,
   "id": "cafa3fd5",
   "metadata": {},
   "outputs": [
    {
     "data": {
      "text/plain": [
       "[0, 1, 2, 3, 4, 5]"
      ]
     },
     "execution_count": 5,
     "metadata": {},
     "output_type": "execute_result"
    }
   ],
   "source": [
    "# use this cell to experiment with lists as described in the above examples, \n",
    "# and experiment with the various ways to slice through a list as described above\n",
    "L = [0, 1, 2, 3, 4, 5, 6, 7, 8, 9]\n",
    "L[0:6]"
   ]
  },
  {
   "cell_type": "code",
   "execution_count": 6,
   "id": "89149a14-b5a5-41c9-b6db-b6b78b89778e",
   "metadata": {},
   "outputs": [
    {
     "data": {
      "text/plain": [
       "[0, 2, 4]"
      ]
     },
     "execution_count": 6,
     "metadata": {},
     "output_type": "execute_result"
    }
   ],
   "source": [
    "# Slicing with step\n",
    "L[0:6:2]"
   ]
  },
  {
   "cell_type": "code",
   "execution_count": 11,
   "id": "bed4531c-551d-4996-bfe7-f1e766be5923",
   "metadata": {},
   "outputs": [
    {
     "data": {
      "text/plain": [
       "[9, 8, 7, 6, 5, 4, 3, 2, 1, 0]"
      ]
     },
     "execution_count": 11,
     "metadata": {},
     "output_type": "execute_result"
    }
   ],
   "source": [
    "# Slicing with reversed order\n",
    "L[::-1]"
   ]
  },
  {
   "cell_type": "code",
   "execution_count": 15,
   "id": "05f46a9e",
   "metadata": {},
   "outputs": [
    {
     "data": {
      "text/plain": [
       "[0, 3, 6, 9]"
      ]
     },
     "execution_count": 15,
     "metadata": {},
     "output_type": "execute_result"
    }
   ],
   "source": [
    "L[::3]"
   ]
  },
  {
   "cell_type": "code",
   "execution_count": 12,
   "id": "5fc1e415",
   "metadata": {},
   "outputs": [
    {
     "data": {
      "text/plain": [
       "['a', 'b', 'c']"
      ]
     },
     "execution_count": 12,
     "metadata": {},
     "output_type": "execute_result"
    }
   ],
   "source": [
    "# Slicing of a list of strings \n",
    "LofS = ['a', 'b', 'c', 'd']\n",
    "LofS[0:3]"
   ]
  },
  {
   "cell_type": "code",
   "execution_count": 14,
   "id": "00dcdbf2",
   "metadata": {},
   "outputs": [
    {
     "data": {
      "text/plain": [
       "'Pyt'"
      ]
     },
     "execution_count": 14,
     "metadata": {},
     "output_type": "execute_result"
    }
   ],
   "source": [
    "# Slicing for a single string (i.e. not a list)\n",
    "L_single_string = 'Python'\n",
    "single_string[0:3]"
   ]
  },
  {
   "cell_type": "code",
   "execution_count": 17,
   "id": "59754ddc-53a1-49b4-825d-3c9566950618",
   "metadata": {
    "nbpresent": {
     "id": "c206a7a1-051b-4041-ad3e-ef807dc37013"
    }
   },
   "outputs": [
    {
     "name": "stdout",
     "output_type": "stream",
     "text": [
      "P\n",
      "y\n",
      "t\n",
      "h\n",
      "o\n",
      "n\n"
     ]
    }
   ],
   "source": [
    "# List is an iterable \n",
    "L = ['P', 'y', 't', 'h', 'o', 'n']\n",
    "for ll in L:\n",
    "    print(ll)"
   ]
  },
  {
   "cell_type": "code",
   "execution_count": 16,
   "id": "257f220a",
   "metadata": {},
   "outputs": [
    {
     "name": "stdout",
     "output_type": "stream",
     "text": [
      "0\n",
      "1\n",
      "2\n",
      "3\n",
      "4\n",
      "5\n"
     ]
    }
   ],
   "source": [
    "# The way most of you are used to iterate over elements works as well \n",
    "for i in [0,1,2,3,4,5]:\n",
    "    print(L[i])"
   ]
  },
  {
   "cell_type": "code",
   "execution_count": null,
   "id": "61ccd285",
   "metadata": {},
   "outputs": [],
   "source": []
  },
  {
   "cell_type": "markdown",
   "id": "0cd2b8b9-5bfa-4576-bb6d-af783c3a5e42",
   "metadata": {
    "nbpresent": {
     "id": "e9cbadd1-4e47-4356-91ce-bf2871014f7f"
    }
   },
   "source": [
    "#### 1.6.2 Sets:\n",
    "\n",
    "A **set** is a bit like a list BUT its elements are **unordered** and **unique** (no repetition).  \n",
    "A set is built using the function `set([])`\n",
    "\n",
    "**Example:**\n",
    "``` python \n",
    "S = set([1,1,2,4,3,5])\n",
    "\n",
    "S = {1,1,2,4,3,5}  # Another way to define a set object !\n",
    "```\n",
    "Use the cell below to see the output of `set` (`set` did not exist before python 2.6)\n"
   ]
  },
  {
   "cell_type": "code",
   "execution_count": 20,
   "id": "174494bc-6217-429a-9308-fad006041ce3",
   "metadata": {
    "nbpresent": {
     "id": "7214e273-2b7a-4883-b83d-6851231b0563"
    }
   },
   "outputs": [
    {
     "data": {
      "text/plain": [
       "{1, 2, 3, 4, 5}"
      ]
     },
     "execution_count": 20,
     "metadata": {},
     "output_type": "execute_result"
    }
   ],
   "source": [
    "# Example of set defined using set()\n",
    "S = set([1,1,2,4,3,5])\n",
    "S"
   ]
  },
  {
   "cell_type": "code",
   "execution_count": 21,
   "id": "f4129962-8c7e-4731-875c-637ba5a00951",
   "metadata": {
    "nbpresent": {
     "id": "d1e75721-c39c-43d7-b7be-d9ba21021f74"
    }
   },
   "outputs": [],
   "source": [
    "# Implicit definition with {} \n",
    "S2 = {1,1,2,4,3,5}"
   ]
  },
  {
   "cell_type": "code",
   "execution_count": 22,
   "id": "66702840",
   "metadata": {},
   "outputs": [
    {
     "ename": "TypeError",
     "evalue": "'set' object is not subscriptable",
     "output_type": "error",
     "traceback": [
      "\u001b[0;31m---------------------------------------------------------------------------\u001b[0m",
      "\u001b[0;31mTypeError\u001b[0m                                 Traceback (most recent call last)",
      "\u001b[0;32m/var/folders/9c/nn9vyf350tq3pbbll3zq6n8h0000gn/T/ipykernel_31314/1676718753.py\u001b[0m in \u001b[0;36m<module>\u001b[0;34m\u001b[0m\n\u001b[1;32m      1\u001b[0m \u001b[0;31m# Show that set is not subscriptable\u001b[0m\u001b[0;34m\u001b[0m\u001b[0;34m\u001b[0m\u001b[0;34m\u001b[0m\u001b[0m\n\u001b[0;32m----> 2\u001b[0;31m \u001b[0mS\u001b[0m\u001b[0;34m[\u001b[0m\u001b[0;36m2\u001b[0m\u001b[0;34m]\u001b[0m\u001b[0;34m\u001b[0m\u001b[0;34m\u001b[0m\u001b[0m\n\u001b[0m",
      "\u001b[0;31mTypeError\u001b[0m: 'set' object is not subscriptable"
     ]
    }
   ],
   "source": [
    "# Show that set is not subscriptable \n",
    "S[2]"
   ]
  },
  {
   "cell_type": "markdown",
   "id": "11895f2c-8bbd-4caa-b443-0d8a47ec4f87",
   "metadata": {
    "nbpresent": {
     "id": "36e33cde-c585-4a5c-b194-656607c0c818"
    }
   },
   "source": [
    "#### 1.6.3 Tuples\n",
    "\n",
    "Tuples are similar to lists but they are separated by parentheses `( )` instead of square brackets `[ ]`.   \n",
    "They support indexing and slicing like lists. However, Tuples (like strings) are **immutable**, which means that once they are created, the items cannot be changed. \n",
    "\n",
    "**Example:**\n",
    "``` python\n",
    "L = [1,2,3,4]  # this is a List\n",
    "T = (1,2,3,4)  # this is a Tuple\n",
    "```"
   ]
  },
  {
   "cell_type": "code",
   "execution_count": 23,
   "id": "8a5e3b70",
   "metadata": {},
   "outputs": [
    {
     "data": {
      "text/plain": [
       "(1, 2, 3, 4)"
      ]
     },
     "execution_count": 23,
     "metadata": {},
     "output_type": "execute_result"
    }
   ],
   "source": [
    "# Define a tuple \n",
    "T = (1,2,3,4)  \n",
    "T"
   ]
  },
  {
   "cell_type": "code",
   "execution_count": 24,
   "id": "5be62ca0",
   "metadata": {},
   "outputs": [
    {
     "data": {
      "text/plain": [
       "tuple"
      ]
     },
     "execution_count": 24,
     "metadata": {},
     "output_type": "execute_result"
    }
   ],
   "source": [
    "type(T)"
   ]
  },
  {
   "cell_type": "code",
   "execution_count": 27,
   "id": "ff643ff7-7aa0-41bb-b939-1f5a6d1ba2ed",
   "metadata": {
    "nbpresent": {
     "id": "4db800e8-bc31-42e6-9420-584f723312f8"
    }
   },
   "outputs": [
    {
     "data": {
      "text/plain": [
       "[1, 2, 56, 4, 5]"
      ]
     },
     "execution_count": 27,
     "metadata": {},
     "output_type": "execute_result"
    }
   ],
   "source": [
    "# Create a list of length 5, and assign a value to item #2. \n",
    "# Do the same with a tuple. What is the difference ? \n",
    "L = [1, 2, 3, 4, 5]\n",
    "L[2] = 56\n",
    "L"
   ]
  },
  {
   "cell_type": "code",
   "execution_count": 28,
   "id": "8398a232",
   "metadata": {},
   "outputs": [
    {
     "ename": "TypeError",
     "evalue": "'tuple' object does not support item assignment",
     "output_type": "error",
     "traceback": [
      "\u001b[0;31m---------------------------------------------------------------------------\u001b[0m",
      "\u001b[0;31mTypeError\u001b[0m                                 Traceback (most recent call last)",
      "\u001b[0;32m/var/folders/9c/nn9vyf350tq3pbbll3zq6n8h0000gn/T/ipykernel_31314/2255141722.py\u001b[0m in \u001b[0;36m<module>\u001b[0;34m\u001b[0m\n\u001b[1;32m      1\u001b[0m \u001b[0mT\u001b[0m \u001b[0;34m=\u001b[0m \u001b[0;34m(\u001b[0m\u001b[0;36m1\u001b[0m\u001b[0;34m,\u001b[0m \u001b[0;36m2\u001b[0m\u001b[0;34m,\u001b[0m \u001b[0;36m3\u001b[0m\u001b[0;34m,\u001b[0m \u001b[0;36m4\u001b[0m\u001b[0;34m,\u001b[0m \u001b[0;36m5\u001b[0m\u001b[0;34m)\u001b[0m\u001b[0;34m\u001b[0m\u001b[0;34m\u001b[0m\u001b[0m\n\u001b[0;32m----> 2\u001b[0;31m \u001b[0mT\u001b[0m\u001b[0;34m[\u001b[0m\u001b[0;36m2\u001b[0m\u001b[0;34m]\u001b[0m \u001b[0;34m=\u001b[0m \u001b[0;36m56\u001b[0m\u001b[0;34m\u001b[0m\u001b[0;34m\u001b[0m\u001b[0m\n\u001b[0m\u001b[1;32m      3\u001b[0m \u001b[0mT\u001b[0m\u001b[0;34m\u001b[0m\u001b[0;34m\u001b[0m\u001b[0m\n",
      "\u001b[0;31mTypeError\u001b[0m: 'tuple' object does not support item assignment"
     ]
    }
   ],
   "source": [
    "T = (1, 2, 3, 4, 5)\n",
    "T[2] = 56\n",
    "T"
   ]
  },
  {
   "cell_type": "markdown",
   "id": "0164207a-f7ea-49fb-ab75-900a0a1ab251",
   "metadata": {
    "nbpresent": {
     "id": "c856176f-5222-4cbd-b43d-3b9ee775f83b"
    }
   },
   "source": [
    "#### 1.6.4 Lists, sets and tuple methods:\n",
    "\n",
    "There are many operations that can be done on lists, sets and tuples and that you may want to do very soon.\n",
    "\n",
    "- Add and remove elements from a list:\n",
    "``` python\n",
    "L.append(5) # Append an object at the end of a list\n",
    "L.insert(3, 'q')  # insert a string \"q\" at location 3. \n",
    "L.pop()     # Removes last object (or object at a specified index) of a list\n",
    "L.extend([6,8])  # Extend list, 'in-place'\n",
    "```\n",
    "- Concatenate and repeat lists:\n",
    "``` python\n",
    "L + L     # Concatenation\n",
    "    Out: [1,2,3,4,1,2,3,4]\n",
    "2 * L     # Repetition\n",
    "    Out: [1, 2, 3, 4, 1, 2, 3, 4]\n",
    "```\n",
    "- Sort elements of a list:\n",
    "\n",
    "``` python\n",
    "L.sort()   # sort in-place\n",
    "\n",
    "```\n",
    "\n",
    "- Conversion of lists to other types:\n",
    "\t* Convert list to a tuple (Remember that tuple are immutable -> cannot be changed !):   \n",
    "        `tuple(mylist)` \n",
    "\t* Convert list to set: (set is a unordered collection of unique items => duplicates are LOST!)    \n",
    "        `set(mylist)`\n",
    "    * Convert list of strings to strings:    \n",
    "        `''.join(Ls)`  \n",
    "\n",
    "**Notes**: \n",
    "- For a more exhaustive overview of the methods applicable to lists, consult the [Data Structure section](https://docs.python.org/2/tutorial/datastructures.html#more-on-lists) of the Python tutorial.\n",
    "- Convert list of integers to strings:\n",
    "    ``` python\n",
    "        listOfNumbers = [1, 2, 3]\n",
    "        strOfNumbers = ''.join(str(n) for n in listOfNumbers)\n",
    "\t```"
   ]
  },
  {
   "cell_type": "code",
   "execution_count": 29,
   "id": "042ef907",
   "metadata": {},
   "outputs": [
    {
     "data": {
      "text/plain": [
       "[1, 2, 56, 4, 5, 4]"
      ]
     },
     "execution_count": 29,
     "metadata": {},
     "output_type": "execute_result"
    }
   ],
   "source": [
    "L.append(4)\n",
    "L"
   ]
  },
  {
   "cell_type": "code",
   "execution_count": 72,
   "id": "7d5bcebd-0835-4241-a64f-bcc017c52035",
   "metadata": {
    "nbpresent": {
     "id": "f752f776-cc87-4dc1-bda0-c3549ef25c5e"
    }
   },
   "outputs": [
    {
     "data": {
      "text/plain": [
       "[1, 2, 56, 'q', 'q', 4, 5, 4]"
      ]
     },
     "execution_count": 72,
     "metadata": {},
     "output_type": "execute_result"
    }
   ],
   "source": [
    "# Experiment with list and tuple methods \n",
    "L.insert(3, 'q')\n",
    "L"
   ]
  },
  {
   "cell_type": "code",
   "execution_count": 45,
   "id": "cbee2db6-500a-49b8-b293-05e469b90b1d",
   "metadata": {
    "nbpresent": {
     "id": "745b3e7f-b8d6-4e9b-aa6d-db8fe7d327af"
    }
   },
   "outputs": [
    {
     "name": "stdout",
     "output_type": "stream",
     "text": [
      "[0, 1, 3, 4, 5]\n"
     ]
    }
   ],
   "source": [
    "# Create a list of 6 integers, remove the 3rd one. Add a list of 2 strings. \n",
    "L_of_int = [0,1,2,3,4,5]\n",
    "L_of_int.pop(2)\n",
    "print(L_of_int)\n",
    "# Then use L.append(9) and L.extend([17, 24]) and compare the output at each step"
   ]
  },
  {
   "cell_type": "code",
   "execution_count": 46,
   "id": "f6707a57",
   "metadata": {},
   "outputs": [
    {
     "data": {
      "text/plain": [
       "[0, 1, 3, 4, 5, ['s1', 's2']]"
      ]
     },
     "execution_count": 46,
     "metadata": {},
     "output_type": "execute_result"
    }
   ],
   "source": [
    "# Add a list of 2 strings.\n",
    "L_of_int.append(['s1', 's2'])\n",
    "L_of_int"
   ]
  },
  {
   "cell_type": "code",
   "execution_count": 47,
   "id": "97ce6458",
   "metadata": {},
   "outputs": [
    {
     "data": {
      "text/plain": [
       "[0, 1, 3, 4, 5, ['s1', 's2'], 's4', 's8']"
      ]
     },
     "execution_count": 47,
     "metadata": {},
     "output_type": "execute_result"
    }
   ],
   "source": [
    "L_of_int.extend(['s4', 's8'])\n",
    "L_of_int"
   ]
  },
  {
   "cell_type": "code",
   "execution_count": 48,
   "id": "7f0c5ad7",
   "metadata": {},
   "outputs": [
    {
     "data": {
      "text/plain": [
       "['s1', 's2']"
      ]
     },
     "execution_count": 48,
     "metadata": {},
     "output_type": "execute_result"
    }
   ],
   "source": [
    "L_of_int[5]"
   ]
  },
  {
   "cell_type": "code",
   "execution_count": 49,
   "id": "ad023313",
   "metadata": {},
   "outputs": [
    {
     "data": {
      "text/plain": [
       "'s1'"
      ]
     },
     "execution_count": 49,
     "metadata": {},
     "output_type": "execute_result"
    }
   ],
   "source": [
    "L_of_int[5][0]"
   ]
  },
  {
   "cell_type": "code",
   "execution_count": 53,
   "id": "941d79e6",
   "metadata": {},
   "outputs": [
    {
     "name": "stdout",
     "output_type": "stream",
     "text": [
      "[1, 2, 56, 'q', 4, 5, 4, 8, 9, 10]\n"
     ]
    }
   ],
   "source": [
    "# \n",
    "L2 = [8, 9, 10]\n",
    "L3 = L + L2 \n",
    "print(L3)"
   ]
  },
  {
   "cell_type": "code",
   "execution_count": 55,
   "id": "94aab474",
   "metadata": {},
   "outputs": [
    {
     "data": {
      "text/plain": [
       "[8, 9, 10, 8, 9, 10]"
      ]
     },
     "execution_count": 55,
     "metadata": {},
     "output_type": "execute_result"
    }
   ],
   "source": [
    "2 * L2"
   ]
  },
  {
   "cell_type": "code",
   "execution_count": 64,
   "id": "4c7e5b96",
   "metadata": {},
   "outputs": [],
   "source": [
    "L_of_int2 = [0, 4, 2, 13, 48, 3, 2]\n",
    "L_of_int2.sort(reverse=True)"
   ]
  },
  {
   "cell_type": "code",
   "execution_count": 65,
   "id": "638ce16e",
   "metadata": {},
   "outputs": [
    {
     "data": {
      "text/plain": [
       "[48, 13, 4, 3, 2, 2, 0]"
      ]
     },
     "execution_count": 65,
     "metadata": {},
     "output_type": "execute_result"
    }
   ],
   "source": [
    "L_of_int2"
   ]
  },
  {
   "cell_type": "code",
   "execution_count": 63,
   "id": "92bf0140",
   "metadata": {},
   "outputs": [
    {
     "name": "stdout",
     "output_type": "stream",
     "text": [
      "Help on built-in function sort:\n",
      "\n",
      "sort(*, key=None, reverse=False) method of builtins.list instance\n",
      "    Stable sort *IN PLACE*.\n",
      "\n"
     ]
    }
   ],
   "source": [
    "help(L_of_int2.sort)"
   ]
  },
  {
   "cell_type": "code",
   "execution_count": 58,
   "id": "302d6818",
   "metadata": {},
   "outputs": [
    {
     "data": {
      "text/plain": [
       "(0, 2, 2, 3, 4, 13, 48)"
      ]
     },
     "execution_count": 58,
     "metadata": {},
     "output_type": "execute_result"
    }
   ],
   "source": [
    "TT = tuple(L_of_int2)\n",
    "TT"
   ]
  },
  {
   "cell_type": "markdown",
   "id": "8c80c733-0f53-4cff-b498-bcfc783b615b",
   "metadata": {
    "nbpresent": {
     "id": "520494ec-974a-43f5-bd3e-e3d1e105f174"
    }
   },
   "source": [
    "#### 1.6.5 Dictionaries\n",
    "\n",
    "Another common built-in `Python` object is the **dictionary**. The dictionnary stores unordered sequence(s) of key-value pairs. It is defined using curly brackets `{ }`, and like lists allows mixing of types. It is a bit like a `list` for which each element has a label such that you can access this element by its label instead of accessing it by its position.    \n",
    "**Example:**\n",
    "``` python\n",
    "D = {'one': 1, 'two': 2, 'three': 3, 'four': L}  # L is a list as defined above\n",
    "D['two']\n",
    "    Out:  2\n",
    "D = dict(one=1, two=2, three=3, four=L)  # Another way to create a dictionary \n",
    "```\n",
    "\n",
    "Dictionaries are often found as input/outputs of built-in or contributed functions. They work in fact behind the scene when you define new variables that you use within an `ipython` or `juPyter` session. You may have a look behind the curtain by calling `globals()` in the code-cell below. \n",
    "\n",
    "Also a dictionnary is NOT an iterable, you can get its lenght using the method `len(). "
   ]
  },
  {
   "cell_type": "code",
   "execution_count": 69,
   "id": "15191e19-b07c-4dcc-8f5f-a547df702ca1",
   "metadata": {
    "nbpresent": {
     "id": "83332953-7cb8-4484-a890-1dc824dacf58"
    }
   },
   "outputs": [],
   "source": [
    "# Use this cell  to play with dictionaries\n",
    "D = {'one': 1, 'two': 2, 'fun': 'python', 'a list': L}"
   ]
  },
  {
   "cell_type": "code",
   "execution_count": 70,
   "id": "2ecf6e85",
   "metadata": {},
   "outputs": [
    {
     "data": {
      "text/plain": [
       "1"
      ]
     },
     "execution_count": 70,
     "metadata": {},
     "output_type": "execute_result"
    }
   ],
   "source": [
    "D['one']"
   ]
  },
  {
   "cell_type": "code",
   "execution_count": 71,
   "id": "fa0de3cb",
   "metadata": {},
   "outputs": [
    {
     "data": {
      "text/plain": [
       "('python', [1, 2, 56, 'q', 4, 5, 4])"
      ]
     },
     "execution_count": 71,
     "metadata": {},
     "output_type": "execute_result"
    }
   ],
   "source": [
    "D['fun'], D['a list']"
   ]
  },
  {
   "cell_type": "code",
   "execution_count": 73,
   "id": "cd318b73",
   "metadata": {},
   "outputs": [
    {
     "data": {
      "text/plain": [
       "('python', [1, 2, 56, 'q', 'q', 4, 5, 4])"
      ]
     },
     "execution_count": 73,
     "metadata": {},
     "output_type": "execute_result"
    }
   ],
   "source": [
    "D['fun'], D['a list']"
   ]
  },
  {
   "cell_type": "code",
   "execution_count": 75,
   "id": "a8ca054e-3295-4ad1-ae8f-62efbd4b9586",
   "metadata": {
    "nbpresent": {
     "id": "ae969c8f-1d9f-4a0b-89cf-66e64484ff26"
    }
   },
   "outputs": [],
   "source": [
    "# globals()"
   ]
  },
  {
   "cell_type": "markdown",
   "id": "cc35cfc3-d110-4468-9a60-750577b5d517",
   "metadata": {
    "nbpresent": {
     "id": "86236cb9-0fa2-4526-a29c-ce7afaa18f61"
    }
   },
   "source": [
    "#### Exercises on data structure"
   ]
  },
  {
   "cell_type": "code",
   "execution_count": 76,
   "id": "09ac8de7-68e8-4177-b8a1-fe147497c62a",
   "metadata": {
    "nbpresent": {
     "id": "e3bac3e2-e559-4844-a2db-4c1078696a63"
    }
   },
   "outputs": [
    {
     "name": "stdout",
     "output_type": "stream",
     "text": [
      "x = 2.45\n"
     ]
    }
   ],
   "source": [
    "# (1) Define a variable x, give it a value and print its value on screen \n",
    "x =2.45\n",
    "print('x =', x)"
   ]
  },
  {
   "cell_type": "code",
   "execution_count": 77,
   "id": "7c91527d-c0e2-4f56-9935-a4b6574eb19c",
   "metadata": {
    "nbpresent": {
     "id": "1d864973-3ba1-4de0-ada0-5a8f4b08f07e"
    }
   },
   "outputs": [
    {
     "data": {
      "text/plain": [
       "[1, 'a', 3.0]"
      ]
     },
     "execution_count": 77,
     "metadata": {},
     "output_type": "execute_result"
    }
   ],
   "source": [
    "# (2) Can a list contain different types of objects / elements of different types ? Illustrate with an example \n",
    "L_new = [1, 'a', 3.]\n",
    "L_new"
   ]
  },
  {
   "cell_type": "code",
   "execution_count": 78,
   "id": "35deb19f-71ef-4a40-aacc-c4b3ed3fb19d",
   "metadata": {
    "nbpresent": {
     "id": "b8d1ea49-7f75-4cd7-8eef-6e545347953b"
    }
   },
   "outputs": [
    {
     "data": {
      "text/plain": [
       "{'My list': [1, 'a', 3.0], 'My string': 's', 'A float': 4.24}"
      ]
     },
     "execution_count": 78,
     "metadata": {},
     "output_type": "execute_result"
    }
   ],
   "source": [
    "# (3) Can a 'dictionary' contain elements of different types ? Illustrate with an example \n",
    "D = {'My list': L_new, 'My string': 's', 'A float': 4.24}\n",
    "D"
   ]
  },
  {
   "cell_type": "code",
   "execution_count": 79,
   "id": "96c01443-338f-417b-8ff6-734c16b451d9",
   "metadata": {
    "nbpresent": {
     "id": "baf0f561-2bb8-43e3-8863-c141aeeae3a6"
    }
   },
   "outputs": [
    {
     "data": {
      "text/plain": [
       "(1, 35.0, [1, 'a', 3.0])"
      ]
     },
     "execution_count": 79,
     "metadata": {},
     "output_type": "execute_result"
    }
   ],
   "source": [
    "# (4) Can a 'tuple' contain elements of different types ? Illustrate with an example \n",
    "T = (1, 35., L_new)\n",
    "T"
   ]
  },
  {
   "cell_type": "code",
   "execution_count": 81,
   "id": "1df6f5c9-db14-495a-81cc-a949ce0397ed",
   "metadata": {
    "nbpresent": {
     "id": "a1ab4411-9563-49ba-8c9a-3b544c6c75d2"
    }
   },
   "outputs": [
    {
     "name": "stdout",
     "output_type": "stream",
     "text": [
      "['blue', 'red', 'green']\n",
      "['blue', 'orange', 'red', 'green']\n"
     ]
    }
   ],
   "source": [
    "# (5) create a list of 3 color names and print it at the screen\n",
    "# (5b) insert a new color as 2nd list element\n",
    "my_colors = ['blue', 'red', 'green']\n",
    "print(my_colors)\n",
    "my_colors.insert(1, 'orange')\n",
    "print(my_colors)"
   ]
  },
  {
   "cell_type": "code",
   "execution_count": 105,
   "id": "a7cc0d89-8210-404b-a06b-452df8cb194e",
   "metadata": {
    "nbpresent": {
     "id": "161294a5-fc64-4d55-aeea-b27ed3b27e6c"
    }
   },
   "outputs": [
    {
     "data": {
      "text/plain": [
       "[6, 8, 10, 1, 4, 5]"
      ]
     },
     "execution_count": 105,
     "metadata": {},
     "output_type": "execute_result"
    }
   ],
   "source": [
    "# (6) Create two lists L1 and L2 containing 3 elements each. \"Append\" L1 to L2 and save the results in a third list L3 of 6 elements (i.e. containing elements of L1 and L2)\n",
    "L1 = [1, 4, 5]\n",
    "L2 = [6, 8, 10]\n",
    "L3 = L2 + L1\n",
    "L3"
   ]
  },
  {
   "cell_type": "code",
   "execution_count": 106,
   "id": "90eae1ec-aee0-40a0-b80e-87346230b509",
   "metadata": {},
   "outputs": [
    {
     "name": "stdout",
     "output_type": "stream",
     "text": [
      "None [6, 8, 10, 1, 4, 5]\n"
     ]
    }
   ],
   "source": [
    "# Warning APPEND would change the list in place ... and you cannot save it into another list\n",
    "L4 = L2.extend(L1)\n",
    "print(L4, L2) "
   ]
  },
  {
   "cell_type": "markdown",
   "id": "86a6bfda-7636-4c16-9fe5-77f081764852",
   "metadata": {
    "nbpresent": {
     "id": "169fb3c0-9b00-4580-b378-6ff95dc3cb24"
    }
   },
   "source": [
    "### 1.7 Control flow statements:     <a class=\"anchor\" id=\"IIIg\"></a>\n",
    "Based on http://www.ster.kuleuven.be/~pieterd/python/html/pure_python/control_flow.html\n",
    "\n",
    "#### 1.7.1 if statements\n",
    "\n",
    "The basic syntax for an if-statement is the following:\n",
    "``` python \n",
    "if condition:\n",
    "    # do something\n",
    "elif condition:\n",
    "    # do something else\n",
    "else:\n",
    "    # do yet something else\n",
    "```\n",
    "\n",
    "Notice that there is no statement to end the `if` statement. Beware of the presence of a colon (:) after each control flow statement. Python relies on indentation and colons to determine whether it is in a specific block of code. For example, in the following example:\n",
    "\n",
    "``` python \n",
    "if a == 1:\n",
    "    print(\"a is 1, changing to 2\")\n",
    "    a = 2\n",
    "print(\"finished\")\n",
    "```\n",
    "\n",
    "The first print statement, and the `a = 2` statement only get executed if a is 1. On the other hand, `print(\"finished\")` gets executed regardless, once Python exits the if statement.\n",
    "\n",
    "The conditions in the statements can be anything that returns a boolean value. For example, `a == 1`, `b != 4`, and `c <= 5` are valid conditions because they return either `True` or `False` depending on whether the statements are true or not. Standard comparisons can be used (`==` for equal, `!=` for not equal, `<=` for less or equal, `>=` for greater or equal, `<` for less than, and `>` for greater than), as well as logical operators (`and`, `or`, `not`). Parentheses can be used to isolate different parts of conditions, to make clear in what order the comparisons should be executed, for example:\n",
    "\n",
    "``` python\n",
    "if (a == 1 and b <= 3) or c > 3:\n",
    "    # do something\n",
    "```\n",
    "\n",
    "More generally, any function or expression that ultimately returns `True` or `False` can be used.\n",
    "\n",
    "Along with comparisons, another commonly-used operator is `in`. This is used to test whether an item is contained in any collection:\n",
    "\n",
    "``` python\n",
    "b = [1, 2, 3]   \n",
    "2 in b   \n",
    "    Out: True   \n",
    "5 in b   \n",
    "    Out: False\n",
    "```\n",
    "\n",
    "If `b` is a dictionary , this tests that the item is a key of `b`."
   ]
  },
  {
   "cell_type": "code",
   "execution_count": 108,
   "id": "4f59569f",
   "metadata": {},
   "outputs": [
    {
     "name": "stdout",
     "output_type": "stream",
     "text": [
      "finished\n"
     ]
    }
   ],
   "source": [
    "a = 3 \n",
    "if a == 1:\n",
    "    print(\"a is 1, changing to 2\")\n",
    "    a = 2\n",
    "print(\"finished\")"
   ]
  },
  {
   "cell_type": "code",
   "execution_count": null,
   "id": "d42f35bc-b616-49f3-a101-de723c0231a3",
   "metadata": {
    "nbpresent": {
     "id": "501e44b0-1984-40ed-989a-c531f1cba6cd"
    }
   },
   "outputs": [],
   "source": [
    "# Try value in b with different kind of containers (i.e. list, set, tuple, dictionnary)\n"
   ]
  },
  {
   "cell_type": "code",
   "execution_count": 110,
   "id": "fd94e9da",
   "metadata": {},
   "outputs": [
    {
     "data": {
      "text/plain": [
       "5"
      ]
     },
     "execution_count": 110,
     "metadata": {},
     "output_type": "execute_result"
    }
   ],
   "source": [
    "a, b, c = 1, 4, 7\n",
    "if b > 3: \n",
    "    c = b+1\n",
    "c"
   ]
  },
  {
   "cell_type": "code",
   "execution_count": 111,
   "id": "a76a1f77",
   "metadata": {},
   "outputs": [
    {
     "data": {
      "text/plain": [
       "True"
      ]
     },
     "execution_count": 111,
     "metadata": {},
     "output_type": "execute_result"
    }
   ],
   "source": [
    "b > 3"
   ]
  },
  {
   "cell_type": "code",
   "execution_count": null,
   "id": "34903907",
   "metadata": {},
   "outputs": [],
   "source": [
    "if b is None "
   ]
  },
  {
   "cell_type": "markdown",
   "id": "7486dd2d-66b9-4e86-aed3-61aa94489537",
   "metadata": {},
   "source": [
    "Most of the time, the above comparators will suffice for defining your `if` statement. There are however a few cases where this is not enough. To test if a variable is `True`, `False` or of type `NoneType` or if two variables are the same object, you should use the identity check reserved keyword `is` (or `is not`). This keyword enables one to check if two variables are the same object or if a boolean is `True` / `False`. \n",
    "\n",
    "``` python \n",
    "n = None \n",
    "if n is None:\n",
    "    print('n is None')\n",
    "\n",
    "Out[]: 'n is None'\n",
    "    \n",
    "b = True\n",
    "if b is not False:\n",
    "    print('b is True')\n",
    "\n",
    "Out[]: 'b is True'\n",
    "\n",
    "x = [1]\n",
    "y = x\n",
    "if x is y:\n",
    "    print('x and y are the same object')\n",
    "```"
   ]
  },
  {
   "cell_type": "code",
   "execution_count": 112,
   "id": "76412b83-57dd-4414-a49a-9924999b4659",
   "metadata": {},
   "outputs": [
    {
     "name": "stdout",
     "output_type": "stream",
     "text": [
      "n is None\n"
     ]
    }
   ],
   "source": [
    "n = None \n",
    "if n is None:\n",
    "    print('n is None')"
   ]
  },
  {
   "cell_type": "code",
   "execution_count": 113,
   "id": "3958a6d6-538e-46f0-a31b-7cab62c145cb",
   "metadata": {},
   "outputs": [
    {
     "name": "stdout",
     "output_type": "stream",
     "text": [
      "b is True\n"
     ]
    }
   ],
   "source": [
    "b = True\n",
    "if b is not False:\n",
    "    print('b is True')"
   ]
  },
  {
   "cell_type": "code",
   "execution_count": 114,
   "id": "4bba0a3f",
   "metadata": {},
   "outputs": [
    {
     "name": "stdout",
     "output_type": "stream",
     "text": [
      "b is a boolean\n"
     ]
    }
   ],
   "source": [
    "if type(b) is bool:\n",
    "    print('b is a boolean')"
   ]
  },
  {
   "cell_type": "code",
   "execution_count": 115,
   "id": "1b5ace41-6f59-4440-86ad-5ebe6c6d8321",
   "metadata": {},
   "outputs": [
    {
     "name": "stdout",
     "output_type": "stream",
     "text": [
      "None is not True, or False, None is just None...\n",
      "n is of NoneType\n"
     ]
    }
   ],
   "source": [
    "n = None \n",
    "\n",
    "if n:\n",
    "    print(\"Do you think None is True?\")\n",
    "elif n is False:\n",
    "    print (\"Do you think None is False?\")\n",
    "else:\n",
    "    print(\"None is not True, or False, None is just None...\") \n",
    "\n",
    "if n is None:\n",
    "    print('n is of NoneType')"
   ]
  },
  {
   "cell_type": "code",
   "execution_count": 116,
   "id": "f00d37ab-4f56-496e-8a0d-b72c673a1ef2",
   "metadata": {},
   "outputs": [
    {
     "name": "stdout",
     "output_type": "stream",
     "text": [
      "x and y are the same object\n"
     ]
    }
   ],
   "source": [
    "x = [1]\n",
    "y = x\n",
    "if x is y:\n",
    "    print('x and y are the same object')"
   ]
  },
  {
   "cell_type": "markdown",
   "id": "ab8156fe-3b1c-4c3d-88ae-488d19bdedd0",
   "metadata": {
    "nbpresent": {
     "id": "6d2bc1b8-ae18-4014-bc4e-b2cd7c08e74f"
    }
   },
   "source": [
    "#### 1.7.2 `for` loops\n",
    "\n",
    "The most common type of loop is the `for` loop. In its most basic form, its synthax is straightforward:\n",
    "\n",
    "``` python\n",
    "for value in iterable:\n",
    "    # do things\n",
    "```\n",
    "\n",
    "The iterable can be any `Python` object that can be iterated over. This includes `lists`, `tuples`, `dictionaries`, `strings`. ``"
   ]
  },
  {
   "cell_type": "code",
   "execution_count": 117,
   "id": "8f009b81-b052-4c97-a4e9-2d76297dbe47",
   "metadata": {
    "nbpresent": {
     "id": "4066fc04-46eb-44a8-acc2-f4fe92fe5f1b"
    }
   },
   "outputs": [
    {
     "name": "stdout",
     "output_type": "stream",
     "text": [
      "P\n",
      "y\n",
      "t\n",
      "h\n",
      "o\n",
      "n\n"
     ]
    }
   ],
   "source": [
    "# Try this out\n",
    "mystring = 'Python'\n",
    "for s in mystring:\n",
    "    print(s)"
   ]
  },
  {
   "cell_type": "code",
   "execution_count": 118,
   "id": "e36e6ac3",
   "metadata": {},
   "outputs": [
    {
     "name": "stdout",
     "output_type": "stream",
     "text": [
      "0\n",
      "2\n",
      "3\n",
      "56\n"
     ]
    }
   ],
   "source": [
    "for i in [0,2,3,56]:\n",
    "    print(i)"
   ]
  },
  {
   "cell_type": "code",
   "execution_count": 119,
   "id": "b3a61fdd",
   "metadata": {},
   "outputs": [
    {
     "name": "stdout",
     "output_type": "stream",
     "text": [
      "i= 0 : a= 1\n",
      "i= 1 : a= 2\n",
      "i= 2 : a= 3\n",
      "i= 3 : a= 4\n",
      "i= 4 : a= 5\n"
     ]
    }
   ],
   "source": [
    "# For loop can loop over any iterable (i.e. not integers)\n",
    "a = 0 \n",
    "for i in range(5):\n",
    "    a = a+1\n",
    "    print('i=', i, ': a=', a)"
   ]
  },
  {
   "cell_type": "markdown",
   "id": "bc7e5eed-1e7e-4211-aa2e-6d0044e8f5ee",
   "metadata": {
    "nbpresent": {
     "id": "0add590a-451e-430f-b226-a0e32781a476"
    }
   },
   "source": [
    "A common type of for loop is one where the value should go between two integers with a specific set size. To do this, we can use the `range` function. If given a single value, it will give a sequence ranging from 0 to the value minus 1:\n",
    "\n",
    "``` python\n",
    "range(10)\n",
    "    Out: [0, 1, 2, 3, 4, 5, 6, 7, 8, 9]  # Warning, it is not a list\n",
    "range(3, 12)   # 3 and 12 are the starting and one plus the ending value\n",
    "    Out: [3, 4, 5, 6, 7, 8, 9, 10, 11]  # Warning, it is not a list\n",
    "range(2, 20, 2)  # the third number, if specified, is taken to be the step size\n",
    "    Out: [2, 4, 6, 8, 10, 12, 14, 16, 18]  # Warning, it is not a list\n",
    "``` \n",
    "\n",
    "The range function can be used as the iterable in a for loop. `range` is not a list (in python 3), but a specific object. "
   ]
  },
  {
   "cell_type": "code",
   "execution_count": 120,
   "id": "53cc7219-d3c9-408a-aebf-1cf8d1d2b80a",
   "metadata": {
    "nbpresent": {
     "id": "d65f263a-6449-48a5-9177-d3f85095e3f7"
    }
   },
   "outputs": [
    {
     "name": "stdout",
     "output_type": "stream",
     "text": [
      "1\n",
      "4\n",
      "aba\n",
      "cbd\n",
      "8\n"
     ]
    }
   ],
   "source": [
    "# Use for loop to print at the screen the elements of a list that contains both integers and strings. \n",
    "# Try to do it using range and try again without looping over the indices / using range\n",
    "L_of_i_and_s = [1, 4, 'aba', 'cbd', 8]\n",
    "for l in L_of_i_and_s:\n",
    "    print(l)"
   ]
  },
  {
   "cell_type": "code",
   "execution_count": 121,
   "id": "137ef3a0",
   "metadata": {},
   "outputs": [
    {
     "name": "stdout",
     "output_type": "stream",
     "text": [
      "1\n",
      "4\n",
      "aba\n",
      "cbd\n",
      "8\n"
     ]
    }
   ],
   "source": [
    "# using range\n",
    "for i in range(5):\n",
    "    print(L_of_i_and_s[i])"
   ]
  },
  {
   "cell_type": "markdown",
   "id": "a68df3dd-c6e3-4c99-b331-03b241295747",
   "metadata": {
    "nbpresent": {
     "id": "9aac2ba1-8279-4d0c-986b-311a08e1dc2e"
    }
   },
   "source": [
    "To iterate over elements of a list and also get in return the indices of these elements in the list, you may use `enumerate`.\n",
    "``` python\n",
    "for i, item in enumerate(L): \n",
    "    print('i=', i, ' : L = ', item)\n",
    "```"
   ]
  },
  {
   "cell_type": "code",
   "execution_count": 123,
   "id": "013c410e-10a7-4394-a45f-30c35ed0a735",
   "metadata": {
    "nbpresent": {
     "id": "cbb5f8c2-e6fd-4a3b-8247-3c9cc189d5a3"
    }
   },
   "outputs": [
    {
     "name": "stdout",
     "output_type": "stream",
     "text": [
      "my string is aba is id  2\n",
      "my string is cbd is id  3\n"
     ]
    }
   ],
   "source": [
    "# What you might be used to \n",
    "i = 0\n",
    "for l in L_of_i_and_s:\n",
    "    if type(l) == str:\n",
    "        print('my string is', l, 'is id ', i)\n",
    "    i = i + 1 "
   ]
  },
  {
   "cell_type": "code",
   "execution_count": 124,
   "id": "cdac36c8",
   "metadata": {},
   "outputs": [
    {
     "name": "stdout",
     "output_type": "stream",
     "text": [
      "my string is aba is id  2\n",
      "my string is cbd is id  3\n"
     ]
    }
   ],
   "source": [
    "# Saving two lines of code with enumerate\n",
    "for i, l in enumerate(L_of_i_and_s):\n",
    "    if type(l) == str:\n",
    "        print('my string is', l, 'is id ', i)"
   ]
  },
  {
   "cell_type": "markdown",
   "id": "1916537e-e29f-4121-9b6c-0b336f115faf",
   "metadata": {
    "nbpresent": {
     "id": "4e1b81d2-1d3f-4072-8254-830bcc573fbd"
    }
   },
   "source": [
    "You can also iterate over elements of 2 lists (of the same length) in parallel using `zip()`\n",
    "``` Python\n",
    "L1, L2 = range(4), range(10,14)\n",
    "for l1, l2 in zip(L1, L2): \n",
    "    print('l1=', l1, 'l2=', l2)\n",
    "```"
   ]
  },
  {
   "cell_type": "code",
   "execution_count": 126,
   "id": "cfd2e512-c2a5-4aa5-b5ce-414ccdbaaea7",
   "metadata": {
    "nbpresent": {
     "id": "88592ec2-76ee-48f5-879a-e1610ceb0e60"
    }
   },
   "outputs": [
    {
     "name": "stdout",
     "output_type": "stream",
     "text": [
      "r1= 0 r2= 10\n",
      "r1= 1 r2= 11\n",
      "r1= 2 r2= 12\n",
      "r1= 3 r2= 13\n"
     ]
    }
   ],
   "source": [
    "R1, R2 = range(4), range(10,14)\n",
    "for r1, r2 in zip(R1, R2): \n",
    "    print('r1=', r1, 'r2=', r2)"
   ]
  },
  {
   "cell_type": "markdown",
   "id": "f93e5056-b516-4437-bd55-2baed1e4af50",
   "metadata": {
    "nbpresent": {
     "id": "03749de4-f072-4976-9d0e-d5118c17adb9"
    }
   },
   "source": [
    "#### 1.7.3 `while` loops\n",
    "\n",
    "Python also provides a `while` loop which is similar to a for loop, but where the number of iterations is defined by a condition rather than an iterator:\n",
    "\n",
    "``` python \n",
    "a = 0\n",
    "while a < 10:   # a < 10 is the condition\n",
    "    print(a)    # This line is the first \"looping block\n",
    "    a += 1      # This line is the second \"looping block\"\n",
    "\n",
    "```"
   ]
  },
  {
   "cell_type": "code",
   "execution_count": 127,
   "id": "7c9418e4-bfd8-4e14-a1d2-59286f470a4e",
   "metadata": {
    "nbpresent": {
     "id": "883e85c2-a9e4-4bea-a749-4e5fd5eb86be"
    }
   },
   "outputs": [
    {
     "name": "stdout",
     "output_type": "stream",
     "text": [
      "0\n",
      "1\n",
      "2\n",
      "3\n",
      "4\n",
      "5\n",
      "6\n",
      "7\n",
      "8\n",
      "9\n"
     ]
    }
   ],
   "source": [
    "# Visualize the output of the above code\n",
    "a = 0\n",
    "while a < 10:   # a < 10 is the condition\n",
    "    print(a)    # This line is the first \"looping block\n",
    "    a += 1      # This line is the second \"looping block\"\n"
   ]
  },
  {
   "cell_type": "markdown",
   "id": "6f7ce374-8141-4e87-afdb-536b630da551",
   "metadata": {
    "nbpresent": {
     "id": "10e6b494-2b58-4284-874a-f21fde4e846f"
    }
   },
   "source": [
    "#### 1.7.4 List Comprehensions\n",
    "\n",
    "This is very useful and often overlooked by beginners ... this is however very efficient and quite \"pythonic\" to use list comprehension. ** When possible try to favor list comprehensions over the use of `for` loops **.\n",
    "A common programming structure when assigning values to a list is the following:\n",
    "\n",
    "```python\n",
    "l = []                      # create the list\n",
    "for i in range(10):\n",
    "    l.append(i**2)\n",
    "```\n",
    "\n",
    "List comprehensions provide a shorter and more readable way of writing the same loop:\n",
    "\n",
    "``` python\n",
    "l = [i**2 for i in range(10)]\n",
    "``` "
   ]
  },
  {
   "cell_type": "code",
   "execution_count": 130,
   "id": "b6572c2a-14d2-4882-b52d-98e6ed2f41ef",
   "metadata": {
    "nbpresent": {
     "id": "cf18081b-cd20-4071-a348-d9cd6cd6cb85"
    }
   },
   "outputs": [],
   "source": [
    "# Write a list comprehension that creates a list of 10 odd numbers\n",
    "# For loop approach \n",
    "l = []                      # create the list\n",
    "for i in range(1, 10):\n",
    "    l.append(i**2)"
   ]
  },
  {
   "cell_type": "code",
   "execution_count": 131,
   "id": "7f2b8f8a",
   "metadata": {},
   "outputs": [
    {
     "data": {
      "text/plain": [
       "[1, 4, 9, 16, 25, 36, 49, 64, 81]"
      ]
     },
     "execution_count": 131,
     "metadata": {},
     "output_type": "execute_result"
    }
   ],
   "source": [
    "l"
   ]
  },
  {
   "cell_type": "code",
   "execution_count": 132,
   "id": "430adc5c",
   "metadata": {},
   "outputs": [],
   "source": [
    "# Same with a list comprehension\n",
    "l2 = [i**2 for i in range(1, 10)]"
   ]
  },
  {
   "cell_type": "code",
   "execution_count": 133,
   "id": "bc332379",
   "metadata": {},
   "outputs": [
    {
     "data": {
      "text/plain": [
       "[1, 4, 9, 16, 25, 36, 49, 64, 81]"
      ]
     },
     "execution_count": 133,
     "metadata": {},
     "output_type": "execute_result"
    }
   ],
   "source": [
    "l2 "
   ]
  },
  {
   "cell_type": "markdown",
   "id": "04fb27f1-8ce9-4098-952b-8b5956360966",
   "metadata": {
    "nbpresent": {
     "id": "bdf05d84-6fc6-41bb-8bd1-f027ae22fd90"
    }
   },
   "source": [
    "**Note:** `and`, `or` are boolean operators. `&`, `|` are the equivalent bitwise operator. The difference is that boolean operators are used on boolean values (i.e. the two expression that are compared should be boolean) while `&` and `|` are generally used on integer values (they just compare the bits and so work at a low level). This means that: boolean operators evaluate the first operand for its truth value, and depending on that value, either evaluate and return the second argument, or don't evaluate the second argument and return the first. In other words, the `and` operator works like: ``` x and y => if x is false, then x, else y ```  \n",
    "For that reason we will have the following behaviour: \n",
    "``` Python\n",
    "mylist1 = [True,  True,  True,  False,  True]\n",
    "mylist2 = [False, True, False,  True, False]  \n",
    "\n",
    "# ---- Example 1 ----  Boolean comparison, each elements of the list are compared pair-wise\n",
    ">>>mylist1 and mylist2 \n",
    "[False, True, False, True, False]\n",
    "# You would have expected [False, True, False, False, False]\n",
    "# However as explained above\n",
    "# something_true and x -> x\n",
    "# something_false and x -> something_false\n",
    "```\n",
    "Another important thing to keep in mind is that empty built-in object is treated as logically `False`. This means that:\n",
    "``` Python\n",
    "if []:\n",
    "    print('True')\n",
    "    >>> # Returns nothing\n",
    "    \n",
    "if [False]:\n",
    "    print('True')\n",
    "    >>> 'True'\n",
    "```\n",
    "Finally, the comparison of 2 lists of booleans, as defined above, with bitwise operator will raise an error because bitwise operations work only on numbers (or conversion of objects to bits, e.g. a string): \n",
    "``` python\n",
    "# ---- Example 2 ----  Comparison of the 2 lists with bitwise operators\n",
    "mylist1 & mylist2 \n",
    "TypeError: unsupported operand type(s) for &: 'list' and 'list'\n",
    "\n",
    "```\n",
    "\n",
    "See [here](https://stackoverflow.com/questions/22646463/difference-between-and-boolean-vs-bitwise-in-python-why-difference-i) for more detailed explanation of those subtelties and use of bitwise operators with numpy arrays (that we will introduce later). \n"
   ]
  },
  {
   "cell_type": "code",
   "execution_count": null,
   "id": "6b174122-ff43-46f6-910c-6e7a54bdde90",
   "metadata": {
    "nbpresent": {
     "id": "7327b838-1a9e-4bde-a946-d4636883772b"
    }
   },
   "outputs": [],
   "source": [
    "if []:\n",
    "    print('True')\n",
    "\n",
    "if [False]:\n",
    "    print('True')"
   ]
  },
  {
   "cell_type": "code",
   "execution_count": null,
   "id": "3a726945-131a-45fa-af07-e3f5c56e68b2",
   "metadata": {
    "nbpresent": {
     "id": "7bdd14c5-cd3a-432d-848f-66a52afe2a69"
    }
   },
   "outputs": [],
   "source": [
    "mylist1 = [True,  True,  True,  False,  True]\n",
    "mylist2 = [False, True, False,  True, False]  \n",
    "\n",
    "mylist1 and mylist2"
   ]
  },
  {
   "cell_type": "code",
   "execution_count": null,
   "id": "26314a06-afb4-4fcf-9631-ef29f435db7f",
   "metadata": {
    "nbpresent": {
     "id": "2876851c-66df-41be-a731-35c4b279a26a"
    }
   },
   "outputs": [],
   "source": [
    "mylist1 & mylist2"
   ]
  },
  {
   "cell_type": "code",
   "execution_count": null,
   "id": "05511910-35b3-4c92-9d93-163cb00d61c5",
   "metadata": {},
   "outputs": [],
   "source": []
  },
  {
   "cell_type": "code",
   "execution_count": null,
   "id": "4052f719-8707-47a8-a543-d6e7f3ff7eea",
   "metadata": {},
   "outputs": [],
   "source": []
  },
  {
   "cell_type": "markdown",
   "id": "d1b9f772-b1b3-4b67-b6e7-f60ab838eeb4",
   "metadata": {},
   "source": [
    "## 1.8 Scripts and Functions\n",
    "\n",
    "Now that we are familiar with basic syntax, variables, and containers, we will see how to group command lines to run them all at once. This can be done thanks to what is called a `function`. Second, we will also see how to run python outside a Jupyter notebook and manage scripts. \n",
    "\n",
    "The Notebook [Scripts_and_functions.ipynb](Scripts_and_functions.ipynb) explains those aspects.  "
   ]
  },
  {
   "cell_type": "markdown",
   "id": "f309a071-5834-4b1b-9d9f-ec47e1452909",
   "metadata": {},
   "source": [
    "## 1.9 A brief summary of the Python coding recommendations    <a class=\"anchor\" id=\"IIIh\"></a>\n",
    "\n",
    "From Official `Python` doc https://docs.python.org/3.8/tutorial/controlflow.html   \n",
    "The full style guide for python coding: https://www.python.org/dev/peps/pep-0008/\n",
    "\n",
    "- Use 4-space indentation, and no tabs.\n",
    "- 4 spaces are a good compromise between small indentation (allows greater nesting depth) and large indentation (easier to read). Tabs introduce confusion, and are best left out.\n",
    "- Wrap lines so that they don’t exceed 79 characters. This helps users with small displays and makes it possible to have several code files side-by-side on larger displays.\n",
    "- Use blank lines to separate functions and classes, and larger blocks of code inside functions.\n",
    "- When possible, put comments on a line of their own.\n",
    "- Use docstrings.\n",
    "- Use spaces around operators and after commas, but not directly inside bracketing constructs: `a = f(1, 2) + g(3, 4)`.\n",
    "- Don’t use fancy encodings if your code is meant to be used in international environments. Plain ASCII works best in any case."
   ]
  },
  {
   "cell_type": "markdown",
   "id": "b21068dc-d01a-4484-bc34-6cc0be4820e9",
   "metadata": {
    "nbpresent": {
     "id": "9abbe30e-5f03-4178-8587-c33eab2fc3df"
    }
   },
   "source": [
    "## 1.10 Summary\n",
    "\n",
    "\n",
    "We have seen that `python` is a multi-paradigm language, namely both *interpreted* and *compiled*. This is the reason why it is very versatile, portable and powerful.  \n",
    "We have learned about: \n",
    "- The main variable types (`int`, `float`, `string`, `complex`), but also the `None` keyword (the unique member of the type `NoneType`) \n",
    "- The main built-in structures: `list`, `tuple`, `dictionary`, `set`\n",
    "- The importance of indentation in writing code, especially when defining a `function`, create `loops`, set `conditions`. \n",
    "- We have seen that there is in general no need to pre-declare a variable, nor its type. However, one should be careful that *numbers not followed by a .* are interpreted as integers, but are float otherwise. This can generate bugs as the division of 2 integers is an integer (in python 2.7, not for version > 3). \n",
    "- We have been introduced to [iterables](https://www.pythonlikeyoumeanit.com/Module2_EssentialsOfPython/Iterables.html) (lists, tuples, sets, dict) and found out tha one can iterate over their elements via a for loop. \n",
    "- We are getting familiar with slicing through lists, and realise that the *first index* of a sequence is *zero*. \n",
    "- We have seen that it is very easy to add documentation to a function using triple quotes \"\"\"\n",
    "- We have learned how to write `list comprehensions` ( [ x+1 for x in L] ) to increase speed and improve readability. "
   ]
  },
  {
   "cell_type": "markdown",
   "id": "40563e25-782e-458d-986c-03a8c9803324",
   "metadata": {
    "nbpresent": {
     "id": "f13ef757-04a6-4b88-b7f9-9e5dc8d65e8d"
    }
   },
   "source": [
    "## References and Additional material:  \n",
    "\n",
    "**Appendix A** of the book *Statistics, data mining and Machine learning in astronomy* by Z. Ivezic et al. in Princeton Series in Modern Astronomy.  \n",
    "\n",
    "Other useful references to know more about the topics covered in this class: \n",
    "\n",
    "* Introduction to python and solid references:  \n",
    "    - An Introduction to Python - The Python Tutorial by Guido van Rossum (python creator) and Fred L. Drake, Jr. https://docs.python.org/3/tutorial/index.html\n",
    "    - Python for astronomers course http://python4esac.github.io/  written by Tom Aldcroft, Tom Robitaille, Brian Refsdal, Gus Muench (Copyright 2011, Smithsonian Astrophysical Observatory; Creative common license), but also http://python4astronomers.github.io/.\n",
    "    - Visual way to see how a code is running and how objects are called and filled  http://www.pythontutor.com/visualize.html#mode=edit\n",
    "    - Concise overview of python capabilities (containers, variable types, operators, ...): https://www.tutorialspoint.com/python/index.htm\n",
    "    - Style guide for python coding: https://www.python.org/dev/peps/pep-0008/\n",
    "    - args and kwargs: https://realpython.com/python-kwargs-and-args/\n",
    "    \n",
    "* Jupyter Notebooks: \n",
    "    - General: https://www.datacamp.com/community/tutorials/tutorial-jupyter-notebook#gs.HoI=454\n",
    "    - Syntax: https://guides.github.com/features/mastering-markdown/     \n",
    "       \n",
    "* About interpreted/compiled language:   \n",
    "    - General: https://thesocietea.org/2015/07/programming-concepts-compiled-and-interpreted-languages/  \n"
   ]
  },
  {
   "cell_type": "code",
   "execution_count": null,
   "id": "198dff53-9256-45f3-b8ea-4e6158181b03",
   "metadata": {},
   "outputs": [],
   "source": []
  }
 ],
 "metadata": {
  "kernelspec": {
   "display_name": "Python [conda env:py3_lectures]",
   "language": "python",
   "name": "conda-env-py3_lectures-py"
  },
  "language_info": {
   "codemirror_mode": {
    "name": "ipython",
    "version": 3
   },
   "file_extension": ".py",
   "mimetype": "text/x-python",
   "name": "python",
   "nbconvert_exporter": "python",
   "pygments_lexer": "ipython3",
   "version": "3.7.11"
  }
 },
 "nbformat": 4,
 "nbformat_minor": 5
}
