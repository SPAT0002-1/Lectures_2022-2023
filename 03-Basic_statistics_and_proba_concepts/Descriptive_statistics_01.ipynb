{
 "cells": [
  {
   "cell_type": "markdown",
   "metadata": {},
   "source": [
    "## Descriptive statistics: Quantities describing distribution functions"
   ]
  },
  {
   "cell_type": "markdown",
   "metadata": {},
   "source": [
    "- [Recap on quantities describing distribution functions](#Descriptive)\n",
    "    * I. [Population Statistics](#I.-Population-statistics)\n",
    "    * II. [Sample Statistics](#II.-Sample-statistics)\n",
    "    * III. [Bias of an estimator](#III.-Bias-of-an-estimator:)\n",
    "    * IV. [Statistics of multivariate distributions](#IV.-Statistics-of-multivariate-distributions:)\n",
    "    * V. [Change of variable](#V.-Change-of-variable)\n",
    "\n",
    "- [References and supplementary material](#X.-References-and-supplementary-material:)"
   ]
  },
  {
   "cell_type": "code",
   "execution_count": 1,
   "metadata": {},
   "outputs": [],
   "source": [
    "#Modules to be used in this notebook\n",
    "import numpy as np\n",
    "import scipy.stats\n",
    "import matplotlib.pyplot as plt\n",
    "#%matplotlib inline    # No need to use %matplotlib inline if I use plt.show after running my code !"
   ]
  },
  {
   "cell_type": "markdown",
   "metadata": {},
   "source": [
    "# Recap on quantities describing distribution functions   <a class=\"anchor\" id=\"Descriptive\"></a>\n",
    "\n",
    "\n",
    "\n",
    "## I. Population statistics\n",
    "\n",
    "These are the quantities that allow to define the \"location\", \"shape\" and \"width\" of a distribution $h(x)$. Note here that we consider a description of the \"true\" (population) distribution, that we why we use the notation $h(x)$ (i.e. this is NOT the distribution we infer from the data but the true underlying distribution). "
   ]
  },
  {
   "cell_type": "code",
   "execution_count": 2,
   "metadata": {},
   "outputs": [],
   "source": [
    "# Let's illustrate those quantities with a gaussian distribution\n",
    "x = np.arange(-6,6,0.01) # Array over which I will estimate some properties of my gaussian\n",
    "g = scipy.stats.norm()  # Instance of a gaussian distribution"
   ]
  },
  {
   "cell_type": "markdown",
   "metadata": {},
   "source": [
    "### Arithmetic mean (also known expectation value):\n",
    "\n",
    "$$\n",
    "\\mu \\, =\\, E(x) \\, = \\, \\int_{-\\infty}^{+\\infty} x\\,h(x)\\,{\\rm d}x\n",
    "$$\n",
    "\n",
    "Note that the \"expected/expectation value \" is also often writen $<x>$.  "
   ]
  },
  {
   "cell_type": "code",
   "execution_count": 3,
   "metadata": {},
   "outputs": [
    {
     "data": {
      "text/plain": [
       "0.0"
      ]
     },
     "execution_count": 3,
     "metadata": {},
     "output_type": "execute_result"
    }
   ],
   "source": [
    "g.mean()  #Arithmetic mean of our gaussian distribution"
   ]
  },
  {
   "cell_type": "markdown",
   "metadata": {},
   "source": [
    "### Variance\n",
    "\n",
    "$$\n",
    "V \\, = \\, \\sigma^2 \\, = \\, \\int_{-\\infty}^{+\\infty} (x-\\mu)^2\\,h(x)\\,{\\rm d}x\n",
    "$$"
   ]
  },
  {
   "cell_type": "code",
   "execution_count": 4,
   "metadata": {},
   "outputs": [
    {
     "data": {
      "text/plain": [
       "1.0"
      ]
     },
     "execution_count": 4,
     "metadata": {},
     "output_type": "execute_result"
    }
   ],
   "source": [
    "g.var()  #Variance of our gaussian distribution"
   ]
  },
  {
   "cell_type": "markdown",
   "metadata": {},
   "source": [
    "### Standard deviation\n",
    "\n",
    "$$\n",
    "\\sigma \\, = \\, \\sqrt{V}\n",
    "$$"
   ]
  },
  {
   "cell_type": "code",
   "execution_count": 5,
   "metadata": {},
   "outputs": [
    {
     "data": {
      "text/plain": [
       "1.0"
      ]
     },
     "execution_count": 5,
     "metadata": {},
     "output_type": "execute_result"
    }
   ],
   "source": [
    "g.std()  #Standard deviation of our gaussian distribution"
   ]
  },
  {
   "cell_type": "markdown",
   "metadata": {},
   "source": [
    "### Skewness\n",
    "\n",
    "$$\n",
    "\\Sigma = \\int_{-\\infty}^{+\\infty} \\left( \\frac{x-\\mu}{\\sigma}\\right)^3\\,h(x)\\,{\\rm d}x\n",
    "$$\n",
    "\n",
    "Skweness describes how \"asymmetric\" is the distribution"
   ]
  },
  {
   "cell_type": "code",
   "execution_count": 6,
   "metadata": {},
   "outputs": [
    {
     "data": {
      "text/plain": [
       "0.003997323571090896"
      ]
     },
     "execution_count": 6,
     "metadata": {},
     "output_type": "execute_result"
    }
   ],
   "source": [
    "# It is not a property of the distribution in scipy.stats. \n",
    "# But you can use scipy.stats.skew() to calculate skewness of a data set (SAMPLE statistics ; see below)\n",
    "y_gauss_samp = g.rvs(1000000)  # I generate a (large) random sample following a gaussian distrib\n",
    "scipy.stats.skew(y_gauss_samp)  #Skewness of our gaussian distribution "
   ]
  },
  {
   "cell_type": "markdown",
   "metadata": {},
   "source": [
    "### Kurtosis\n",
    "\n",
    "$$\n",
    "K \\, = \\, \\int_{-\\infty}^{+\\infty} \\left( \\frac{x-\\mu}{\\sigma}\\right)^4\\,h(x)\\,{\\rm d}x - 3\n",
    "$$\n",
    "\n",
    "Kurtosis describes how \"peaky\" is the distribution (note the subtraction by 3 which allows us to have K=0 for a gaussian distribution). Kurtosis > 0 means that the distribution if more peaked than a gaussian. "
   ]
  },
  {
   "cell_type": "code",
   "execution_count": 7,
   "metadata": {},
   "outputs": [
    {
     "data": {
      "text/plain": [
       "-0.004178389201262345"
      ]
     },
     "execution_count": 7,
     "metadata": {},
     "output_type": "execute_result"
    }
   ],
   "source": [
    "# It is not a property of the distribution in scipy.stats\n",
    "# But you can use scipy.stats.kurtosis() to calculate kurtosis of a data set  (SAMPLE statistics ; see below)\n",
    "scipy.stats.kurtosis(y_gauss_samp)  #Kurtosis of our gaussian distribution "
   ]
  },
  {
   "cell_type": "markdown",
   "metadata": {},
   "source": [
    "### Median\n",
    "\n",
    "$$\n",
    "\\frac{1}{2} \\, = \\, \\int_{-\\infty}^{median} \\, h(x)\\, {\\rm d}x\n",
    "$$"
   ]
  },
  {
   "cell_type": "code",
   "execution_count": 8,
   "metadata": {},
   "outputs": [
    {
     "data": {
      "text/plain": [
       "0.0"
      ]
     },
     "execution_count": 8,
     "metadata": {},
     "output_type": "execute_result"
    }
   ],
   "source": [
    "g.median()    # Median of the gaussian distribution"
   ]
  },
  {
   "cell_type": "markdown",
   "metadata": {},
   "source": [
    "### Moment of order k\n",
    "\n",
    "The moment of order k is defined analogously to the mean (central moment of order 1):\n",
    "$$\n",
    "\\mu^{\\prime}_k \\, = E(x^k) = \\, \\int_{-\\infty}^{+\\infty} x^k\\,h(x)\\,{\\rm d}x\n",
    "$$"
   ]
  },
  {
   "cell_type": "code",
   "execution_count": 15,
   "metadata": {},
   "outputs": [
    {
     "name": "stdout",
     "output_type": "stream",
     "text": [
      "Moment of order 1 = 2.00\n",
      "Moment of order 2 = 5.00\n",
      "Moment of order 3 = 14.00\n",
      "Moment of order 4 = 43.00\n"
     ]
    }
   ],
   "source": [
    "# The function g.moment() return the moment of the distrib. \n",
    "g2 = scipy.stats.norm(2, 1)\n",
    "for k in range(1,5):\n",
    "    print('Moment of order %i = %.2f' %(k, g2.moment(k)))"
   ]
  },
  {
   "cell_type": "markdown",
   "metadata": {},
   "source": [
    "### Central moment of order k\n",
    "\n",
    "The central moments of order $k$ are defined analogously to the variance of the distribution (central moment of order $k=2$):\n",
    "$$\n",
    "\\mu_k \\, = \\, E((x-\\mu^\\prime_1)^k) \\, = \\int_{-\\infty}^{+\\infty} (x-\\mu)^k\\,h(x)\\,{\\rm d}x\n",
    "$$"
   ]
  },
  {
   "cell_type": "code",
   "execution_count": 16,
   "metadata": {},
   "outputs": [
    {
     "name": "stdout",
     "output_type": "stream",
     "text": [
      "Moment of order 1 = 0.00\n",
      "Moment of order 2 = 4.00\n",
      "Moment of order 3 = 0.00\n",
      "Moment of order 4 = 48.00\n"
     ]
    }
   ],
   "source": [
    "# To get the central moments, we need to shift our distribution to its mean => fix the mean to 0\n",
    "# Let's take a distribution with sigma = 2\n",
    "g3 = scipy.stats.norm(0, 2)\n",
    "for k in range(1,5):\n",
    "    print('Moment of order %i = %.2f' %(k, g3.moment(k)))"
   ]
  },
  {
   "cell_type": "code",
   "execution_count": 2,
   "metadata": {},
   "outputs": [
    {
     "data": {
      "image/png": "[encoded data removed]",
      "text/plain": [
       "<matplotlib.figure.Figure at 0xa1aab82e8>"
      ]
     },
     "metadata": {},
     "output_type": "display_data"
    }
   ],
   "source": [
    "# Figure 3.6 from \"Statistics, Data Mining, and Machine Learning in Astronomy\"\n",
    "# Author: Jake VanderPlas\n",
    "# License: BSD\n",
    "#   The figure produced by this code is published in the textbook\n",
    "#   \"Statistics, Data Mining, and Machine Learning in Astronomy\" (2013)\n",
    "#   For more information, see http://astroML.github.com\n",
    "#   To report a bug or issue, use the following forum:\n",
    "#    https://groups.google.com/forum/#!forum/astroml-general\n",
    "import numpy as np\n",
    "from scipy import stats\n",
    "from matplotlib import pyplot as plt\n",
    "%matplotlib inline\n",
    "\n",
    "fig = plt.figure(figsize=(5, 6.25))\n",
    "fig.subplots_adjust(right=0.95, hspace=0.05, bottom=0.07, top=0.95)\n",
    "\n",
    "# First show distributions with different skeq\n",
    "ax = fig.add_subplot(211)\n",
    "x = np.linspace(-8, 8, 1000)\n",
    "N = scipy.stats.norm(0, 1)\n",
    "\n",
    "l1, = ax.plot(x, N.pdf(x), '-k',\n",
    "              label=r'${\\rm Gaussian,}\\ \\Sigma=0$')\n",
    "\n",
    "l2, = ax.plot(x, 0.5 * N.pdf(x) * (2 + x + 0.5 * (x * x - 1)),\n",
    "              '--k', label=r'${\\rm mod.\\ Gauss,}\\ \\Sigma=-0.36$')\n",
    "l3, = ax.plot(x[499:], scipy.stats.lognorm(1.2).pdf(x[499:]), '-.k',\n",
    "              label=r'$\\rm log\\ normal,\\ \\Sigma=11.2$')\n",
    "\n",
    "ax.set_xlim(-5, 5)\n",
    "ax.set_ylim(0, 0.7001)\n",
    "ax.set_ylabel('$p(x)$')\n",
    "ax.xaxis.set_major_formatter(plt.NullFormatter())\n",
    "\n",
    "# trick to show multiple legends\n",
    "leg1 = ax.legend([l1], [l1.get_label()], loc=1)\n",
    "leg2 = ax.legend([l2, l3], (l2.get_label(), l3.get_label()), loc=2)\n",
    "ax.add_artist(leg1)\n",
    "ax.set_title('Skew $\\Sigma$ and Kurtosis $K$')\n",
    "\n",
    "# next show distributions with different kurtosis\n",
    "ax = fig.add_subplot(212)\n",
    "x = np.linspace(-5, 5, 1000)\n",
    "l1, = ax.plot(x, scipy.stats.laplace(0, 1).pdf(x), '--k',\n",
    "              label=r'${\\rm Laplace,}\\ K=+3$')\n",
    "l2, = ax.plot(x, scipy.stats.norm(0, 1).pdf(x), '-k',\n",
    "              label=r'${\\rm Gaussian,}\\ K=0$')\n",
    "l3, = ax.plot(x, scipy.stats.cosine(0, 1).pdf(x), '-.k',\n",
    "              label=r'${\\rm Cosine,}\\ K=-0.59$')\n",
    "l4, = ax.plot(x, scipy.stats.uniform(-2, 4).pdf(x), ':k',\n",
    "              label=r'${\\rm Uniform,}\\ K=-1.2$')\n",
    "\n",
    "ax.set_xlim(-5, 5)\n",
    "ax.set_ylim(0, 0.55)\n",
    "ax.set_xlabel('$x$')\n",
    "ax.set_ylabel('$p(x)$')\n",
    "\n",
    "# trick to show multiple legends\n",
    "leg1 = ax.legend((l1, l2), (l1.get_label(), l2.get_label()), loc=2)\n",
    "leg2 = ax.legend((l3, l4), (l3.get_label(), l4.get_label()), loc=1)\n",
    "ax.add_artist(leg1)\n",
    "\n",
    "plt.show()"
   ]
  },
  {
   "cell_type": "markdown",
   "metadata": {},
   "source": [
    "An example of distributions with different skewness $\\Sigma$ (top panel) and kurtosis $K$ (bottom panel). The modified Gaussian in the upper panel is a normal distribution multiplied by a Gram-Charlier series, with $a_0 = 2$, $a_1 = 1$, and $a_2 = 0.5$. The log-normal has $\\sigma = 1.2$."
   ]
  },
  {
   "cell_type": "markdown",
   "metadata": {},
   "source": [
    "## II. Sample statistics\n",
    "\n",
    "We speak of **sample statistics** when the quantities described above are directly deduced **from the data**. If we assume that we have $N$ measurements ${x_i}$, then we can calculate **estimators** of the various quantities (assuming for the moment that the uncertainty of $x_i$ is negligible - a measurement of $x$ is a delta function-, or at least much smaller than the range of $x_i$) describing the pdf.  "
   ]
  },
  {
   "cell_type": "markdown",
   "metadata": {},
   "source": [
    "### Estimator of the mean:    \n",
    "\n",
    "$$\n",
    "\\hat{\\mu} \\, =\\, {\\bar{x}} = \\sum_{i=1}^{N} \\frac{x_i}{N}\n",
    "$$\n",
    "\n",
    "There is various notations for the estimator of the mean. Our [book](#book) uses $\\bar{x}$, but I prefer the abusive notation that adds a \"hat\" ($\\hat{ }$) on top of the estimated quantity (i.e. estimated based on the data). You may also find $\\hat{x}$ for the estimator of the mean. This is an \"abusive notation\" because ${\\hat{\\theta}}$ is in principle reserved (in books of statistics) to the MLE (maximum likelihood) estimator of a parameter. In many situations, both are identical (e.g. estimator mean of a gaussian is equal to its MLE estimator)."
   ]
  },
  {
   "cell_type": "code",
   "execution_count": 43,
   "metadata": {},
   "outputs": [
    {
     "name": "stdout",
     "output_type": "stream",
     "text": [
      "The mean of the distribution is 0.00\n",
      "The estimator of the mean for my sample y_samp of 10 points is -0.54\n"
     ]
    }
   ],
   "source": [
    "# If we take a canonical normal distribution \n",
    "g = scipy.stats.norm(0, 1)\n",
    "# The mean of the distribution is: \n",
    "print('The mean of the distribution is %.2f' %g.mean())\n",
    "# The sample mean can be calculated for a sample drawn from that distribution; let's take a sample of 10 values\n",
    "y_samp = g.rvs(10)\n",
    "print('The estimator of the mean for my sample y_samp of 10 points is %.2f' %y_samp.mean())"
   ]
  },
  {
   "cell_type": "markdown",
   "metadata": {},
   "source": [
    "### Estimator of the Standard deviation:\n",
    "\n",
    "$$\n",
    "\\hat{\\sigma} = \\,s \\, = \\sqrt{\\frac{1}{N-1}} \\, \\sqrt{ \\sum_{i=1}^{N} (x_i-\\bar{x})^2} \n",
    "$$\n",
    "\n",
    "Note here the factor N-1 because, said shortly, we have already used 1 d.o.f.  to estimate ${\\bar{x}}$. Thanks to this \"correction\", $s^2$ is an *unbiased* estimator of the variance. \n",
    "\n",
    "Also, keep in mind that $s$ IS NOT the error on $\\bar{x}$. The error on $\\bar{x}$ is given by the **standard error on the mean** which is given (for large $N$ and ${\\bar{x}}$ following a gaussian distrib.) by:    \n",
    "$$\n",
    "stde = \\sigma_{\\bar{x}}= \\frac{s}{\\sqrt{N}}\n",
    "$$\n",
    "\n",
    "This is a **consequence of the central limit theorem** (i.e. when independent random variables are added, their sum tends toward a normal distribution even if the original variables themselves are not normally distributed): for a population (sample) drawn from a distribution $h(x)$ (of finite width / variance), the mean of $N$ values drawn from that distribution follow a Gaussian $N\\left(\\mu, \\frac{\\sigma}{\\sqrt{N}}\\right)$"
   ]
  },
  {
   "cell_type": "code",
   "execution_count": 46,
   "metadata": {},
   "outputs": [
    {
     "name": "stdout",
     "output_type": "stream",
     "text": [
      "The std of the distribution is 1.00\n",
      "The estimator of the std for my sample y_samp of 10 points is 1.13\n"
     ]
    }
   ],
   "source": [
    "# The mean of the distribution is: \n",
    "print('The std of the distribution is %.2f' %g.std())\n",
    "# The sample std can be calculated for a sample drawn from that distribution; let's take a sample of 10 values\n",
    "print('The estimator of the std for my sample y_samp of 10 points is %.2f' %y_samp.std(ddof=1))"
   ]
  },
  {
   "cell_type": "markdown",
   "metadata": {},
   "source": [
    "### ABOUT VARIANCE and std calculation by NUMPY:\n",
    "\n",
    "The variance in numpy is the average of the squared deviations from the mean, i.e., $\\sigma^2 = mean(abs(x -$ `x.mean()`$)^2)$, where the mean is calculated as `x.sum()`$/ N$, where $N = $`len(x)`. If, however, `ddof` is specified (i.e. `np.var(x, ddof)`), the divisor $N - {\\rm ddof}$ is used instead.\n",
    "\n",
    "=> If you want to have $N-1$ at the denominator use `np.var(x, ddof=1)`. By default ddof=0. The same is true for the calculation of the standard deviation  `np.std(x, ddof=1)`. "
   ]
  },
  {
   "cell_type": "code",
   "execution_count": null,
   "metadata": {
    "collapsed": true,
    "jupyter": {
     "outputs_hidden": true
    }
   },
   "outputs": [],
   "source": []
  },
  {
   "cell_type": "markdown",
   "metadata": {},
   "source": [
    "## III. Bias of an estimator:\n",
    "\n",
    "An estimator is called biased, if its value does not converge to the \"truth\" (i.e. to the quantity it estimates as derived knowing the true distribution). The bias is defined as the *expectation value* (i.e. average) of the difference between an estimator and its population value:\n",
    "\n",
    "$$\n",
    "bias(\\hat{q}) \\, = \\, E(\\hat{q} - q) \\, = <\\,\\hat{q} - q \\,> \n",
    "$$\n",
    "where $q$ represents any statistical quantity, and $\\hat{q}$ its estimator. \n",
    "\n",
    "In addition to the bias, estimators are also characterized by some *variance* $V$. The *mean squared error* is often used to judge the quality of an estimator: \n",
    "\n",
    "$$\n",
    "{\\rm MSE} \\, = \\, V + bias^2(\\hat{q})\n",
    "$$\n",
    "\n",
    "Note also that statisticians also speak of \"consistency\" of an estimator, which is different from the bias. An estimator is called consistent if its value, obtained for an infinitely large sample, converges to its \"true\" value, and its variance $V$ vanishes. Surprisingly, an estimator can be unbiased, but not consistent. Imagine that you estimate the mean of your sample simply based on the first value you measure (this won't -generally- be a maximum likelihood estimator but you can do this !). Then, even if ~~your sample becomes infinitely large~~ you repeat your experiment an infinitely large number of times, the expectation value of the mean converges to 0 but the expectation of the variance will not. "
   ]
  },
  {
   "cell_type": "markdown",
   "metadata": {},
   "source": [
    "## IV. Statistics of multivariate distributions:\n",
    "\n",
    "We won't have time to explore those in details, nor the generalization to more than 2 random variables. You could e.g. consult Sect. 3.5 and 3.6 of our reference [book](#book) to learn more about multivariate statistics. (see also [Sect. I.4b of Basic-statistics_01.ipynb](Basic-statistics_01.ipynb) ) \n",
    "\n",
    "In short, the concepts introduced for univariate distribution are easily extended in 2D and N-D. For example, a 2-D pdf $h(x,y)$ represents the probability for $x$ to be in $[x+{\\rm d}x[$ **and** for $y$ to be in $[y+{\\rm d}y[$. In addition, we should have $\\int_{-\\infty}^{+\\infty} \\int_{-\\infty}^{+\\infty} \\, h(x,y) \\, {\\rm d}x {\\rm d}y = 1$. \n",
    "\n",
    "In analogy to univariate distribution, we have the mean and variance defined for $x$ that are:    \n",
    "\n",
    "$$\n",
    "\\mu_x \\, = \\, \\int_{-\\infty}^{+\\infty} \\int_{-\\infty}^{+\\infty} \\, x \\, h(x,y) \\, {\\rm d}x {\\rm d}y \n",
    "$$\n",
    "\n",
    "and \n",
    "\n",
    "$$\n",
    "V_x \\, = \\, \\int_{-\\infty}^{+\\infty} \\int_{-\\infty}^{+\\infty} \\, (x-\\mu_x)^2 \\, h(x,y) \\, {\\rm d}x {\\rm d}y \n",
    "$$\n",
    "\n",
    "The same quantities are defined for $y$. \n",
    "\n",
    "The co-variance, that expresses the dependence between $x$ and $y$, is calculated as:\n",
    "\n",
    "$$\n",
    "V_{xy} \\, = \\, \\int_{-\\infty}^{+\\infty} \\int_{-\\infty}^{+\\infty} \\, (x-\\mu_x)(x-\\mu_y) \\, h(x,y) \\, {\\rm d}x {\\rm d}y \n",
    "$$\n",
    "\n",
    "This *covariance* is also written $Cov(x,y)$, and is equal to zero when two variables are independent. "
   ]
  },
  {
   "cell_type": "markdown",
   "metadata": {},
   "source": [
    "## V. Change of variable\n",
    "\n",
    "It is often necessary to change a probability distribution $h(x)$ into a probability distribution $g(y)$, where $y$ is a function of $x$. For a continuous function, we can write:\n",
    "\n",
    "$$\n",
    "h(x)\\,{\\rm{d}}x = g(y){\\rm{d}}y\n",
    "$$\n",
    "\n",
    "Indeed, the probability has to be conserved by the change of variable. Consequently, the transformation of the probabilities is just the same as for normal functions:\n",
    "\n",
    "$$\n",
    "h(x) = g(y(x)) \\, \\left| \\frac{{\\rm{d}}y}{{\\rm{d}}x} \\right|\n",
    "$$"
   ]
  },
  {
   "cell_type": "markdown",
   "metadata": {},
   "source": [
    "# X. References and supplementary material:\n",
    "\n",
    "Chapter 3 (3.2) of the book *Statistics, data mining and Machine learning in astronomy* by Z. Ivezic et al. in Princeton Series in Modern Astronomy.\n",
    "\n",
    "*All of statistics: a concise course in statistical inference*, Wasserman 2004 (see also errata in http://www.stat.cmu.edu/~larry/all-of-statistics/).\n",
    "\n",
    "Numerical recipes by Press et al. Cambridge University press: Chapter 14"
   ]
  },
  {
   "cell_type": "code",
   "execution_count": null,
   "metadata": {},
   "outputs": [],
   "source": []
  }
 ],
 "metadata": {
  "anaconda-cloud": {},
  "kernelspec": {
   "display_name": "Python [conda env:intel-python3]",
   "language": "python",
   "name": "conda-env-intel-python3-py"
  },
  "language_info": {
   "codemirror_mode": {
    "name": "ipython",
    "version": 3
   },
   "file_extension": ".py",
   "mimetype": "text/x-python",
   "name": "python",
   "nbconvert_exporter": "python",
   "pygments_lexer": "ipython3",
   "version": "3.7.9"
  },
  "widgets": {
   "state": {
    "73dcb2b4a9a948798983266546ccb720": {
     "views": [
      {
       "cell_index": 31
      }
     ]
    },
    "7debad9bd7b94e45ac3427ce107e9674": {
     "views": [
      {
       "cell_index": 38
      }
     ]
    }
   },
   "version": "1.2.0"
  }
 },
 "nbformat": 4,
 "nbformat_minor": 4
}
