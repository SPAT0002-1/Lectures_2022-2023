{
 "cells": [
  {
   "cell_type": "markdown",
   "metadata": {},
   "source": [
    "# Numpy and Matplotlib synthesis exercise\n",
    "\n",
    "\n",
    "Read the data file `Variability_Catalina_list1.csv` which contains lightcurves of an ensemble of objectsobserved in the context of the Catalina survey (http://nesssi.cacr.caltech.edu/DataRelease/). \n",
    "\n",
    "This file contains the following columns separated by 'tab' characters: `InputID\tID\tMag\tMagerr\tRA\tDecl\tMJD\tBlend`. Their meaning is the following: \n",
    "* [0] `InputID`: Object Name \n",
    "* [1] `ID`: Object ID in the survey\n",
    "* [2] `Mag`: Object Magnitude ($ m = -2.5 * \\log(Flux)$ + zeropoint)\n",
    "* [3] `Magerr`: Formal error on the magnitude\n",
    "* [4] `RA`: Right ascension  (degrees)\n",
    "* [5] `Decl`: Declination  (degrees)\n",
    "* [6] `MJD`: Modified julian day (day). \n",
    "* [7] `Blend`: 0 if the measurement is clean, 1 if there is a possible contamination by another target. \n",
    "\n",
    "The file contains the observed magnitude of the following (gravitationally lensed) quasars: 'DESJ0407-5006', 'HE1104-1805', 'HS2209+1914' 'J0011-0845', 'J0228+3953', 'Q1355-2257', 'SDSSJ0904+1512'. \n",
    "You want to visualise the lightcurve (x=MJD, y=Mag, yerr=Maggerr) associated to each individual object. You also want to measure its mean magnitude, and the standard deviation on the magnitude, as well as its minimum / maximum magnitude over the period of observation and save those value into a table. Try to reach this goal using only \"standard\" python commands and commands from numpy and matplotlib arrays. To ease your task, a possible methodology is outlined below.  \n",
    "\n",
    "**Possible methodology:**\n",
    "- (1) Read the file and save the output into a numpy array. How many rows and columns does contain the array ? What is the dtype of your array ? \n",
    "- (2) Create a sub-array for a single object (e.g. HS2209+1914) using fancy indexing. \n",
    "- (3) create an array with 4 columns `MJD, Mag, magerr, blend` , converting strings to floats.\n",
    "- (4) Get rid of data points with Blend > 0 \n",
    "- (5) Plot the lightcurve at the screen \n",
    "- (6) Calculates mean, std, min, max with numpy \n",
    "- (7) Repeat the operation for the 7 objects using a for loop.i.e. you can create a list of arrays, each one containing MJD, mag, magerr for each object. In the same loop you can make a plot. You can include the plotting in the loop. To plot into a single figure, think of using plt.subplots(rows=7, figsize=(15,20)). \n",
    "- BONUS: How would you proceed to know the names of the individual objects if I did not provide the list ? \n",
    "\n",
    "**TIPs:** \n",
    "\n",
    "* A file's row mixes strings and floats. You may therefore first create an array of strings (1 single dtype in an array). One of the arguments of `np.loadtxt()` is the data type, so you can read a list of strings with `np.loadtxt(filename, dtype=str)`\n",
    "* To convert an array of numbers whose type is strings into float: \n",
    "``` python \n",
    "myarray_strings = np.array(['1', '2', '3'])  \n",
    "myarray_floats = np.array(myarray_strings , dtype = float)\n",
    "```"
   ]
  },
  {
   "cell_type": "code",
   "execution_count": null,
   "metadata": {},
   "outputs": [],
   "source": []
  }
 ],
 "metadata": {
  "kernelspec": {
   "display_name": "Python 3",
   "language": "python",
   "name": "python3"
  },
  "language_info": {
   "codemirror_mode": {
    "name": "ipython",
    "version": 3
   },
   "file_extension": ".py",
   "mimetype": "text/x-python",
   "name": "python",
   "nbconvert_exporter": "python",
   "pygments_lexer": "ipython3",
   "version": "3.7.7"
  }
 },
 "nbformat": 4,
 "nbformat_minor": 4
}
