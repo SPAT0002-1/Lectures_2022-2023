{
 "cells": [
  {
   "cell_type": "markdown",
   "metadata": {},
   "source": [
    "# Distribution of the sample mean and sample variance\n",
    "\n",
    "This exercise aims at generating random samples to verify that the distribution of the sample mean of a RV is normal distribtion and the one of the sample variance is a $\\chi^2$ distribution. \n",
    "\n",
    "Generate e.g. N = 10000 samples of random variables of e.g. n=30 points, to verify that the error you do by estimating the mean of a Gaussian distribution is $stde \\, = \\, \\sigma_\\bar{x} = \\, s / \\sqrt{n}$, where $n$ is the number of points used to estimate the mean $\\bar{x}$. \n",
    "For simplicity work with a normal distribution N(0,1).\n",
    "\n",
    "Bonus:    \n",
    "What is the distribution of the sample variance ($\\sigma^2_{\\bar x}$) and what is the error you do on the variance ? \n",
    "\n",
    "Remember: \n",
    "If the sample contains $n$ data points:    \n",
    "=> The **sample mean** is effectively distributed as a **normal distribution $N(\\mu, \\sigma/\\sqrt{n})$**    \n",
    "=> If $s^2 = \\hat{\\sigma}^2$ is the **sample variance**, then $(n-1)*s^2 / \\sigma^2$ is effectively distributed as a **chi2 distribution with $(n-1)$ degrees of freedom** (see [Descriptive_statistics_02.ipynb](../03-Basic_statistics_and_proba_concepts/Descriptive_statistics_02.ipynb)).   \n",
    "For a $N(\\mu, \\sigma)$ distribution, the error on the estimator of the variance is $\\hat{\\sigma}^2 \\sqrt{2\\,/(n-1)}$.      \n",
    "The error on the sample **standard deviation** is $\\hat{\\sigma} / \\sqrt{2(n-1)}$    \n"
   ]
  },
  {
   "cell_type": "code",
   "execution_count": null,
   "metadata": {},
   "outputs": [],
   "source": [
    "# Solution to the Exercise \n",
    "# Definition of the parent population\n",
    "\n",
    "\n",
    "N_samples=10000  # number of samples we will draw\n",
    "\n",
    "npt=30 # number of points of an individual sample\n",
    "\n",
    "# let's draw N times a sample of npt points from the normal population distribution \n",
    "\n",
    "for i in range(N_samples):\n",
    "      # Generate random sample \n",
    "    # Let's calculate the mean and variance of the distribution and save it in two arrays \n",
    "    "
   ]
  },
  {
   "cell_type": "code",
   "execution_count": null,
   "metadata": {},
   "outputs": [],
   "source": [
    "## PLOTTING \n",
    "\n",
    "# PLOT OF THE MEAN: \n",
    "\n",
    "# PLOT of the VARIANCE \n"
   ]
  },
  {
   "cell_type": "code",
   "execution_count": null,
   "metadata": {},
   "outputs": [],
   "source": [
    "# Let's first compare the std of the sample mean and compare with the formula expectation\n",
    "# MEAN\n",
    "# Gaussian distribution that should reproduce the (pdf of the) sample mean\n",
    "\n",
    "# Overploting the mean on the distribution from the sample means \n",
    "\n",
    "# PLOT OF THE MEAN: \n",
    "\n",
    "# Plot the the \"expected\" distribution (i.e. expectation from theory)\n"
   ]
  },
  {
   "cell_type": "code",
   "execution_count": 6,
   "metadata": {},
   "outputs": [],
   "source": [
    "# Let's now look at the VARIANCE\n",
    "# The distribution of the variance is NOT a normal distribution (remember distribution of sum(z^2) )\n",
    "      # chi2 for n-1 dof  \n",
    "\n",
    "# Distribution of the \"normalised\" sample variance, namely: (n-1)*S**2 / sigma^2 is a chi2 distrib. with n-1 ddof\n",
    "\n",
    "\n",
    "# gaussian approximation for the sample (normalized) variance\n",
    "\n",
    "\n",
    "## PLOTTING \n",
    "\n",
    "\n",
    "# PLOT of the VARIANCE (normalised )\n",
    "#\n",
    "# Sample normalised variance\n",
    "\n",
    "# \"True\" chi2 distribution associated to the variance (n-1)*S**2 / sigma^2\n",
    "\n",
    "# Gaussian approximation to the normalised variance\n",
    "\n",
    "\n",
    "# Note that when we estimate the std on of the estimator of the variance we use ddof = 1 \n",
    "# because we estimate it from a distribution for which we do not know the variance\n",
    "# Change npt to 5pts ... see the difference !"
   ]
  },
  {
   "cell_type": "markdown",
   "metadata": {},
   "source": [
    "From this exercise, we should notice that:     \n",
    "1) The width of the distribution of the mean is proportional to $1./\\sqrt{N}$. This confirms the 1/sqrt(N) in estimating the error on the mean.     \n",
    "2) The width of the $\\chi^2$ distribution of the sample std is $\\hat{\\sigma} / \\sqrt{2(n-1)}$.    \n",
    "3) The distribution of the variance becomes normal when $n$ becomes large. For typically 20-30 points, the chi-square is well approximated by a gaussian.  "
   ]
  },
  {
   "cell_type": "code",
   "execution_count": null,
   "metadata": {},
   "outputs": [],
   "source": []
  }
 ],
 "metadata": {
  "kernelspec": {
   "display_name": "Python [conda env:intel-python3]",
   "language": "python",
   "name": "conda-env-intel-python3-py"
  },
  "language_info": {
   "codemirror_mode": {
    "name": "ipython",
    "version": 3
   },
   "file_extension": ".py",
   "mimetype": "text/x-python",
   "name": "python",
   "nbconvert_exporter": "python",
   "pygments_lexer": "ipython3",
   "version": "3.7.7"
  }
 },
 "nbformat": 4,
 "nbformat_minor": 4
}
