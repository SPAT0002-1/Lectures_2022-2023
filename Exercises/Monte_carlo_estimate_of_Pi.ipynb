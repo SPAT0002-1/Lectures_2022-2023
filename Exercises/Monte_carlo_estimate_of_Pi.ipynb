{
 "cells": [
  {
   "cell_type": "markdown",
   "metadata": {},
   "source": [
    "# Calculation of $\\pi$\n",
    "\n",
    "\n",
    "This exercise requires to understand the Monte-Carlo method and some basic statistical concepts. Best suited after the following notebook [Frequentist_inference_02.ipynb](../04-Basic_statistical_inference_frequentists_2/Frequentist_inference_02.ipynb) hase been covered. \n",
    "\n",
    "## Antiquity method:\n",
    "\n",
    "It is often considered that this method has been devised by ancient Greeks. \n",
    "\n",
    "- Consider a circle of unit radius ($R=1$). Its area is $A_c = \\pi$. \n",
    "- Consider the square into which this circle is inscripted. It is a square of side $s = 2$. Its area is $A_s = 4$. \n",
    "\n",
    "A simple strategy to calculate $\\pi$ via Monte-Carlo methods consists in randomly drawing points between $[-1,1]$ along x and y / in the square. The ratio between the number of points *in* the circle and *outside* the circle is equal to the ratio of areas, i.e. $\\frac{A_c}{A_s} = \\frac{\\pi}{4}$. \n",
    "\n",
    "(i) Design a simple code to estime $\\pi$ based on this result.  \n",
    "(ii) Verify that the standard error on $\\pi$ derived this way is Poissonian. \n",
    "\n",
    "BONUS: Generate a figure that shows how the precision increases with the number of points. "
   ]
  },
  {
   "cell_type": "code",
   "execution_count": null,
   "metadata": {},
   "outputs": [],
   "source": []
  },
  {
   "cell_type": "code",
   "execution_count": null,
   "metadata": {},
   "outputs": [],
   "source": []
  },
  {
   "cell_type": "code",
   "execution_count": null,
   "metadata": {},
   "outputs": [],
   "source": []
  },
  {
   "cell_type": "code",
   "execution_count": null,
   "metadata": {},
   "outputs": [],
   "source": []
  },
  {
   "cell_type": "code",
   "execution_count": null,
   "metadata": {},
   "outputs": [],
   "source": []
  },
  {
   "cell_type": "markdown",
   "metadata": {},
   "source": [
    "## Method of Buffon's needles \n",
    "\n",
    "https://en.wikipedia.org/wiki/Buffon%27s_needle_problem\n",
    "\n",
    "One draw needles of length $l$ over a over a parquet for which the width of a parquet strip is also $l$. One can show (https://en.wikipedia.org/wiki/Buffon%27s_needle_problem) that the number of needles that cross 2 strip is equal to $2 / \\pi$. Create a short program to simulate the calculation of $\\pi$ from the experiment (there is not need to \"draw the needles on a virtual floor\", just make a thought experience).  \n",
    "\n",
    "Tip: The problem can simplifies numericaly by considering that all the needles have one edge at $y = 0$ (or that the problem does not change if you translate all the needles to y =0). "
   ]
  },
  {
   "cell_type": "code",
   "execution_count": null,
   "metadata": {},
   "outputs": [],
   "source": []
  },
  {
   "cell_type": "code",
   "execution_count": null,
   "metadata": {},
   "outputs": [],
   "source": []
  },
  {
   "cell_type": "code",
   "execution_count": null,
   "metadata": {},
   "outputs": [],
   "source": []
  },
  {
   "cell_type": "code",
   "execution_count": null,
   "metadata": {},
   "outputs": [],
   "source": []
  },
  {
   "cell_type": "code",
   "execution_count": null,
   "metadata": {},
   "outputs": [],
   "source": []
  }
 ],
 "metadata": {
  "kernelspec": {
   "display_name": "Python 3",
   "language": "python",
   "name": "python3"
  },
  "language_info": {
   "codemirror_mode": {
    "name": "ipython",
    "version": 3
   },
   "file_extension": ".py",
   "mimetype": "text/x-python",
   "name": "python",
   "nbconvert_exporter": "python",
   "pygments_lexer": "ipython3",
   "version": "3.7.7"
  }
 },
 "nbformat": 4,
 "nbformat_minor": 4
}
